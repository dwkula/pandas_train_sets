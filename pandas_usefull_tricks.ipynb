{
 "cells": [
  {
   "cell_type": "code",
   "execution_count": 1,
   "id": "362da470-62be-48d0-8352-5905a839bfb4",
   "metadata": {},
   "outputs": [],
   "source": [
    "import pandas as pd\n",
    "import numpy as np"
   ]
  },
  {
   "cell_type": "markdown",
   "id": "37be9450-9f84-4e7f-acc4-617e7a4d81ce",
   "metadata": {},
   "source": [
    "**1. Show installed versions**"
   ]
  },
  {
   "cell_type": "code",
   "execution_count": 2,
   "id": "47f637d3-0e11-4b27-9e4c-87ab83b0814d",
   "metadata": {},
   "outputs": [
    {
     "name": "stdout",
     "output_type": "stream",
     "text": [
      "\n",
      "INSTALLED VERSIONS\n",
      "------------------\n",
      "commit           : 06d230151e6f18fdb8139d09abf539867a8cd481\n",
      "python           : 3.10.0.final.0\n",
      "python-bits      : 64\n",
      "OS               : Windows\n",
      "OS-release       : 10\n",
      "Version          : 10.0.19044\n",
      "machine          : AMD64\n",
      "processor        : Intel64 Family 6 Model 158 Stepping 10, GenuineIntel\n",
      "byteorder        : little\n",
      "LC_ALL           : None\n",
      "LANG             : pl_PL.UTF-8\n",
      "LOCALE           : Polish_Poland.1250\n",
      "\n",
      "pandas           : 1.4.1\n",
      "numpy            : 1.22.1\n",
      "pytz             : 2021.3\n",
      "dateutil         : 2.8.2\n",
      "pip              : 21.3.1\n",
      "setuptools       : 57.4.0\n",
      "Cython           : None\n",
      "pytest           : None\n",
      "hypothesis       : None\n",
      "sphinx           : None\n",
      "blosc            : None\n",
      "feather          : None\n",
      "xlsxwriter       : None\n",
      "lxml.etree       : None\n",
      "html5lib         : None\n",
      "pymysql          : None\n",
      "psycopg2         : None\n",
      "jinja2           : 3.0.3\n",
      "IPython          : 8.1.1\n",
      "pandas_datareader: None\n",
      "bs4              : 4.10.0\n",
      "bottleneck       : None\n",
      "fastparquet      : None\n",
      "fsspec           : None\n",
      "gcsfs            : None\n",
      "matplotlib       : 3.5.1\n",
      "numba            : None\n",
      "numexpr          : None\n",
      "odfpy            : None\n",
      "openpyxl         : None\n",
      "pandas_gbq       : None\n",
      "pyarrow          : None\n",
      "pyreadstat       : None\n",
      "pyxlsb           : None\n",
      "s3fs             : None\n",
      "scipy            : 1.8.0\n",
      "sqlalchemy       : None\n",
      "tables           : None\n",
      "tabulate         : None\n",
      "xarray           : None\n",
      "xlrd             : None\n",
      "xlwt             : None\n",
      "zstandard        : None\n"
     ]
    }
   ],
   "source": [
    "pd.show_versions()"
   ]
  },
  {
   "cell_type": "markdown",
   "id": "bcbc91ab-c886-45c1-a54a-9df29e98279e",
   "metadata": {},
   "source": [
    "**2. Create an example DataFrame**"
   ]
  },
  {
   "cell_type": "code",
   "execution_count": 3,
   "id": "68b98439-60c7-41c3-bcd0-16220299cafd",
   "metadata": {},
   "outputs": [],
   "source": [
    "df = pd.DataFrame(np.random.rand(4, 8), columns=list('abcdefgh')) # by using np random rand function we pass (rows, columns)\n",
    "# it will generate 2 dimensional array which can be interpreted by pandas as a dataframe. We can pass also the column names\n",
    "# so it will be more readable"
   ]
  },
  {
   "cell_type": "markdown",
   "id": "abffb41d-ea89-4d68-8a75-15788f05266f",
   "metadata": {},
   "source": [
    "**3. Rename columns**"
   ]
  },
  {
   "cell_type": "code",
   "execution_count": 4,
   "id": "a872627c-80e0-4e43-8b6b-7f884451be57",
   "metadata": {},
   "outputs": [
    {
     "data": {
      "text/html": [
       "<div>\n",
       "<style scoped>\n",
       "    .dataframe tbody tr th:only-of-type {\n",
       "        vertical-align: middle;\n",
       "    }\n",
       "\n",
       "    .dataframe tbody tr th {\n",
       "        vertical-align: top;\n",
       "    }\n",
       "\n",
       "    .dataframe thead th {\n",
       "        text-align: right;\n",
       "    }\n",
       "</style>\n",
       "<table border=\"1\" class=\"dataframe\">\n",
       "  <thead>\n",
       "    <tr style=\"text-align: right;\">\n",
       "      <th></th>\n",
       "      <th>a</th>\n",
       "      <th>b</th>\n",
       "      <th>c</th>\n",
       "      <th>d</th>\n",
       "      <th>e</th>\n",
       "      <th>f</th>\n",
       "      <th>g</th>\n",
       "      <th>h</th>\n",
       "    </tr>\n",
       "  </thead>\n",
       "  <tbody>\n",
       "    <tr>\n",
       "      <th>0</th>\n",
       "      <td>0.328109</td>\n",
       "      <td>0.605315</td>\n",
       "      <td>0.072623</td>\n",
       "      <td>0.074005</td>\n",
       "      <td>0.343637</td>\n",
       "      <td>0.876347</td>\n",
       "      <td>0.314741</td>\n",
       "      <td>0.013966</td>\n",
       "    </tr>\n",
       "    <tr>\n",
       "      <th>1</th>\n",
       "      <td>0.348700</td>\n",
       "      <td>0.917319</td>\n",
       "      <td>0.790261</td>\n",
       "      <td>0.420661</td>\n",
       "      <td>0.221609</td>\n",
       "      <td>0.262926</td>\n",
       "      <td>0.928702</td>\n",
       "      <td>0.718723</td>\n",
       "    </tr>\n",
       "    <tr>\n",
       "      <th>2</th>\n",
       "      <td>0.218682</td>\n",
       "      <td>0.241995</td>\n",
       "      <td>0.691802</td>\n",
       "      <td>0.392442</td>\n",
       "      <td>0.272287</td>\n",
       "      <td>0.088847</td>\n",
       "      <td>0.947837</td>\n",
       "      <td>0.186637</td>\n",
       "    </tr>\n",
       "    <tr>\n",
       "      <th>3</th>\n",
       "      <td>0.938799</td>\n",
       "      <td>0.176201</td>\n",
       "      <td>0.089792</td>\n",
       "      <td>0.010669</td>\n",
       "      <td>0.738867</td>\n",
       "      <td>0.225566</td>\n",
       "      <td>0.735958</td>\n",
       "      <td>0.474928</td>\n",
       "    </tr>\n",
       "  </tbody>\n",
       "</table>\n",
       "</div>"
      ],
      "text/plain": [
       "          a         b         c         d         e         f         g  \\\n",
       "0  0.328109  0.605315  0.072623  0.074005  0.343637  0.876347  0.314741   \n",
       "1  0.348700  0.917319  0.790261  0.420661  0.221609  0.262926  0.928702   \n",
       "2  0.218682  0.241995  0.691802  0.392442  0.272287  0.088847  0.947837   \n",
       "3  0.938799  0.176201  0.089792  0.010669  0.738867  0.225566  0.735958   \n",
       "\n",
       "          h  \n",
       "0  0.013966  \n",
       "1  0.718723  \n",
       "2  0.186637  \n",
       "3  0.474928  "
      ]
     },
     "execution_count": 4,
     "metadata": {},
     "output_type": "execute_result"
    }
   ],
   "source": [
    "df.head()"
   ]
  },
  {
   "cell_type": "code",
   "execution_count": 5,
   "id": "6f5264ad-adc0-4b70-8d90-8bbc94e3da88",
   "metadata": {},
   "outputs": [
    {
     "data": {
      "text/html": [
       "<div>\n",
       "<style scoped>\n",
       "    .dataframe tbody tr th:only-of-type {\n",
       "        vertical-align: middle;\n",
       "    }\n",
       "\n",
       "    .dataframe tbody tr th {\n",
       "        vertical-align: top;\n",
       "    }\n",
       "\n",
       "    .dataframe thead th {\n",
       "        text-align: right;\n",
       "    }\n",
       "</style>\n",
       "<table border=\"1\" class=\"dataframe\">\n",
       "  <thead>\n",
       "    <tr style=\"text-align: right;\">\n",
       "      <th></th>\n",
       "      <th>a1</th>\n",
       "      <th>b1</th>\n",
       "      <th>c</th>\n",
       "      <th>d</th>\n",
       "      <th>e</th>\n",
       "      <th>f</th>\n",
       "      <th>g</th>\n",
       "      <th>h</th>\n",
       "    </tr>\n",
       "  </thead>\n",
       "  <tbody>\n",
       "    <tr>\n",
       "      <th>0</th>\n",
       "      <td>0.328109</td>\n",
       "      <td>0.605315</td>\n",
       "      <td>0.072623</td>\n",
       "      <td>0.074005</td>\n",
       "      <td>0.343637</td>\n",
       "      <td>0.876347</td>\n",
       "      <td>0.314741</td>\n",
       "      <td>0.013966</td>\n",
       "    </tr>\n",
       "    <tr>\n",
       "      <th>1</th>\n",
       "      <td>0.348700</td>\n",
       "      <td>0.917319</td>\n",
       "      <td>0.790261</td>\n",
       "      <td>0.420661</td>\n",
       "      <td>0.221609</td>\n",
       "      <td>0.262926</td>\n",
       "      <td>0.928702</td>\n",
       "      <td>0.718723</td>\n",
       "    </tr>\n",
       "    <tr>\n",
       "      <th>2</th>\n",
       "      <td>0.218682</td>\n",
       "      <td>0.241995</td>\n",
       "      <td>0.691802</td>\n",
       "      <td>0.392442</td>\n",
       "      <td>0.272287</td>\n",
       "      <td>0.088847</td>\n",
       "      <td>0.947837</td>\n",
       "      <td>0.186637</td>\n",
       "    </tr>\n",
       "    <tr>\n",
       "      <th>3</th>\n",
       "      <td>0.938799</td>\n",
       "      <td>0.176201</td>\n",
       "      <td>0.089792</td>\n",
       "      <td>0.010669</td>\n",
       "      <td>0.738867</td>\n",
       "      <td>0.225566</td>\n",
       "      <td>0.735958</td>\n",
       "      <td>0.474928</td>\n",
       "    </tr>\n",
       "  </tbody>\n",
       "</table>\n",
       "</div>"
      ],
      "text/plain": [
       "         a1        b1         c         d         e         f         g  \\\n",
       "0  0.328109  0.605315  0.072623  0.074005  0.343637  0.876347  0.314741   \n",
       "1  0.348700  0.917319  0.790261  0.420661  0.221609  0.262926  0.928702   \n",
       "2  0.218682  0.241995  0.691802  0.392442  0.272287  0.088847  0.947837   \n",
       "3  0.938799  0.176201  0.089792  0.010669  0.738867  0.225566  0.735958   \n",
       "\n",
       "          h  \n",
       "0  0.013966  \n",
       "1  0.718723  \n",
       "2  0.186637  \n",
       "3  0.474928  "
      ]
     },
     "execution_count": 5,
     "metadata": {},
     "output_type": "execute_result"
    }
   ],
   "source": [
    "df.rename({'a':'a1', 'b':'b1'}, axis=1) # the most flexible"
   ]
  },
  {
   "cell_type": "code",
   "execution_count": 6,
   "id": "6628b228-6883-49bc-af19-49f1d25425e5",
   "metadata": {},
   "outputs": [],
   "source": [
    "df.columns = list('hgfedcba') # the fastest? to overwrite existing names, we pass a list with exact length"
   ]
  },
  {
   "cell_type": "code",
   "execution_count": 7,
   "id": "1f24e4ef-de80-4699-a42c-d023bf6a32af",
   "metadata": {},
   "outputs": [
    {
     "data": {
      "text/html": [
       "<div>\n",
       "<style scoped>\n",
       "    .dataframe tbody tr th:only-of-type {\n",
       "        vertical-align: middle;\n",
       "    }\n",
       "\n",
       "    .dataframe tbody tr th {\n",
       "        vertical-align: top;\n",
       "    }\n",
       "\n",
       "    .dataframe thead th {\n",
       "        text-align: right;\n",
       "    }\n",
       "</style>\n",
       "<table border=\"1\" class=\"dataframe\">\n",
       "  <thead>\n",
       "    <tr style=\"text-align: right;\">\n",
       "      <th></th>\n",
       "      <th>h</th>\n",
       "      <th>g</th>\n",
       "      <th>f</th>\n",
       "      <th>e</th>\n",
       "      <th>d</th>\n",
       "      <th>c</th>\n",
       "      <th>b</th>\n",
       "      <th>a</th>\n",
       "    </tr>\n",
       "  </thead>\n",
       "  <tbody>\n",
       "    <tr>\n",
       "      <th>0</th>\n",
       "      <td>0.328109</td>\n",
       "      <td>0.605315</td>\n",
       "      <td>0.072623</td>\n",
       "      <td>0.074005</td>\n",
       "      <td>0.343637</td>\n",
       "      <td>0.876347</td>\n",
       "      <td>0.314741</td>\n",
       "      <td>0.013966</td>\n",
       "    </tr>\n",
       "    <tr>\n",
       "      <th>1</th>\n",
       "      <td>0.348700</td>\n",
       "      <td>0.917319</td>\n",
       "      <td>0.790261</td>\n",
       "      <td>0.420661</td>\n",
       "      <td>0.221609</td>\n",
       "      <td>0.262926</td>\n",
       "      <td>0.928702</td>\n",
       "      <td>0.718723</td>\n",
       "    </tr>\n",
       "    <tr>\n",
       "      <th>2</th>\n",
       "      <td>0.218682</td>\n",
       "      <td>0.241995</td>\n",
       "      <td>0.691802</td>\n",
       "      <td>0.392442</td>\n",
       "      <td>0.272287</td>\n",
       "      <td>0.088847</td>\n",
       "      <td>0.947837</td>\n",
       "      <td>0.186637</td>\n",
       "    </tr>\n",
       "    <tr>\n",
       "      <th>3</th>\n",
       "      <td>0.938799</td>\n",
       "      <td>0.176201</td>\n",
       "      <td>0.089792</td>\n",
       "      <td>0.010669</td>\n",
       "      <td>0.738867</td>\n",
       "      <td>0.225566</td>\n",
       "      <td>0.735958</td>\n",
       "      <td>0.474928</td>\n",
       "    </tr>\n",
       "  </tbody>\n",
       "</table>\n",
       "</div>"
      ],
      "text/plain": [
       "          h         g         f         e         d         c         b  \\\n",
       "0  0.328109  0.605315  0.072623  0.074005  0.343637  0.876347  0.314741   \n",
       "1  0.348700  0.917319  0.790261  0.420661  0.221609  0.262926  0.928702   \n",
       "2  0.218682  0.241995  0.691802  0.392442  0.272287  0.088847  0.947837   \n",
       "3  0.938799  0.176201  0.089792  0.010669  0.738867  0.225566  0.735958   \n",
       "\n",
       "          a  \n",
       "0  0.013966  \n",
       "1  0.718723  \n",
       "2  0.186637  \n",
       "3  0.474928  "
      ]
     },
     "execution_count": 7,
     "metadata": {},
     "output_type": "execute_result"
    }
   ],
   "source": [
    "df.head()"
   ]
  },
  {
   "cell_type": "markdown",
   "id": "33015d99-5bb0-488c-89bc-e26a953d95cf",
   "metadata": {},
   "source": [
    "If we have column names with spaces inside and we do not really want that, we can use this trick"
   ]
  },
  {
   "cell_type": "code",
   "execution_count": 8,
   "id": "2b7ad7b0-0db1-4adb-8823-eb3e5c51219e",
   "metadata": {},
   "outputs": [],
   "source": [
    "df.rename({'h':'ha ha'},axis=1, inplace=True)"
   ]
  },
  {
   "cell_type": "code",
   "execution_count": 9,
   "id": "293f6d88-86ef-4331-bedd-437e9291145d",
   "metadata": {},
   "outputs": [
    {
     "data": {
      "text/html": [
       "<div>\n",
       "<style scoped>\n",
       "    .dataframe tbody tr th:only-of-type {\n",
       "        vertical-align: middle;\n",
       "    }\n",
       "\n",
       "    .dataframe tbody tr th {\n",
       "        vertical-align: top;\n",
       "    }\n",
       "\n",
       "    .dataframe thead th {\n",
       "        text-align: right;\n",
       "    }\n",
       "</style>\n",
       "<table border=\"1\" class=\"dataframe\">\n",
       "  <thead>\n",
       "    <tr style=\"text-align: right;\">\n",
       "      <th></th>\n",
       "      <th>ha ha</th>\n",
       "      <th>g</th>\n",
       "      <th>f</th>\n",
       "      <th>e</th>\n",
       "      <th>d</th>\n",
       "      <th>c</th>\n",
       "      <th>b</th>\n",
       "      <th>a</th>\n",
       "    </tr>\n",
       "  </thead>\n",
       "  <tbody>\n",
       "    <tr>\n",
       "      <th>0</th>\n",
       "      <td>0.328109</td>\n",
       "      <td>0.605315</td>\n",
       "      <td>0.072623</td>\n",
       "      <td>0.074005</td>\n",
       "      <td>0.343637</td>\n",
       "      <td>0.876347</td>\n",
       "      <td>0.314741</td>\n",
       "      <td>0.013966</td>\n",
       "    </tr>\n",
       "    <tr>\n",
       "      <th>1</th>\n",
       "      <td>0.348700</td>\n",
       "      <td>0.917319</td>\n",
       "      <td>0.790261</td>\n",
       "      <td>0.420661</td>\n",
       "      <td>0.221609</td>\n",
       "      <td>0.262926</td>\n",
       "      <td>0.928702</td>\n",
       "      <td>0.718723</td>\n",
       "    </tr>\n",
       "    <tr>\n",
       "      <th>2</th>\n",
       "      <td>0.218682</td>\n",
       "      <td>0.241995</td>\n",
       "      <td>0.691802</td>\n",
       "      <td>0.392442</td>\n",
       "      <td>0.272287</td>\n",
       "      <td>0.088847</td>\n",
       "      <td>0.947837</td>\n",
       "      <td>0.186637</td>\n",
       "    </tr>\n",
       "    <tr>\n",
       "      <th>3</th>\n",
       "      <td>0.938799</td>\n",
       "      <td>0.176201</td>\n",
       "      <td>0.089792</td>\n",
       "      <td>0.010669</td>\n",
       "      <td>0.738867</td>\n",
       "      <td>0.225566</td>\n",
       "      <td>0.735958</td>\n",
       "      <td>0.474928</td>\n",
       "    </tr>\n",
       "  </tbody>\n",
       "</table>\n",
       "</div>"
      ],
      "text/plain": [
       "      ha ha         g         f         e         d         c         b  \\\n",
       "0  0.328109  0.605315  0.072623  0.074005  0.343637  0.876347  0.314741   \n",
       "1  0.348700  0.917319  0.790261  0.420661  0.221609  0.262926  0.928702   \n",
       "2  0.218682  0.241995  0.691802  0.392442  0.272287  0.088847  0.947837   \n",
       "3  0.938799  0.176201  0.089792  0.010669  0.738867  0.225566  0.735958   \n",
       "\n",
       "          a  \n",
       "0  0.013966  \n",
       "1  0.718723  \n",
       "2  0.186637  \n",
       "3  0.474928  "
      ]
     },
     "execution_count": 9,
     "metadata": {},
     "output_type": "execute_result"
    }
   ],
   "source": [
    "df.head()"
   ]
  },
  {
   "cell_type": "code",
   "execution_count": 10,
   "id": "d7284ac8-58f3-4827-8033-73f8a30c0cb5",
   "metadata": {},
   "outputs": [],
   "source": [
    "df.columns = df.columns.str.replace(' ', '_')"
   ]
  },
  {
   "cell_type": "code",
   "execution_count": 11,
   "id": "377a51f8-cbae-414f-bf2d-d933863628c6",
   "metadata": {},
   "outputs": [
    {
     "data": {
      "text/html": [
       "<div>\n",
       "<style scoped>\n",
       "    .dataframe tbody tr th:only-of-type {\n",
       "        vertical-align: middle;\n",
       "    }\n",
       "\n",
       "    .dataframe tbody tr th {\n",
       "        vertical-align: top;\n",
       "    }\n",
       "\n",
       "    .dataframe thead th {\n",
       "        text-align: right;\n",
       "    }\n",
       "</style>\n",
       "<table border=\"1\" class=\"dataframe\">\n",
       "  <thead>\n",
       "    <tr style=\"text-align: right;\">\n",
       "      <th></th>\n",
       "      <th>ha_ha</th>\n",
       "      <th>g</th>\n",
       "      <th>f</th>\n",
       "      <th>e</th>\n",
       "      <th>d</th>\n",
       "      <th>c</th>\n",
       "      <th>b</th>\n",
       "      <th>a</th>\n",
       "    </tr>\n",
       "  </thead>\n",
       "  <tbody>\n",
       "    <tr>\n",
       "      <th>0</th>\n",
       "      <td>0.328109</td>\n",
       "      <td>0.605315</td>\n",
       "      <td>0.072623</td>\n",
       "      <td>0.074005</td>\n",
       "      <td>0.343637</td>\n",
       "      <td>0.876347</td>\n",
       "      <td>0.314741</td>\n",
       "      <td>0.013966</td>\n",
       "    </tr>\n",
       "    <tr>\n",
       "      <th>1</th>\n",
       "      <td>0.348700</td>\n",
       "      <td>0.917319</td>\n",
       "      <td>0.790261</td>\n",
       "      <td>0.420661</td>\n",
       "      <td>0.221609</td>\n",
       "      <td>0.262926</td>\n",
       "      <td>0.928702</td>\n",
       "      <td>0.718723</td>\n",
       "    </tr>\n",
       "    <tr>\n",
       "      <th>2</th>\n",
       "      <td>0.218682</td>\n",
       "      <td>0.241995</td>\n",
       "      <td>0.691802</td>\n",
       "      <td>0.392442</td>\n",
       "      <td>0.272287</td>\n",
       "      <td>0.088847</td>\n",
       "      <td>0.947837</td>\n",
       "      <td>0.186637</td>\n",
       "    </tr>\n",
       "    <tr>\n",
       "      <th>3</th>\n",
       "      <td>0.938799</td>\n",
       "      <td>0.176201</td>\n",
       "      <td>0.089792</td>\n",
       "      <td>0.010669</td>\n",
       "      <td>0.738867</td>\n",
       "      <td>0.225566</td>\n",
       "      <td>0.735958</td>\n",
       "      <td>0.474928</td>\n",
       "    </tr>\n",
       "  </tbody>\n",
       "</table>\n",
       "</div>"
      ],
      "text/plain": [
       "      ha_ha         g         f         e         d         c         b  \\\n",
       "0  0.328109  0.605315  0.072623  0.074005  0.343637  0.876347  0.314741   \n",
       "1  0.348700  0.917319  0.790261  0.420661  0.221609  0.262926  0.928702   \n",
       "2  0.218682  0.241995  0.691802  0.392442  0.272287  0.088847  0.947837   \n",
       "3  0.938799  0.176201  0.089792  0.010669  0.738867  0.225566  0.735958   \n",
       "\n",
       "          a  \n",
       "0  0.013966  \n",
       "1  0.718723  \n",
       "2  0.186637  \n",
       "3  0.474928  "
      ]
     },
     "execution_count": 11,
     "metadata": {},
     "output_type": "execute_result"
    }
   ],
   "source": [
    "df.head()"
   ]
  },
  {
   "cell_type": "markdown",
   "id": "bc0d7c25-366a-4d7d-9eb8-238465e2bbd5",
   "metadata": {},
   "source": [
    "If we want to add a suffix/prefix"
   ]
  },
  {
   "cell_type": "code",
   "execution_count": 12,
   "id": "da5f9a06-4e92-423c-aa49-d0fba19a5370",
   "metadata": {},
   "outputs": [
    {
     "data": {
      "text/html": [
       "<div>\n",
       "<style scoped>\n",
       "    .dataframe tbody tr th:only-of-type {\n",
       "        vertical-align: middle;\n",
       "    }\n",
       "\n",
       "    .dataframe tbody tr th {\n",
       "        vertical-align: top;\n",
       "    }\n",
       "\n",
       "    .dataframe thead th {\n",
       "        text-align: right;\n",
       "    }\n",
       "</style>\n",
       "<table border=\"1\" class=\"dataframe\">\n",
       "  <thead>\n",
       "    <tr style=\"text-align: right;\">\n",
       "      <th></th>\n",
       "      <th>x_ha_ha</th>\n",
       "      <th>x_g</th>\n",
       "      <th>x_f</th>\n",
       "      <th>x_e</th>\n",
       "      <th>x_d</th>\n",
       "      <th>x_c</th>\n",
       "      <th>x_b</th>\n",
       "      <th>x_a</th>\n",
       "    </tr>\n",
       "  </thead>\n",
       "  <tbody>\n",
       "    <tr>\n",
       "      <th>0</th>\n",
       "      <td>0.328109</td>\n",
       "      <td>0.605315</td>\n",
       "      <td>0.072623</td>\n",
       "      <td>0.074005</td>\n",
       "      <td>0.343637</td>\n",
       "      <td>0.876347</td>\n",
       "      <td>0.314741</td>\n",
       "      <td>0.013966</td>\n",
       "    </tr>\n",
       "    <tr>\n",
       "      <th>1</th>\n",
       "      <td>0.348700</td>\n",
       "      <td>0.917319</td>\n",
       "      <td>0.790261</td>\n",
       "      <td>0.420661</td>\n",
       "      <td>0.221609</td>\n",
       "      <td>0.262926</td>\n",
       "      <td>0.928702</td>\n",
       "      <td>0.718723</td>\n",
       "    </tr>\n",
       "    <tr>\n",
       "      <th>2</th>\n",
       "      <td>0.218682</td>\n",
       "      <td>0.241995</td>\n",
       "      <td>0.691802</td>\n",
       "      <td>0.392442</td>\n",
       "      <td>0.272287</td>\n",
       "      <td>0.088847</td>\n",
       "      <td>0.947837</td>\n",
       "      <td>0.186637</td>\n",
       "    </tr>\n",
       "    <tr>\n",
       "      <th>3</th>\n",
       "      <td>0.938799</td>\n",
       "      <td>0.176201</td>\n",
       "      <td>0.089792</td>\n",
       "      <td>0.010669</td>\n",
       "      <td>0.738867</td>\n",
       "      <td>0.225566</td>\n",
       "      <td>0.735958</td>\n",
       "      <td>0.474928</td>\n",
       "    </tr>\n",
       "  </tbody>\n",
       "</table>\n",
       "</div>"
      ],
      "text/plain": [
       "    x_ha_ha       x_g       x_f       x_e       x_d       x_c       x_b  \\\n",
       "0  0.328109  0.605315  0.072623  0.074005  0.343637  0.876347  0.314741   \n",
       "1  0.348700  0.917319  0.790261  0.420661  0.221609  0.262926  0.928702   \n",
       "2  0.218682  0.241995  0.691802  0.392442  0.272287  0.088847  0.947837   \n",
       "3  0.938799  0.176201  0.089792  0.010669  0.738867  0.225566  0.735958   \n",
       "\n",
       "        x_a  \n",
       "0  0.013966  \n",
       "1  0.718723  \n",
       "2  0.186637  \n",
       "3  0.474928  "
      ]
     },
     "execution_count": 12,
     "metadata": {},
     "output_type": "execute_result"
    }
   ],
   "source": [
    "df.add_prefix('x_')"
   ]
  },
  {
   "cell_type": "code",
   "execution_count": 13,
   "id": "20249ddf-6b3a-4673-b1af-0a7a87934a43",
   "metadata": {},
   "outputs": [
    {
     "data": {
      "text/html": [
       "<div>\n",
       "<style scoped>\n",
       "    .dataframe tbody tr th:only-of-type {\n",
       "        vertical-align: middle;\n",
       "    }\n",
       "\n",
       "    .dataframe tbody tr th {\n",
       "        vertical-align: top;\n",
       "    }\n",
       "\n",
       "    .dataframe thead th {\n",
       "        text-align: right;\n",
       "    }\n",
       "</style>\n",
       "<table border=\"1\" class=\"dataframe\">\n",
       "  <thead>\n",
       "    <tr style=\"text-align: right;\">\n",
       "      <th></th>\n",
       "      <th>ha_ha_y</th>\n",
       "      <th>g_y</th>\n",
       "      <th>f_y</th>\n",
       "      <th>e_y</th>\n",
       "      <th>d_y</th>\n",
       "      <th>c_y</th>\n",
       "      <th>b_y</th>\n",
       "      <th>a_y</th>\n",
       "    </tr>\n",
       "  </thead>\n",
       "  <tbody>\n",
       "    <tr>\n",
       "      <th>0</th>\n",
       "      <td>0.328109</td>\n",
       "      <td>0.605315</td>\n",
       "      <td>0.072623</td>\n",
       "      <td>0.074005</td>\n",
       "      <td>0.343637</td>\n",
       "      <td>0.876347</td>\n",
       "      <td>0.314741</td>\n",
       "      <td>0.013966</td>\n",
       "    </tr>\n",
       "    <tr>\n",
       "      <th>1</th>\n",
       "      <td>0.348700</td>\n",
       "      <td>0.917319</td>\n",
       "      <td>0.790261</td>\n",
       "      <td>0.420661</td>\n",
       "      <td>0.221609</td>\n",
       "      <td>0.262926</td>\n",
       "      <td>0.928702</td>\n",
       "      <td>0.718723</td>\n",
       "    </tr>\n",
       "    <tr>\n",
       "      <th>2</th>\n",
       "      <td>0.218682</td>\n",
       "      <td>0.241995</td>\n",
       "      <td>0.691802</td>\n",
       "      <td>0.392442</td>\n",
       "      <td>0.272287</td>\n",
       "      <td>0.088847</td>\n",
       "      <td>0.947837</td>\n",
       "      <td>0.186637</td>\n",
       "    </tr>\n",
       "    <tr>\n",
       "      <th>3</th>\n",
       "      <td>0.938799</td>\n",
       "      <td>0.176201</td>\n",
       "      <td>0.089792</td>\n",
       "      <td>0.010669</td>\n",
       "      <td>0.738867</td>\n",
       "      <td>0.225566</td>\n",
       "      <td>0.735958</td>\n",
       "      <td>0.474928</td>\n",
       "    </tr>\n",
       "  </tbody>\n",
       "</table>\n",
       "</div>"
      ],
      "text/plain": [
       "    ha_ha_y       g_y       f_y       e_y       d_y       c_y       b_y  \\\n",
       "0  0.328109  0.605315  0.072623  0.074005  0.343637  0.876347  0.314741   \n",
       "1  0.348700  0.917319  0.790261  0.420661  0.221609  0.262926  0.928702   \n",
       "2  0.218682  0.241995  0.691802  0.392442  0.272287  0.088847  0.947837   \n",
       "3  0.938799  0.176201  0.089792  0.010669  0.738867  0.225566  0.735958   \n",
       "\n",
       "        a_y  \n",
       "0  0.013966  \n",
       "1  0.718723  \n",
       "2  0.186637  \n",
       "3  0.474928  "
      ]
     },
     "execution_count": 13,
     "metadata": {},
     "output_type": "execute_result"
    }
   ],
   "source": [
    "df.add_suffix('_y')"
   ]
  },
  {
   "cell_type": "markdown",
   "id": "e6af97a7-26ed-4bc5-ad10-5645af38af13",
   "metadata": {},
   "source": [
    "**4. Reverse row order**"
   ]
  },
  {
   "cell_type": "code",
   "execution_count": 14,
   "id": "1a2f801f-a16c-40b2-a26a-1275d501ca22",
   "metadata": {},
   "outputs": [
    {
     "data": {
      "text/html": [
       "<div>\n",
       "<style scoped>\n",
       "    .dataframe tbody tr th:only-of-type {\n",
       "        vertical-align: middle;\n",
       "    }\n",
       "\n",
       "    .dataframe tbody tr th {\n",
       "        vertical-align: top;\n",
       "    }\n",
       "\n",
       "    .dataframe thead th {\n",
       "        text-align: right;\n",
       "    }\n",
       "</style>\n",
       "<table border=\"1\" class=\"dataframe\">\n",
       "  <thead>\n",
       "    <tr style=\"text-align: right;\">\n",
       "      <th></th>\n",
       "      <th>ha_ha</th>\n",
       "      <th>g</th>\n",
       "      <th>f</th>\n",
       "      <th>e</th>\n",
       "      <th>d</th>\n",
       "      <th>c</th>\n",
       "      <th>b</th>\n",
       "      <th>a</th>\n",
       "    </tr>\n",
       "  </thead>\n",
       "  <tbody>\n",
       "    <tr>\n",
       "      <th>0</th>\n",
       "      <td>0.328109</td>\n",
       "      <td>0.605315</td>\n",
       "      <td>0.072623</td>\n",
       "      <td>0.074005</td>\n",
       "      <td>0.343637</td>\n",
       "      <td>0.876347</td>\n",
       "      <td>0.314741</td>\n",
       "      <td>0.013966</td>\n",
       "    </tr>\n",
       "    <tr>\n",
       "      <th>1</th>\n",
       "      <td>0.348700</td>\n",
       "      <td>0.917319</td>\n",
       "      <td>0.790261</td>\n",
       "      <td>0.420661</td>\n",
       "      <td>0.221609</td>\n",
       "      <td>0.262926</td>\n",
       "      <td>0.928702</td>\n",
       "      <td>0.718723</td>\n",
       "    </tr>\n",
       "    <tr>\n",
       "      <th>2</th>\n",
       "      <td>0.218682</td>\n",
       "      <td>0.241995</td>\n",
       "      <td>0.691802</td>\n",
       "      <td>0.392442</td>\n",
       "      <td>0.272287</td>\n",
       "      <td>0.088847</td>\n",
       "      <td>0.947837</td>\n",
       "      <td>0.186637</td>\n",
       "    </tr>\n",
       "    <tr>\n",
       "      <th>3</th>\n",
       "      <td>0.938799</td>\n",
       "      <td>0.176201</td>\n",
       "      <td>0.089792</td>\n",
       "      <td>0.010669</td>\n",
       "      <td>0.738867</td>\n",
       "      <td>0.225566</td>\n",
       "      <td>0.735958</td>\n",
       "      <td>0.474928</td>\n",
       "    </tr>\n",
       "  </tbody>\n",
       "</table>\n",
       "</div>"
      ],
      "text/plain": [
       "      ha_ha         g         f         e         d         c         b  \\\n",
       "0  0.328109  0.605315  0.072623  0.074005  0.343637  0.876347  0.314741   \n",
       "1  0.348700  0.917319  0.790261  0.420661  0.221609  0.262926  0.928702   \n",
       "2  0.218682  0.241995  0.691802  0.392442  0.272287  0.088847  0.947837   \n",
       "3  0.938799  0.176201  0.089792  0.010669  0.738867  0.225566  0.735958   \n",
       "\n",
       "          a  \n",
       "0  0.013966  \n",
       "1  0.718723  \n",
       "2  0.186637  \n",
       "3  0.474928  "
      ]
     },
     "execution_count": 14,
     "metadata": {},
     "output_type": "execute_result"
    }
   ],
   "source": [
    "df.head()"
   ]
  },
  {
   "cell_type": "code",
   "execution_count": 15,
   "id": "f76f0834-dc3a-4172-a8ee-288a0d341ba2",
   "metadata": {},
   "outputs": [
    {
     "data": {
      "text/html": [
       "<div>\n",
       "<style scoped>\n",
       "    .dataframe tbody tr th:only-of-type {\n",
       "        vertical-align: middle;\n",
       "    }\n",
       "\n",
       "    .dataframe tbody tr th {\n",
       "        vertical-align: top;\n",
       "    }\n",
       "\n",
       "    .dataframe thead th {\n",
       "        text-align: right;\n",
       "    }\n",
       "</style>\n",
       "<table border=\"1\" class=\"dataframe\">\n",
       "  <thead>\n",
       "    <tr style=\"text-align: right;\">\n",
       "      <th></th>\n",
       "      <th>ha_ha</th>\n",
       "      <th>g</th>\n",
       "      <th>f</th>\n",
       "      <th>e</th>\n",
       "      <th>d</th>\n",
       "      <th>c</th>\n",
       "      <th>b</th>\n",
       "      <th>a</th>\n",
       "    </tr>\n",
       "  </thead>\n",
       "  <tbody>\n",
       "    <tr>\n",
       "      <th>3</th>\n",
       "      <td>0.938799</td>\n",
       "      <td>0.176201</td>\n",
       "      <td>0.089792</td>\n",
       "      <td>0.010669</td>\n",
       "      <td>0.738867</td>\n",
       "      <td>0.225566</td>\n",
       "      <td>0.735958</td>\n",
       "      <td>0.474928</td>\n",
       "    </tr>\n",
       "    <tr>\n",
       "      <th>2</th>\n",
       "      <td>0.218682</td>\n",
       "      <td>0.241995</td>\n",
       "      <td>0.691802</td>\n",
       "      <td>0.392442</td>\n",
       "      <td>0.272287</td>\n",
       "      <td>0.088847</td>\n",
       "      <td>0.947837</td>\n",
       "      <td>0.186637</td>\n",
       "    </tr>\n",
       "    <tr>\n",
       "      <th>1</th>\n",
       "      <td>0.348700</td>\n",
       "      <td>0.917319</td>\n",
       "      <td>0.790261</td>\n",
       "      <td>0.420661</td>\n",
       "      <td>0.221609</td>\n",
       "      <td>0.262926</td>\n",
       "      <td>0.928702</td>\n",
       "      <td>0.718723</td>\n",
       "    </tr>\n",
       "    <tr>\n",
       "      <th>0</th>\n",
       "      <td>0.328109</td>\n",
       "      <td>0.605315</td>\n",
       "      <td>0.072623</td>\n",
       "      <td>0.074005</td>\n",
       "      <td>0.343637</td>\n",
       "      <td>0.876347</td>\n",
       "      <td>0.314741</td>\n",
       "      <td>0.013966</td>\n",
       "    </tr>\n",
       "  </tbody>\n",
       "</table>\n",
       "</div>"
      ],
      "text/plain": [
       "      ha_ha         g         f         e         d         c         b  \\\n",
       "3  0.938799  0.176201  0.089792  0.010669  0.738867  0.225566  0.735958   \n",
       "2  0.218682  0.241995  0.691802  0.392442  0.272287  0.088847  0.947837   \n",
       "1  0.348700  0.917319  0.790261  0.420661  0.221609  0.262926  0.928702   \n",
       "0  0.328109  0.605315  0.072623  0.074005  0.343637  0.876347  0.314741   \n",
       "\n",
       "          a  \n",
       "3  0.474928  \n",
       "2  0.186637  \n",
       "1  0.718723  \n",
       "0  0.013966  "
      ]
     },
     "execution_count": 15,
     "metadata": {},
     "output_type": "execute_result"
    }
   ],
   "source": [
    "df.loc[::-1] # reversed order (index also)"
   ]
  },
  {
   "cell_type": "code",
   "execution_count": 16,
   "id": "4b11e1a6-0e6f-4324-9c88-035e94387511",
   "metadata": {},
   "outputs": [
    {
     "data": {
      "text/html": [
       "<div>\n",
       "<style scoped>\n",
       "    .dataframe tbody tr th:only-of-type {\n",
       "        vertical-align: middle;\n",
       "    }\n",
       "\n",
       "    .dataframe tbody tr th {\n",
       "        vertical-align: top;\n",
       "    }\n",
       "\n",
       "    .dataframe thead th {\n",
       "        text-align: right;\n",
       "    }\n",
       "</style>\n",
       "<table border=\"1\" class=\"dataframe\">\n",
       "  <thead>\n",
       "    <tr style=\"text-align: right;\">\n",
       "      <th></th>\n",
       "      <th>ha_ha</th>\n",
       "      <th>g</th>\n",
       "      <th>f</th>\n",
       "      <th>e</th>\n",
       "      <th>d</th>\n",
       "      <th>c</th>\n",
       "      <th>b</th>\n",
       "      <th>a</th>\n",
       "    </tr>\n",
       "  </thead>\n",
       "  <tbody>\n",
       "    <tr>\n",
       "      <th>0</th>\n",
       "      <td>0.938799</td>\n",
       "      <td>0.176201</td>\n",
       "      <td>0.089792</td>\n",
       "      <td>0.010669</td>\n",
       "      <td>0.738867</td>\n",
       "      <td>0.225566</td>\n",
       "      <td>0.735958</td>\n",
       "      <td>0.474928</td>\n",
       "    </tr>\n",
       "    <tr>\n",
       "      <th>1</th>\n",
       "      <td>0.218682</td>\n",
       "      <td>0.241995</td>\n",
       "      <td>0.691802</td>\n",
       "      <td>0.392442</td>\n",
       "      <td>0.272287</td>\n",
       "      <td>0.088847</td>\n",
       "      <td>0.947837</td>\n",
       "      <td>0.186637</td>\n",
       "    </tr>\n",
       "    <tr>\n",
       "      <th>2</th>\n",
       "      <td>0.348700</td>\n",
       "      <td>0.917319</td>\n",
       "      <td>0.790261</td>\n",
       "      <td>0.420661</td>\n",
       "      <td>0.221609</td>\n",
       "      <td>0.262926</td>\n",
       "      <td>0.928702</td>\n",
       "      <td>0.718723</td>\n",
       "    </tr>\n",
       "    <tr>\n",
       "      <th>3</th>\n",
       "      <td>0.328109</td>\n",
       "      <td>0.605315</td>\n",
       "      <td>0.072623</td>\n",
       "      <td>0.074005</td>\n",
       "      <td>0.343637</td>\n",
       "      <td>0.876347</td>\n",
       "      <td>0.314741</td>\n",
       "      <td>0.013966</td>\n",
       "    </tr>\n",
       "  </tbody>\n",
       "</table>\n",
       "</div>"
      ],
      "text/plain": [
       "      ha_ha         g         f         e         d         c         b  \\\n",
       "0  0.938799  0.176201  0.089792  0.010669  0.738867  0.225566  0.735958   \n",
       "1  0.218682  0.241995  0.691802  0.392442  0.272287  0.088847  0.947837   \n",
       "2  0.348700  0.917319  0.790261  0.420661  0.221609  0.262926  0.928702   \n",
       "3  0.328109  0.605315  0.072623  0.074005  0.343637  0.876347  0.314741   \n",
       "\n",
       "          a  \n",
       "0  0.474928  \n",
       "1  0.186637  \n",
       "2  0.718723  \n",
       "3  0.013966  "
      ]
     },
     "execution_count": 16,
     "metadata": {},
     "output_type": "execute_result"
    }
   ],
   "source": [
    "df.loc[::-1].reset_index(drop=True) # reversed order with index reset"
   ]
  },
  {
   "cell_type": "markdown",
   "id": "b9633f49-c996-45f6-9f5a-9148e7334bc8",
   "metadata": {},
   "source": [
    "**5. Reverse column order**"
   ]
  },
  {
   "cell_type": "code",
   "execution_count": 17,
   "id": "2ab476a5-21a3-4197-ac73-5ad9c6e836af",
   "metadata": {},
   "outputs": [
    {
     "data": {
      "text/html": [
       "<div>\n",
       "<style scoped>\n",
       "    .dataframe tbody tr th:only-of-type {\n",
       "        vertical-align: middle;\n",
       "    }\n",
       "\n",
       "    .dataframe tbody tr th {\n",
       "        vertical-align: top;\n",
       "    }\n",
       "\n",
       "    .dataframe thead th {\n",
       "        text-align: right;\n",
       "    }\n",
       "</style>\n",
       "<table border=\"1\" class=\"dataframe\">\n",
       "  <thead>\n",
       "    <tr style=\"text-align: right;\">\n",
       "      <th></th>\n",
       "      <th>a</th>\n",
       "      <th>b</th>\n",
       "      <th>c</th>\n",
       "      <th>d</th>\n",
       "      <th>e</th>\n",
       "      <th>f</th>\n",
       "      <th>g</th>\n",
       "      <th>ha_ha</th>\n",
       "    </tr>\n",
       "  </thead>\n",
       "  <tbody>\n",
       "    <tr>\n",
       "      <th>0</th>\n",
       "      <td>0.013966</td>\n",
       "      <td>0.314741</td>\n",
       "      <td>0.876347</td>\n",
       "      <td>0.343637</td>\n",
       "      <td>0.074005</td>\n",
       "      <td>0.072623</td>\n",
       "      <td>0.605315</td>\n",
       "      <td>0.328109</td>\n",
       "    </tr>\n",
       "    <tr>\n",
       "      <th>1</th>\n",
       "      <td>0.718723</td>\n",
       "      <td>0.928702</td>\n",
       "      <td>0.262926</td>\n",
       "      <td>0.221609</td>\n",
       "      <td>0.420661</td>\n",
       "      <td>0.790261</td>\n",
       "      <td>0.917319</td>\n",
       "      <td>0.348700</td>\n",
       "    </tr>\n",
       "    <tr>\n",
       "      <th>2</th>\n",
       "      <td>0.186637</td>\n",
       "      <td>0.947837</td>\n",
       "      <td>0.088847</td>\n",
       "      <td>0.272287</td>\n",
       "      <td>0.392442</td>\n",
       "      <td>0.691802</td>\n",
       "      <td>0.241995</td>\n",
       "      <td>0.218682</td>\n",
       "    </tr>\n",
       "    <tr>\n",
       "      <th>3</th>\n",
       "      <td>0.474928</td>\n",
       "      <td>0.735958</td>\n",
       "      <td>0.225566</td>\n",
       "      <td>0.738867</td>\n",
       "      <td>0.010669</td>\n",
       "      <td>0.089792</td>\n",
       "      <td>0.176201</td>\n",
       "      <td>0.938799</td>\n",
       "    </tr>\n",
       "  </tbody>\n",
       "</table>\n",
       "</div>"
      ],
      "text/plain": [
       "          a         b         c         d         e         f         g  \\\n",
       "0  0.013966  0.314741  0.876347  0.343637  0.074005  0.072623  0.605315   \n",
       "1  0.718723  0.928702  0.262926  0.221609  0.420661  0.790261  0.917319   \n",
       "2  0.186637  0.947837  0.088847  0.272287  0.392442  0.691802  0.241995   \n",
       "3  0.474928  0.735958  0.225566  0.738867  0.010669  0.089792  0.176201   \n",
       "\n",
       "      ha_ha  \n",
       "0  0.328109  \n",
       "1  0.348700  \n",
       "2  0.218682  \n",
       "3  0.938799  "
      ]
     },
     "execution_count": 17,
     "metadata": {},
     "output_type": "execute_result"
    }
   ],
   "source": [
    "df.loc[:, ::-1] # works the same as row reverse"
   ]
  },
  {
   "cell_type": "markdown",
   "id": "3afbe6c5-8232-40be-a5d4-37e95db9bbc1",
   "metadata": {},
   "source": [
    "**6. Select columns by data type**"
   ]
  },
  {
   "cell_type": "code",
   "execution_count": 18,
   "id": "92432f6a-d6ae-44e5-aa5a-849cc369bf14",
   "metadata": {},
   "outputs": [],
   "source": [
    "train_df = pd.DataFrame({'name':['Josh','John','Anna','Bernie'], 'age':[20, 21, 51, 31], 'payment':[512.93, 321.12, 866, 9412.93]})"
   ]
  },
  {
   "cell_type": "code",
   "execution_count": 19,
   "id": "0cebc262-b014-4ce7-b983-219c4f2a1eec",
   "metadata": {},
   "outputs": [
    {
     "data": {
      "text/html": [
       "<div>\n",
       "<style scoped>\n",
       "    .dataframe tbody tr th:only-of-type {\n",
       "        vertical-align: middle;\n",
       "    }\n",
       "\n",
       "    .dataframe tbody tr th {\n",
       "        vertical-align: top;\n",
       "    }\n",
       "\n",
       "    .dataframe thead th {\n",
       "        text-align: right;\n",
       "    }\n",
       "</style>\n",
       "<table border=\"1\" class=\"dataframe\">\n",
       "  <thead>\n",
       "    <tr style=\"text-align: right;\">\n",
       "      <th></th>\n",
       "      <th>name</th>\n",
       "      <th>age</th>\n",
       "      <th>payment</th>\n",
       "    </tr>\n",
       "  </thead>\n",
       "  <tbody>\n",
       "    <tr>\n",
       "      <th>0</th>\n",
       "      <td>Josh</td>\n",
       "      <td>20</td>\n",
       "      <td>512.93</td>\n",
       "    </tr>\n",
       "    <tr>\n",
       "      <th>1</th>\n",
       "      <td>John</td>\n",
       "      <td>21</td>\n",
       "      <td>321.12</td>\n",
       "    </tr>\n",
       "    <tr>\n",
       "      <th>2</th>\n",
       "      <td>Anna</td>\n",
       "      <td>51</td>\n",
       "      <td>866.00</td>\n",
       "    </tr>\n",
       "    <tr>\n",
       "      <th>3</th>\n",
       "      <td>Bernie</td>\n",
       "      <td>31</td>\n",
       "      <td>9412.93</td>\n",
       "    </tr>\n",
       "  </tbody>\n",
       "</table>\n",
       "</div>"
      ],
      "text/plain": [
       "     name  age  payment\n",
       "0    Josh   20   512.93\n",
       "1    John   21   321.12\n",
       "2    Anna   51   866.00\n",
       "3  Bernie   31  9412.93"
      ]
     },
     "execution_count": 19,
     "metadata": {},
     "output_type": "execute_result"
    }
   ],
   "source": [
    "train_df"
   ]
  },
  {
   "cell_type": "code",
   "execution_count": 20,
   "id": "eea52ff5-7f3f-4850-9df7-64f8661f852e",
   "metadata": {},
   "outputs": [
    {
     "data": {
      "text/html": [
       "<div>\n",
       "<style scoped>\n",
       "    .dataframe tbody tr th:only-of-type {\n",
       "        vertical-align: middle;\n",
       "    }\n",
       "\n",
       "    .dataframe tbody tr th {\n",
       "        vertical-align: top;\n",
       "    }\n",
       "\n",
       "    .dataframe thead th {\n",
       "        text-align: right;\n",
       "    }\n",
       "</style>\n",
       "<table border=\"1\" class=\"dataframe\">\n",
       "  <thead>\n",
       "    <tr style=\"text-align: right;\">\n",
       "      <th></th>\n",
       "      <th>age</th>\n",
       "      <th>payment</th>\n",
       "    </tr>\n",
       "  </thead>\n",
       "  <tbody>\n",
       "    <tr>\n",
       "      <th>0</th>\n",
       "      <td>20</td>\n",
       "      <td>512.93</td>\n",
       "    </tr>\n",
       "    <tr>\n",
       "      <th>1</th>\n",
       "      <td>21</td>\n",
       "      <td>321.12</td>\n",
       "    </tr>\n",
       "    <tr>\n",
       "      <th>2</th>\n",
       "      <td>51</td>\n",
       "      <td>866.00</td>\n",
       "    </tr>\n",
       "    <tr>\n",
       "      <th>3</th>\n",
       "      <td>31</td>\n",
       "      <td>9412.93</td>\n",
       "    </tr>\n",
       "  </tbody>\n",
       "</table>\n",
       "</div>"
      ],
      "text/plain": [
       "   age  payment\n",
       "0   20   512.93\n",
       "1   21   321.12\n",
       "2   51   866.00\n",
       "3   31  9412.93"
      ]
     },
     "execution_count": 20,
     "metadata": {},
     "output_type": "execute_result"
    }
   ],
   "source": [
    "train_df.select_dtypes(include='number')"
   ]
  },
  {
   "cell_type": "code",
   "execution_count": 21,
   "id": "5c245145-88c2-4cb8-b5cc-24bde5b44ede",
   "metadata": {},
   "outputs": [
    {
     "data": {
      "text/html": [
       "<div>\n",
       "<style scoped>\n",
       "    .dataframe tbody tr th:only-of-type {\n",
       "        vertical-align: middle;\n",
       "    }\n",
       "\n",
       "    .dataframe tbody tr th {\n",
       "        vertical-align: top;\n",
       "    }\n",
       "\n",
       "    .dataframe thead th {\n",
       "        text-align: right;\n",
       "    }\n",
       "</style>\n",
       "<table border=\"1\" class=\"dataframe\">\n",
       "  <thead>\n",
       "    <tr style=\"text-align: right;\">\n",
       "      <th></th>\n",
       "      <th>name</th>\n",
       "    </tr>\n",
       "  </thead>\n",
       "  <tbody>\n",
       "    <tr>\n",
       "      <th>0</th>\n",
       "      <td>Josh</td>\n",
       "    </tr>\n",
       "    <tr>\n",
       "      <th>1</th>\n",
       "      <td>John</td>\n",
       "    </tr>\n",
       "    <tr>\n",
       "      <th>2</th>\n",
       "      <td>Anna</td>\n",
       "    </tr>\n",
       "    <tr>\n",
       "      <th>3</th>\n",
       "      <td>Bernie</td>\n",
       "    </tr>\n",
       "  </tbody>\n",
       "</table>\n",
       "</div>"
      ],
      "text/plain": [
       "     name\n",
       "0    Josh\n",
       "1    John\n",
       "2    Anna\n",
       "3  Bernie"
      ]
     },
     "execution_count": 21,
     "metadata": {},
     "output_type": "execute_result"
    }
   ],
   "source": [
    "train_df.select_dtypes(include='object')"
   ]
  },
  {
   "cell_type": "code",
   "execution_count": 22,
   "id": "ad941d34-e0cb-44fa-bf65-f6178d615f6c",
   "metadata": {},
   "outputs": [
    {
     "data": {
      "text/html": [
       "<div>\n",
       "<style scoped>\n",
       "    .dataframe tbody tr th:only-of-type {\n",
       "        vertical-align: middle;\n",
       "    }\n",
       "\n",
       "    .dataframe tbody tr th {\n",
       "        vertical-align: top;\n",
       "    }\n",
       "\n",
       "    .dataframe thead th {\n",
       "        text-align: right;\n",
       "    }\n",
       "</style>\n",
       "<table border=\"1\" class=\"dataframe\">\n",
       "  <thead>\n",
       "    <tr style=\"text-align: right;\">\n",
       "      <th></th>\n",
       "      <th>name</th>\n",
       "      <th>age</th>\n",
       "      <th>payment</th>\n",
       "    </tr>\n",
       "  </thead>\n",
       "  <tbody>\n",
       "    <tr>\n",
       "      <th>0</th>\n",
       "      <td>Josh</td>\n",
       "      <td>20</td>\n",
       "      <td>512.93</td>\n",
       "    </tr>\n",
       "    <tr>\n",
       "      <th>1</th>\n",
       "      <td>John</td>\n",
       "      <td>21</td>\n",
       "      <td>321.12</td>\n",
       "    </tr>\n",
       "    <tr>\n",
       "      <th>2</th>\n",
       "      <td>Anna</td>\n",
       "      <td>51</td>\n",
       "      <td>866.00</td>\n",
       "    </tr>\n",
       "    <tr>\n",
       "      <th>3</th>\n",
       "      <td>Bernie</td>\n",
       "      <td>31</td>\n",
       "      <td>9412.93</td>\n",
       "    </tr>\n",
       "  </tbody>\n",
       "</table>\n",
       "</div>"
      ],
      "text/plain": [
       "     name  age  payment\n",
       "0    Josh   20   512.93\n",
       "1    John   21   321.12\n",
       "2    Anna   51   866.00\n",
       "3  Bernie   31  9412.93"
      ]
     },
     "execution_count": 22,
     "metadata": {},
     "output_type": "execute_result"
    }
   ],
   "source": [
    "train_df.select_dtypes(include=['object', 'number'])"
   ]
  },
  {
   "cell_type": "code",
   "execution_count": 23,
   "id": "63cbd741-727d-4966-a1d9-58ab595cec5a",
   "metadata": {},
   "outputs": [
    {
     "data": {
      "text/html": [
       "<div>\n",
       "<style scoped>\n",
       "    .dataframe tbody tr th:only-of-type {\n",
       "        vertical-align: middle;\n",
       "    }\n",
       "\n",
       "    .dataframe tbody tr th {\n",
       "        vertical-align: top;\n",
       "    }\n",
       "\n",
       "    .dataframe thead th {\n",
       "        text-align: right;\n",
       "    }\n",
       "</style>\n",
       "<table border=\"1\" class=\"dataframe\">\n",
       "  <thead>\n",
       "    <tr style=\"text-align: right;\">\n",
       "      <th></th>\n",
       "      <th>age</th>\n",
       "      <th>payment</th>\n",
       "    </tr>\n",
       "  </thead>\n",
       "  <tbody>\n",
       "    <tr>\n",
       "      <th>0</th>\n",
       "      <td>20</td>\n",
       "      <td>512.93</td>\n",
       "    </tr>\n",
       "    <tr>\n",
       "      <th>1</th>\n",
       "      <td>21</td>\n",
       "      <td>321.12</td>\n",
       "    </tr>\n",
       "    <tr>\n",
       "      <th>2</th>\n",
       "      <td>51</td>\n",
       "      <td>866.00</td>\n",
       "    </tr>\n",
       "    <tr>\n",
       "      <th>3</th>\n",
       "      <td>31</td>\n",
       "      <td>9412.93</td>\n",
       "    </tr>\n",
       "  </tbody>\n",
       "</table>\n",
       "</div>"
      ],
      "text/plain": [
       "   age  payment\n",
       "0   20   512.93\n",
       "1   21   321.12\n",
       "2   51   866.00\n",
       "3   31  9412.93"
      ]
     },
     "execution_count": 23,
     "metadata": {},
     "output_type": "execute_result"
    }
   ],
   "source": [
    "train_df.select_dtypes(exclude='object')"
   ]
  },
  {
   "cell_type": "markdown",
   "id": "65c3c262-9946-4502-a733-b7127dc17e89",
   "metadata": {},
   "source": [
    "**7. Convert string to numbers**"
   ]
  },
  {
   "cell_type": "code",
   "execution_count": 24,
   "id": "950d56a5-2771-496b-b3bd-115f30508eff",
   "metadata": {},
   "outputs": [],
   "source": [
    "train_df['fav_number'] = ['7','25','51','88']\n",
    "train_df['bad_number'] = ['51', '22','67','t']"
   ]
  },
  {
   "cell_type": "code",
   "execution_count": 25,
   "id": "93a5b530-d394-4f76-93dc-ab386db729a0",
   "metadata": {},
   "outputs": [
    {
     "data": {
      "text/plain": [
       "name           object\n",
       "age             int64\n",
       "payment       float64\n",
       "fav_number     object\n",
       "bad_number     object\n",
       "dtype: object"
      ]
     },
     "execution_count": 25,
     "metadata": {},
     "output_type": "execute_result"
    }
   ],
   "source": [
    "train_df.dtypes #fav_number is object (string)"
   ]
  },
  {
   "cell_type": "code",
   "execution_count": 26,
   "id": "c20cfe21-3588-4ffe-a8d2-c65349cdb88c",
   "metadata": {},
   "outputs": [],
   "source": [
    "train_df = train_df.astype({'fav_number':'int'}) # cast pandas object to specific dtype, prone to errors"
   ]
  },
  {
   "cell_type": "code",
   "execution_count": 27,
   "id": "7059cd57-7e6f-4403-83ea-9983dd093079",
   "metadata": {},
   "outputs": [
    {
     "data": {
      "text/plain": [
       "name           object\n",
       "age             int64\n",
       "payment       float64\n",
       "fav_number      int32\n",
       "bad_number     object\n",
       "dtype: object"
      ]
     },
     "execution_count": 27,
     "metadata": {},
     "output_type": "execute_result"
    }
   ],
   "source": [
    "train_df.dtypes"
   ]
  },
  {
   "cell_type": "code",
   "execution_count": 28,
   "id": "f1a9c516-7ce8-41bf-883a-788149558a41",
   "metadata": {},
   "outputs": [],
   "source": [
    "#train_df.astype({'bad_number':'int'}) # error because pandas does not know how to handle not \"numeric\" strings"
   ]
  },
  {
   "cell_type": "code",
   "execution_count": 29,
   "id": "5549af8c-04ca-4e90-b008-6280e6825956",
   "metadata": {},
   "outputs": [
    {
     "data": {
      "text/plain": [
       "0    51.0\n",
       "1    22.0\n",
       "2    67.0\n",
       "3     NaN\n",
       "Name: bad_number, dtype: float64"
      ]
     },
     "execution_count": 29,
     "metadata": {},
     "output_type": "execute_result"
    }
   ],
   "source": [
    "pd.to_numeric(train_df.bad_number, errors='coerce') # tell pandas to handle these string and set them to NaN"
   ]
  },
  {
   "cell_type": "markdown",
   "id": "fa63e3c2-3eb0-43d4-a9b7-b1671af8f8d4",
   "metadata": {},
   "source": [
    "**8. Reduce DataFrame size**"
   ]
  },
  {
   "cell_type": "code",
   "execution_count": 30,
   "id": "9581ecbe-693e-4910-819d-60777fed629d",
   "metadata": {},
   "outputs": [],
   "source": [
    "drinks = pd.read_csv('http://bit.ly/drinksbycountry')"
   ]
  },
  {
   "cell_type": "code",
   "execution_count": 31,
   "id": "9599995b-8b8b-4d7e-b0f0-f96e64b7d73b",
   "metadata": {},
   "outputs": [
    {
     "name": "stdout",
     "output_type": "stream",
     "text": [
      "<class 'pandas.core.frame.DataFrame'>\n",
      "RangeIndex: 193 entries, 0 to 192\n",
      "Data columns (total 6 columns):\n",
      " #   Column                        Non-Null Count  Dtype  \n",
      "---  ------                        --------------  -----  \n",
      " 0   country                       193 non-null    object \n",
      " 1   beer_servings                 193 non-null    int64  \n",
      " 2   spirit_servings               193 non-null    int64  \n",
      " 3   wine_servings                 193 non-null    int64  \n",
      " 4   total_litres_of_pure_alcohol  193 non-null    float64\n",
      " 5   continent                     193 non-null    object \n",
      "dtypes: float64(1), int64(3), object(2)\n",
      "memory usage: 30.5 KB\n"
     ]
    }
   ],
   "source": [
    "drinks.info(memory_usage='deep') # 30.5 KB "
   ]
  },
  {
   "cell_type": "code",
   "execution_count": 32,
   "id": "7dee341f-e338-46a7-99ff-27c2463da8a8",
   "metadata": {},
   "outputs": [],
   "source": [
    "cols_we_need = ['beer_servings', 'continent']\n",
    "s_drinks = pd.read_csv('http://bit.ly/drinksbycountry', usecols=cols_we_need)"
   ]
  },
  {
   "cell_type": "code",
   "execution_count": 33,
   "id": "3b77c36b-9906-4762-921d-724c1495428d",
   "metadata": {},
   "outputs": [
    {
     "name": "stdout",
     "output_type": "stream",
     "text": [
      "<class 'pandas.core.frame.DataFrame'>\n",
      "RangeIndex: 193 entries, 0 to 192\n",
      "Data columns (total 2 columns):\n",
      " #   Column         Non-Null Count  Dtype \n",
      "---  ------         --------------  ----- \n",
      " 0   beer_servings  193 non-null    int64 \n",
      " 1   continent      193 non-null    object\n",
      "dtypes: int64(1), object(1)\n",
      "memory usage: 13.7 KB\n"
     ]
    }
   ],
   "source": [
    "s_drinks.info(memory_usage='deep') # 13.7 KB, the point is to use only the columns that we actually need to do\n",
    "# certain operations on"
   ]
  },
  {
   "cell_type": "code",
   "execution_count": 34,
   "id": "b6a0b72f-ebac-40ea-9955-e443cbffc153",
   "metadata": {},
   "outputs": [
    {
     "name": "stdout",
     "output_type": "stream",
     "text": [
      "<class 'pandas.core.frame.DataFrame'>\n",
      "RangeIndex: 193 entries, 0 to 192\n",
      "Data columns (total 2 columns):\n",
      " #   Column         Non-Null Count  Dtype   \n",
      "---  ------         --------------  -----   \n",
      " 0   beer_servings  193 non-null    int64   \n",
      " 1   continent      193 non-null    category\n",
      "dtypes: category(1), int64(1)\n",
      "memory usage: 2.4 KB\n"
     ]
    }
   ],
   "source": [
    "dtypes = {'continent':'category'}\n",
    "s_drinks = pd.read_csv('http://bit.ly/drinksbycountry', usecols=cols_we_need, dtype=dtypes)\n",
    "s_drinks.info(memory_usage='deep') # 2.4 KB not only columns that we need but also try to change object-type data to categorical\n",
    "# only if there are not many different values (for example not many countries to choose from)"
   ]
  },
  {
   "cell_type": "markdown",
   "id": "fe411a36-9ce1-4a71-b713-253b361c15da",
   "metadata": {},
   "source": [
    "**9. Build a DataFrame from multiple files (row-wise)**"
   ]
  },
  {
   "cell_type": "code",
   "execution_count": 35,
   "id": "bb5bd938-1baf-4808-a1c2-e8f3a7fc81d1",
   "metadata": {},
   "outputs": [],
   "source": [
    "from glob import glob # glob help us to take all filenames that match pattern from specified path. "
   ]
  },
  {
   "cell_type": "code",
   "execution_count": 36,
   "id": "de37c79e-9b31-470c-a2eb-0c4958d8efe9",
   "metadata": {},
   "outputs": [],
   "source": [
    "files = sorted(glob('./data_2/concat_*')) # we have to sort the files "
   ]
  },
  {
   "cell_type": "code",
   "execution_count": 37,
   "id": "a1ae1a88-efd3-44b0-9759-f02dffa0e021",
   "metadata": {},
   "outputs": [],
   "source": [
    "df = pd.concat((pd.read_csv(file) for file in files), ignore_index=True) # concat can take mapping and iterable so\n",
    "# we take an adventage of that, we pass ignore_index = True to make sure that index numering starts and ends in normal way."
   ]
  },
  {
   "cell_type": "code",
   "execution_count": 38,
   "id": "de3c04ee-efad-4668-9193-03ab3371a026",
   "metadata": {},
   "outputs": [
    {
     "data": {
      "text/html": [
       "<div>\n",
       "<style scoped>\n",
       "    .dataframe tbody tr th:only-of-type {\n",
       "        vertical-align: middle;\n",
       "    }\n",
       "\n",
       "    .dataframe tbody tr th {\n",
       "        vertical-align: top;\n",
       "    }\n",
       "\n",
       "    .dataframe thead th {\n",
       "        text-align: right;\n",
       "    }\n",
       "</style>\n",
       "<table border=\"1\" class=\"dataframe\">\n",
       "  <thead>\n",
       "    <tr style=\"text-align: right;\">\n",
       "      <th></th>\n",
       "      <th>A</th>\n",
       "      <th>B</th>\n",
       "      <th>C</th>\n",
       "      <th>D</th>\n",
       "    </tr>\n",
       "  </thead>\n",
       "  <tbody>\n",
       "    <tr>\n",
       "      <th>0</th>\n",
       "      <td>a0</td>\n",
       "      <td>b0</td>\n",
       "      <td>c0</td>\n",
       "      <td>d0</td>\n",
       "    </tr>\n",
       "    <tr>\n",
       "      <th>1</th>\n",
       "      <td>a1</td>\n",
       "      <td>b1</td>\n",
       "      <td>c1</td>\n",
       "      <td>d1</td>\n",
       "    </tr>\n",
       "    <tr>\n",
       "      <th>2</th>\n",
       "      <td>a2</td>\n",
       "      <td>b2</td>\n",
       "      <td>c2</td>\n",
       "      <td>d2</td>\n",
       "    </tr>\n",
       "    <tr>\n",
       "      <th>3</th>\n",
       "      <td>a3</td>\n",
       "      <td>b3</td>\n",
       "      <td>c3</td>\n",
       "      <td>d3</td>\n",
       "    </tr>\n",
       "    <tr>\n",
       "      <th>4</th>\n",
       "      <td>a4</td>\n",
       "      <td>b4</td>\n",
       "      <td>c4</td>\n",
       "      <td>d4</td>\n",
       "    </tr>\n",
       "    <tr>\n",
       "      <th>5</th>\n",
       "      <td>a5</td>\n",
       "      <td>b5</td>\n",
       "      <td>c5</td>\n",
       "      <td>d5</td>\n",
       "    </tr>\n",
       "    <tr>\n",
       "      <th>6</th>\n",
       "      <td>a6</td>\n",
       "      <td>b6</td>\n",
       "      <td>c6</td>\n",
       "      <td>d6</td>\n",
       "    </tr>\n",
       "    <tr>\n",
       "      <th>7</th>\n",
       "      <td>a7</td>\n",
       "      <td>b7</td>\n",
       "      <td>c7</td>\n",
       "      <td>d7</td>\n",
       "    </tr>\n",
       "    <tr>\n",
       "      <th>8</th>\n",
       "      <td>a8</td>\n",
       "      <td>b8</td>\n",
       "      <td>c8</td>\n",
       "      <td>d8</td>\n",
       "    </tr>\n",
       "    <tr>\n",
       "      <th>9</th>\n",
       "      <td>a9</td>\n",
       "      <td>b9</td>\n",
       "      <td>c9</td>\n",
       "      <td>d9</td>\n",
       "    </tr>\n",
       "    <tr>\n",
       "      <th>10</th>\n",
       "      <td>a10</td>\n",
       "      <td>b10</td>\n",
       "      <td>c10</td>\n",
       "      <td>d10</td>\n",
       "    </tr>\n",
       "    <tr>\n",
       "      <th>11</th>\n",
       "      <td>a11</td>\n",
       "      <td>b11</td>\n",
       "      <td>c11</td>\n",
       "      <td>d11</td>\n",
       "    </tr>\n",
       "  </tbody>\n",
       "</table>\n",
       "</div>"
      ],
      "text/plain": [
       "      A    B    C    D\n",
       "0    a0   b0   c0   d0\n",
       "1    a1   b1   c1   d1\n",
       "2    a2   b2   c2   d2\n",
       "3    a3   b3   c3   d3\n",
       "4    a4   b4   c4   d4\n",
       "5    a5   b5   c5   d5\n",
       "6    a6   b6   c6   d6\n",
       "7    a7   b7   c7   d7\n",
       "8    a8   b8   c8   d8\n",
       "9    a9   b9   c9   d9\n",
       "10  a10  b10  c10  d10\n",
       "11  a11  b11  c11  d11"
      ]
     },
     "execution_count": 38,
     "metadata": {},
     "output_type": "execute_result"
    }
   ],
   "source": [
    "df"
   ]
  },
  {
   "cell_type": "markdown",
   "id": "f14f5890-2c98-471d-a17e-b0a314439f93",
   "metadata": {},
   "source": [
    "**10. Build a DataFrame from multiple files (column-wise)**"
   ]
  },
  {
   "cell_type": "markdown",
   "id": "91858892-47b9-4b2d-ad24-c26e39779881",
   "metadata": {},
   "source": [
    "If a data set has been split into two or more files (first file has some columns, the second some and so on...) we can use this trick to concate them into single data frame column wise."
   ]
  },
  {
   "cell_type": "code",
   "execution_count": 39,
   "id": "c41a79c1-ad84-46dd-8b8e-358655c48730",
   "metadata": {},
   "outputs": [],
   "source": [
    "# pd.concat((pd.read_csv(file) for file in files), axis='columns') The diffrence ist hat we specify columns and we\n",
    "# do not care about index."
   ]
  },
  {
   "cell_type": "markdown",
   "id": "3dde4d38-0cbe-4eef-8043-c34896ab5dc9",
   "metadata": {},
   "source": [
    "**11. Create a DataFrame from the clipboard**"
   ]
  },
  {
   "cell_type": "code",
   "execution_count": 40,
   "id": "7db590ec-69b9-4912-a535-cad7a0b8f99d",
   "metadata": {},
   "outputs": [],
   "source": [
    "df = pd.read_clipboard() # u have to copy from for example excel, select table, ctrl + c and you can use this function\n",
    "# to paste it as a dataframe, wtf magic\n",
    "# pandas can recognize patterns, by that i mean as long as the table in excel look like a data frame."
   ]
  },
  {
   "cell_type": "code",
   "execution_count": 42,
   "id": "04c498af-dfc3-460f-a462-edbb178583ad",
   "metadata": {},
   "outputs": [
    {
     "data": {
      "text/plain": [
       "dawid.kula98@gmail.com    object\n",
       "dtype: object"
      ]
     },
     "execution_count": 42,
     "metadata": {},
     "output_type": "execute_result"
    }
   ],
   "source": [
    "df.dtypes"
   ]
  },
  {
   "cell_type": "markdown",
   "id": "ff8123b2-9284-4e9c-af54-33ba8fe6e7ae",
   "metadata": {},
   "source": [
    "**12. Split a DataFrame into two random subsets**"
   ]
  },
  {
   "cell_type": "markdown",
   "id": "d68cbdfb-3906-4ef3-90d4-8ce7d36e2e0f",
   "metadata": {},
   "source": [
    "To do this we can use random sampling - sample() method."
   ]
  },
  {
   "cell_type": "code",
   "execution_count": 44,
   "id": "4f653b53-225d-41cb-b716-5036907b0e1e",
   "metadata": {},
   "outputs": [],
   "source": [
    "drinks_1 = drinks.sample(frac=0.50, random_state=777)"
   ]
  },
  {
   "cell_type": "code",
   "execution_count": 53,
   "id": "554b5528-0efe-41da-984e-72ba96290103",
   "metadata": {},
   "outputs": [],
   "source": [
    "drinks_2 = drinks.drop(drinks_1.index) # cutting original dataframe, this work if indexes are unique"
   ]
  },
  {
   "cell_type": "code",
   "execution_count": 46,
   "id": "68717eb6-a879-41c5-aa10-3a0acb9619c8",
   "metadata": {},
   "outputs": [
    {
     "data": {
      "text/plain": [
       "193"
      ]
     },
     "execution_count": 46,
     "metadata": {},
     "output_type": "execute_result"
    }
   ],
   "source": [
    "len(drinks)"
   ]
  },
  {
   "cell_type": "code",
   "execution_count": 54,
   "id": "fb465650-f715-4224-92c0-4b38a5cf564b",
   "metadata": {},
   "outputs": [
    {
     "data": {
      "text/plain": [
       "193"
      ]
     },
     "execution_count": 54,
     "metadata": {},
     "output_type": "execute_result"
    }
   ],
   "source": [
    "len(drinks_1) + len(drinks_2) # same length"
   ]
  },
  {
   "cell_type": "code",
   "execution_count": 51,
   "id": "3be498fe-6577-4844-86d3-ee4586ee45ad",
   "metadata": {},
   "outputs": [
    {
     "data": {
      "text/plain": [
       "Int64Index([  1,   2,   3,   5,   6,  10,  11,  12,  13,  18,  19,  21,  22,\n",
       "             25,  26,  27,  29,  30,  33,  35,  40,  41,  42,  43,  45,  48,\n",
       "             49,  52,  57,  63,  64,  72,  73,  75,  76,  77,  79,  81,  83,\n",
       "             86,  90,  93,  94,  96,  97,  98, 101, 102, 106, 107, 110, 113,\n",
       "            114, 118, 121, 124, 125, 126, 131, 132, 133, 134, 136, 137, 139,\n",
       "            140, 144, 145, 147, 148, 151, 154, 155, 156, 158, 159, 160, 161,\n",
       "            163, 164, 168, 169, 170, 171, 175, 176, 178, 179, 180, 182, 185,\n",
       "            186, 187, 189, 190, 191],\n",
       "           dtype='int64')"
      ]
     },
     "execution_count": 51,
     "metadata": {},
     "output_type": "execute_result"
    }
   ],
   "source": [
    "drinks_1.index.sort_values()"
   ]
  },
  {
   "cell_type": "code",
   "execution_count": 52,
   "id": "fce5c488-8f15-4890-a4ca-f82eb5f30111",
   "metadata": {},
   "outputs": [
    {
     "data": {
      "text/plain": [
       "Int64Index([  0,   4,   7,   8,   9,  14,  15,  16,  17,  20,  23,  24,  28,\n",
       "             31,  32,  34,  36,  37,  38,  39,  44,  46,  47,  50,  51,  53,\n",
       "             54,  55,  56,  58,  59,  60,  61,  62,  65,  66,  67,  68,  69,\n",
       "             70,  71,  74,  78,  80,  82,  84,  85,  87,  88,  89,  91,  92,\n",
       "             95,  99, 100, 103, 104, 105, 108, 109, 111, 112, 115, 116, 117,\n",
       "            119, 120, 122, 123, 127, 128, 129, 130, 135, 138, 141, 142, 143,\n",
       "            146, 149, 150, 152, 153, 157, 162, 165, 166, 167, 172, 173, 174,\n",
       "            177, 181, 183, 184, 188, 192],\n",
       "           dtype='int64')"
      ]
     },
     "execution_count": 52,
     "metadata": {},
     "output_type": "execute_result"
    }
   ],
   "source": [
    "drinks_2.index.sort_values()"
   ]
  },
  {
   "cell_type": "markdown",
   "id": "4dc7b1cc-07d5-452b-b512-11a224611f17",
   "metadata": {},
   "source": [
    "**13. Filter a DataFrame by multiple categories**"
   ]
  },
  {
   "cell_type": "code",
   "execution_count": 63,
   "id": "ea9014ff-af89-4bb7-bf78-2728a7869410",
   "metadata": {},
   "outputs": [
    {
     "data": {
      "text/html": [
       "<div>\n",
       "<style scoped>\n",
       "    .dataframe tbody tr th:only-of-type {\n",
       "        vertical-align: middle;\n",
       "    }\n",
       "\n",
       "    .dataframe tbody tr th {\n",
       "        vertical-align: top;\n",
       "    }\n",
       "\n",
       "    .dataframe thead th {\n",
       "        text-align: right;\n",
       "    }\n",
       "</style>\n",
       "<table border=\"1\" class=\"dataframe\">\n",
       "  <thead>\n",
       "    <tr style=\"text-align: right;\">\n",
       "      <th></th>\n",
       "      <th>country</th>\n",
       "      <th>beer_servings</th>\n",
       "      <th>spirit_servings</th>\n",
       "      <th>wine_servings</th>\n",
       "      <th>total_litres_of_pure_alcohol</th>\n",
       "      <th>continent</th>\n",
       "    </tr>\n",
       "  </thead>\n",
       "  <tbody>\n",
       "    <tr>\n",
       "      <th>0</th>\n",
       "      <td>Afghanistan</td>\n",
       "      <td>0</td>\n",
       "      <td>0</td>\n",
       "      <td>0</td>\n",
       "      <td>0.0</td>\n",
       "      <td>Asia</td>\n",
       "    </tr>\n",
       "    <tr>\n",
       "      <th>1</th>\n",
       "      <td>Albania</td>\n",
       "      <td>89</td>\n",
       "      <td>132</td>\n",
       "      <td>54</td>\n",
       "      <td>4.9</td>\n",
       "      <td>Europe</td>\n",
       "    </tr>\n",
       "  </tbody>\n",
       "</table>\n",
       "</div>"
      ],
      "text/plain": [
       "       country  beer_servings  spirit_servings  wine_servings  \\\n",
       "0  Afghanistan              0                0              0   \n",
       "1      Albania             89              132             54   \n",
       "\n",
       "   total_litres_of_pure_alcohol continent  \n",
       "0                           0.0      Asia  \n",
       "1                           4.9    Europe  "
      ]
     },
     "execution_count": 63,
     "metadata": {},
     "output_type": "execute_result"
    }
   ],
   "source": [
    "drinks.loc[(drinks.country == 'Albania') |\n",
    "           (drinks.country == 'Afghanistan')]\n",
    "# too long"
   ]
  },
  {
   "cell_type": "code",
   "execution_count": 64,
   "id": "9c8017a6-2f41-4dbf-b500-adea19908da5",
   "metadata": {},
   "outputs": [
    {
     "data": {
      "text/html": [
       "<div>\n",
       "<style scoped>\n",
       "    .dataframe tbody tr th:only-of-type {\n",
       "        vertical-align: middle;\n",
       "    }\n",
       "\n",
       "    .dataframe tbody tr th {\n",
       "        vertical-align: top;\n",
       "    }\n",
       "\n",
       "    .dataframe thead th {\n",
       "        text-align: right;\n",
       "    }\n",
       "</style>\n",
       "<table border=\"1\" class=\"dataframe\">\n",
       "  <thead>\n",
       "    <tr style=\"text-align: right;\">\n",
       "      <th></th>\n",
       "      <th>country</th>\n",
       "      <th>beer_servings</th>\n",
       "      <th>spirit_servings</th>\n",
       "      <th>wine_servings</th>\n",
       "      <th>total_litres_of_pure_alcohol</th>\n",
       "      <th>continent</th>\n",
       "    </tr>\n",
       "  </thead>\n",
       "  <tbody>\n",
       "    <tr>\n",
       "      <th>0</th>\n",
       "      <td>Afghanistan</td>\n",
       "      <td>0</td>\n",
       "      <td>0</td>\n",
       "      <td>0</td>\n",
       "      <td>0.0</td>\n",
       "      <td>Asia</td>\n",
       "    </tr>\n",
       "    <tr>\n",
       "      <th>1</th>\n",
       "      <td>Albania</td>\n",
       "      <td>89</td>\n",
       "      <td>132</td>\n",
       "      <td>54</td>\n",
       "      <td>4.9</td>\n",
       "      <td>Europe</td>\n",
       "    </tr>\n",
       "  </tbody>\n",
       "</table>\n",
       "</div>"
      ],
      "text/plain": [
       "       country  beer_servings  spirit_servings  wine_servings  \\\n",
       "0  Afghanistan              0                0              0   \n",
       "1      Albania             89              132             54   \n",
       "\n",
       "   total_litres_of_pure_alcohol continent  \n",
       "0                           0.0      Asia  \n",
       "1                           4.9    Europe  "
      ]
     },
     "execution_count": 64,
     "metadata": {},
     "output_type": "execute_result"
    }
   ],
   "source": [
    "drinks.loc[drinks.country.isin(['Albania','Afghanistan'])] # more elegant and readable"
   ]
  },
  {
   "cell_type": "markdown",
   "id": "aa045348-9276-43ae-804a-8cfcde1ab881",
   "metadata": {},
   "source": [
    "**14. Filter a DataFrame by largest categories**"
   ]
  },
  {
   "cell_type": "code",
   "execution_count": 70,
   "id": "0073697a-5cd0-4da1-9ba5-fae8aedd8caf",
   "metadata": {},
   "outputs": [],
   "source": [
    "count_continent = drinks.continent.value_counts()"
   ]
  },
  {
   "cell_type": "code",
   "execution_count": 71,
   "id": "2660cba6-85a7-4985-a5a6-3cc94e5aa4fe",
   "metadata": {},
   "outputs": [
    {
     "data": {
      "text/plain": [
       "Africa    53\n",
       "Europe    45\n",
       "Asia      44\n",
       "Name: continent, dtype: int64"
      ]
     },
     "execution_count": 71,
     "metadata": {},
     "output_type": "execute_result"
    }
   ],
   "source": [
    "count_continent.nlargest(3)"
   ]
  },
  {
   "cell_type": "code",
   "execution_count": 72,
   "id": "3c9b5208-d862-4278-a0f0-3d5134f51449",
   "metadata": {},
   "outputs": [
    {
     "data": {
      "text/plain": [
       "Index(['Africa', 'Europe', 'Asia'], dtype='object')"
      ]
     },
     "execution_count": 72,
     "metadata": {},
     "output_type": "execute_result"
    }
   ],
   "source": [
    "count_continent.nlargest(3).index"
   ]
  },
  {
   "cell_type": "code",
   "execution_count": 77,
   "id": "2ff2df44-8aa9-4f7d-bc2b-49f849c0dd54",
   "metadata": {},
   "outputs": [
    {
     "data": {
      "text/html": [
       "<div>\n",
       "<style scoped>\n",
       "    .dataframe tbody tr th:only-of-type {\n",
       "        vertical-align: middle;\n",
       "    }\n",
       "\n",
       "    .dataframe tbody tr th {\n",
       "        vertical-align: top;\n",
       "    }\n",
       "\n",
       "    .dataframe thead th {\n",
       "        text-align: right;\n",
       "    }\n",
       "</style>\n",
       "<table border=\"1\" class=\"dataframe\">\n",
       "  <thead>\n",
       "    <tr style=\"text-align: right;\">\n",
       "      <th></th>\n",
       "      <th>country</th>\n",
       "      <th>beer_servings</th>\n",
       "      <th>spirit_servings</th>\n",
       "      <th>wine_servings</th>\n",
       "      <th>total_litres_of_pure_alcohol</th>\n",
       "      <th>continent</th>\n",
       "    </tr>\n",
       "  </thead>\n",
       "  <tbody>\n",
       "    <tr>\n",
       "      <th>0</th>\n",
       "      <td>Afghanistan</td>\n",
       "      <td>0</td>\n",
       "      <td>0</td>\n",
       "      <td>0</td>\n",
       "      <td>0.0</td>\n",
       "      <td>Asia</td>\n",
       "    </tr>\n",
       "    <tr>\n",
       "      <th>1</th>\n",
       "      <td>Albania</td>\n",
       "      <td>89</td>\n",
       "      <td>132</td>\n",
       "      <td>54</td>\n",
       "      <td>4.9</td>\n",
       "      <td>Europe</td>\n",
       "    </tr>\n",
       "    <tr>\n",
       "      <th>2</th>\n",
       "      <td>Algeria</td>\n",
       "      <td>25</td>\n",
       "      <td>0</td>\n",
       "      <td>14</td>\n",
       "      <td>0.7</td>\n",
       "      <td>Africa</td>\n",
       "    </tr>\n",
       "    <tr>\n",
       "      <th>3</th>\n",
       "      <td>Andorra</td>\n",
       "      <td>245</td>\n",
       "      <td>138</td>\n",
       "      <td>312</td>\n",
       "      <td>12.4</td>\n",
       "      <td>Europe</td>\n",
       "    </tr>\n",
       "    <tr>\n",
       "      <th>4</th>\n",
       "      <td>Angola</td>\n",
       "      <td>217</td>\n",
       "      <td>57</td>\n",
       "      <td>45</td>\n",
       "      <td>5.9</td>\n",
       "      <td>Africa</td>\n",
       "    </tr>\n",
       "    <tr>\n",
       "      <th>...</th>\n",
       "      <td>...</td>\n",
       "      <td>...</td>\n",
       "      <td>...</td>\n",
       "      <td>...</td>\n",
       "      <td>...</td>\n",
       "      <td>...</td>\n",
       "    </tr>\n",
       "    <tr>\n",
       "      <th>186</th>\n",
       "      <td>Uzbekistan</td>\n",
       "      <td>25</td>\n",
       "      <td>101</td>\n",
       "      <td>8</td>\n",
       "      <td>2.4</td>\n",
       "      <td>Asia</td>\n",
       "    </tr>\n",
       "    <tr>\n",
       "      <th>189</th>\n",
       "      <td>Vietnam</td>\n",
       "      <td>111</td>\n",
       "      <td>2</td>\n",
       "      <td>1</td>\n",
       "      <td>2.0</td>\n",
       "      <td>Asia</td>\n",
       "    </tr>\n",
       "    <tr>\n",
       "      <th>190</th>\n",
       "      <td>Yemen</td>\n",
       "      <td>6</td>\n",
       "      <td>0</td>\n",
       "      <td>0</td>\n",
       "      <td>0.1</td>\n",
       "      <td>Asia</td>\n",
       "    </tr>\n",
       "    <tr>\n",
       "      <th>191</th>\n",
       "      <td>Zambia</td>\n",
       "      <td>32</td>\n",
       "      <td>19</td>\n",
       "      <td>4</td>\n",
       "      <td>2.5</td>\n",
       "      <td>Africa</td>\n",
       "    </tr>\n",
       "    <tr>\n",
       "      <th>192</th>\n",
       "      <td>Zimbabwe</td>\n",
       "      <td>64</td>\n",
       "      <td>18</td>\n",
       "      <td>4</td>\n",
       "      <td>4.7</td>\n",
       "      <td>Africa</td>\n",
       "    </tr>\n",
       "  </tbody>\n",
       "</table>\n",
       "<p>142 rows × 6 columns</p>\n",
       "</div>"
      ],
      "text/plain": [
       "         country  beer_servings  spirit_servings  wine_servings  \\\n",
       "0    Afghanistan              0                0              0   \n",
       "1        Albania             89              132             54   \n",
       "2        Algeria             25                0             14   \n",
       "3        Andorra            245              138            312   \n",
       "4         Angola            217               57             45   \n",
       "..           ...            ...              ...            ...   \n",
       "186   Uzbekistan             25              101              8   \n",
       "189      Vietnam            111                2              1   \n",
       "190        Yemen              6                0              0   \n",
       "191       Zambia             32               19              4   \n",
       "192     Zimbabwe             64               18              4   \n",
       "\n",
       "     total_litres_of_pure_alcohol continent  \n",
       "0                             0.0      Asia  \n",
       "1                             4.9    Europe  \n",
       "2                             0.7    Africa  \n",
       "3                            12.4    Europe  \n",
       "4                             5.9    Africa  \n",
       "..                            ...       ...  \n",
       "186                           2.4      Asia  \n",
       "189                           2.0      Asia  \n",
       "190                           0.1      Asia  \n",
       "191                           2.5    Africa  \n",
       "192                           4.7    Africa  \n",
       "\n",
       "[142 rows x 6 columns]"
      ]
     },
     "execution_count": 77,
     "metadata": {},
     "output_type": "execute_result"
    }
   ],
   "source": [
    "drinks.loc[drinks.continent.isin(count_continent.nlargest(3).index)] # show only top 3 most common continent"
   ]
  },
  {
   "cell_type": "markdown",
   "id": "1a620ed1-7e9d-4793-8ca9-4ec1fcdcb507",
   "metadata": {},
   "source": [
    "**15. Handle missing values (threshold)**"
   ]
  },
  {
   "cell_type": "code",
   "execution_count": 85,
   "id": "84e14611-781d-4e42-81c4-cbc540647325",
   "metadata": {},
   "outputs": [],
   "source": [
    "train_df.loc[len(train_df)] = ['Marry', np.nan, 33662, 41, np.nan]"
   ]
  },
  {
   "cell_type": "code",
   "execution_count": 86,
   "id": "cf6c8cef-13ac-407d-b729-b5f9c57f1382",
   "metadata": {},
   "outputs": [
    {
     "data": {
      "text/html": [
       "<div>\n",
       "<style scoped>\n",
       "    .dataframe tbody tr th:only-of-type {\n",
       "        vertical-align: middle;\n",
       "    }\n",
       "\n",
       "    .dataframe tbody tr th {\n",
       "        vertical-align: top;\n",
       "    }\n",
       "\n",
       "    .dataframe thead th {\n",
       "        text-align: right;\n",
       "    }\n",
       "</style>\n",
       "<table border=\"1\" class=\"dataframe\">\n",
       "  <thead>\n",
       "    <tr style=\"text-align: right;\">\n",
       "      <th></th>\n",
       "      <th>name</th>\n",
       "      <th>age</th>\n",
       "      <th>payment</th>\n",
       "      <th>fav_number</th>\n",
       "      <th>bad_number</th>\n",
       "    </tr>\n",
       "  </thead>\n",
       "  <tbody>\n",
       "    <tr>\n",
       "      <th>0</th>\n",
       "      <td>Josh</td>\n",
       "      <td>20.0</td>\n",
       "      <td>512.93</td>\n",
       "      <td>7</td>\n",
       "      <td>51</td>\n",
       "    </tr>\n",
       "    <tr>\n",
       "      <th>1</th>\n",
       "      <td>John</td>\n",
       "      <td>21.0</td>\n",
       "      <td>321.12</td>\n",
       "      <td>25</td>\n",
       "      <td>22</td>\n",
       "    </tr>\n",
       "    <tr>\n",
       "      <th>2</th>\n",
       "      <td>Anna</td>\n",
       "      <td>51.0</td>\n",
       "      <td>866.00</td>\n",
       "      <td>51</td>\n",
       "      <td>67</td>\n",
       "    </tr>\n",
       "    <tr>\n",
       "      <th>3</th>\n",
       "      <td>Jane</td>\n",
       "      <td>NaN</td>\n",
       "      <td>3332.00</td>\n",
       "      <td>11</td>\n",
       "      <td>NaN</td>\n",
       "    </tr>\n",
       "    <tr>\n",
       "      <th>4</th>\n",
       "      <td>Marry</td>\n",
       "      <td>NaN</td>\n",
       "      <td>33662.00</td>\n",
       "      <td>41</td>\n",
       "      <td>NaN</td>\n",
       "    </tr>\n",
       "  </tbody>\n",
       "</table>\n",
       "</div>"
      ],
      "text/plain": [
       "    name   age   payment  fav_number bad_number\n",
       "0   Josh  20.0    512.93           7         51\n",
       "1   John  21.0    321.12          25         22\n",
       "2   Anna  51.0    866.00          51         67\n",
       "3   Jane   NaN   3332.00          11        NaN\n",
       "4  Marry   NaN  33662.00          41        NaN"
      ]
     },
     "execution_count": 86,
     "metadata": {},
     "output_type": "execute_result"
    }
   ],
   "source": [
    "train_df"
   ]
  },
  {
   "cell_type": "code",
   "execution_count": 90,
   "id": "5df5dc2b-e8c3-412d-869f-fed73274c8dc",
   "metadata": {},
   "outputs": [
    {
     "data": {
      "text/plain": [
       "name          0\n",
       "age           2\n",
       "payment       0\n",
       "fav_number    0\n",
       "bad_number    2\n",
       "dtype: int64"
      ]
     },
     "execution_count": 90,
     "metadata": {},
     "output_type": "execute_result"
    }
   ],
   "source": [
    "train_df.isna().sum() # treat true as 1 false as 0 and sum up. We get how many misisng values we have in specific columns"
   ]
  },
  {
   "cell_type": "code",
   "execution_count": 92,
   "id": "7a54ecf1-8a86-47db-a5f9-ffa5389c5b5a",
   "metadata": {},
   "outputs": [
    {
     "data": {
      "text/plain": [
       "name          0.0\n",
       "age           0.4\n",
       "payment       0.0\n",
       "fav_number    0.0\n",
       "bad_number    0.4\n",
       "dtype: float64"
      ]
     },
     "execution_count": 92,
     "metadata": {},
     "output_type": "execute_result"
    }
   ],
   "source": [
    "train_df.isna().mean() # % missing values"
   ]
  },
  {
   "cell_type": "code",
   "execution_count": 94,
   "id": "b063bbe0-5cd2-4c10-82a8-c0ecf748cafa",
   "metadata": {},
   "outputs": [
    {
     "data": {
      "text/html": [
       "<div>\n",
       "<style scoped>\n",
       "    .dataframe tbody tr th:only-of-type {\n",
       "        vertical-align: middle;\n",
       "    }\n",
       "\n",
       "    .dataframe tbody tr th {\n",
       "        vertical-align: top;\n",
       "    }\n",
       "\n",
       "    .dataframe thead th {\n",
       "        text-align: right;\n",
       "    }\n",
       "</style>\n",
       "<table border=\"1\" class=\"dataframe\">\n",
       "  <thead>\n",
       "    <tr style=\"text-align: right;\">\n",
       "      <th></th>\n",
       "      <th>name</th>\n",
       "      <th>age</th>\n",
       "      <th>payment</th>\n",
       "      <th>fav_number</th>\n",
       "      <th>bad_number</th>\n",
       "    </tr>\n",
       "  </thead>\n",
       "  <tbody>\n",
       "    <tr>\n",
       "      <th>0</th>\n",
       "      <td>Josh</td>\n",
       "      <td>20.0</td>\n",
       "      <td>512.93</td>\n",
       "      <td>7</td>\n",
       "      <td>51</td>\n",
       "    </tr>\n",
       "    <tr>\n",
       "      <th>1</th>\n",
       "      <td>John</td>\n",
       "      <td>21.0</td>\n",
       "      <td>321.12</td>\n",
       "      <td>25</td>\n",
       "      <td>22</td>\n",
       "    </tr>\n",
       "    <tr>\n",
       "      <th>2</th>\n",
       "      <td>Anna</td>\n",
       "      <td>51.0</td>\n",
       "      <td>866.00</td>\n",
       "      <td>51</td>\n",
       "      <td>67</td>\n",
       "    </tr>\n",
       "  </tbody>\n",
       "</table>\n",
       "</div>"
      ],
      "text/plain": [
       "   name   age  payment  fav_number bad_number\n",
       "0  Josh  20.0   512.93           7         51\n",
       "1  John  21.0   321.12          25         22\n",
       "2  Anna  51.0   866.00          51         67"
      ]
     },
     "execution_count": 94,
     "metadata": {},
     "output_type": "execute_result"
    }
   ],
   "source": [
    "train_df.dropna(axis=0) # drops columns or rows which have nan values"
   ]
  },
  {
   "cell_type": "code",
   "execution_count": 100,
   "id": "9ad70f31-ad77-4bb9-8f39-ca8287473a35",
   "metadata": {},
   "outputs": [
    {
     "data": {
      "text/html": [
       "<div>\n",
       "<style scoped>\n",
       "    .dataframe tbody tr th:only-of-type {\n",
       "        vertical-align: middle;\n",
       "    }\n",
       "\n",
       "    .dataframe tbody tr th {\n",
       "        vertical-align: top;\n",
       "    }\n",
       "\n",
       "    .dataframe thead th {\n",
       "        text-align: right;\n",
       "    }\n",
       "</style>\n",
       "<table border=\"1\" class=\"dataframe\">\n",
       "  <thead>\n",
       "    <tr style=\"text-align: right;\">\n",
       "      <th></th>\n",
       "      <th>name</th>\n",
       "      <th>payment</th>\n",
       "      <th>fav_number</th>\n",
       "    </tr>\n",
       "  </thead>\n",
       "  <tbody>\n",
       "    <tr>\n",
       "      <th>0</th>\n",
       "      <td>Josh</td>\n",
       "      <td>512.93</td>\n",
       "      <td>7</td>\n",
       "    </tr>\n",
       "    <tr>\n",
       "      <th>1</th>\n",
       "      <td>John</td>\n",
       "      <td>321.12</td>\n",
       "      <td>25</td>\n",
       "    </tr>\n",
       "    <tr>\n",
       "      <th>2</th>\n",
       "      <td>Anna</td>\n",
       "      <td>866.00</td>\n",
       "      <td>51</td>\n",
       "    </tr>\n",
       "    <tr>\n",
       "      <th>3</th>\n",
       "      <td>Jane</td>\n",
       "      <td>3332.00</td>\n",
       "      <td>11</td>\n",
       "    </tr>\n",
       "    <tr>\n",
       "      <th>4</th>\n",
       "      <td>Marry</td>\n",
       "      <td>33662.00</td>\n",
       "      <td>41</td>\n",
       "    </tr>\n",
       "  </tbody>\n",
       "</table>\n",
       "</div>"
      ],
      "text/plain": [
       "    name   payment  fav_number\n",
       "0   Josh    512.93           7\n",
       "1   John    321.12          25\n",
       "2   Anna    866.00          51\n",
       "3   Jane   3332.00          11\n",
       "4  Marry  33662.00          41"
      ]
     },
     "execution_count": 100,
     "metadata": {},
     "output_type": "execute_result"
    }
   ],
   "source": [
    "train_df.dropna(thresh=len(train_df) * 0.9, axis=1) # in this case we tell pandas to keep columns which\n",
    "# 90% of values are not NaN. We can pass simple int and so that the treshold would be fixed"
   ]
  },
  {
   "cell_type": "markdown",
   "id": "ea0437da-d236-4399-95a6-4e9f7f30a5c7",
   "metadata": {},
   "source": [
    "**16. Split a string into multiple columns**"
   ]
  },
  {
   "cell_type": "code",
   "execution_count": 101,
   "id": "17cad707-1e2a-41a6-a3ad-36942cabe218",
   "metadata": {},
   "outputs": [],
   "source": [
    "hdf = pd.DataFrame({'name':['John Doe', 'Henry Cavil'], 'height':[176, 194]})"
   ]
  },
  {
   "cell_type": "code",
   "execution_count": 103,
   "id": "de271b48-b725-4ab3-9fb8-6f5ab3ded671",
   "metadata": {},
   "outputs": [],
   "source": [
    "hdf[['first.name', 'last.name']] = hdf.name.str.split(' ',expand=True)"
   ]
  },
  {
   "cell_type": "code",
   "execution_count": 104,
   "id": "755be088-22c6-43f7-8203-4d157e0620c3",
   "metadata": {},
   "outputs": [
    {
     "data": {
      "text/html": [
       "<div>\n",
       "<style scoped>\n",
       "    .dataframe tbody tr th:only-of-type {\n",
       "        vertical-align: middle;\n",
       "    }\n",
       "\n",
       "    .dataframe tbody tr th {\n",
       "        vertical-align: top;\n",
       "    }\n",
       "\n",
       "    .dataframe thead th {\n",
       "        text-align: right;\n",
       "    }\n",
       "</style>\n",
       "<table border=\"1\" class=\"dataframe\">\n",
       "  <thead>\n",
       "    <tr style=\"text-align: right;\">\n",
       "      <th></th>\n",
       "      <th>name</th>\n",
       "      <th>height</th>\n",
       "      <th>first.name</th>\n",
       "      <th>last.name</th>\n",
       "    </tr>\n",
       "  </thead>\n",
       "  <tbody>\n",
       "    <tr>\n",
       "      <th>0</th>\n",
       "      <td>John Doe</td>\n",
       "      <td>176</td>\n",
       "      <td>John</td>\n",
       "      <td>Doe</td>\n",
       "    </tr>\n",
       "    <tr>\n",
       "      <th>1</th>\n",
       "      <td>Henry Cavil</td>\n",
       "      <td>194</td>\n",
       "      <td>Henry</td>\n",
       "      <td>Cavil</td>\n",
       "    </tr>\n",
       "  </tbody>\n",
       "</table>\n",
       "</div>"
      ],
      "text/plain": [
       "          name  height first.name last.name\n",
       "0     John Doe     176       John       Doe\n",
       "1  Henry Cavil     194      Henry     Cavil"
      ]
     },
     "execution_count": 104,
     "metadata": {},
     "output_type": "execute_result"
    }
   ],
   "source": [
    "hdf"
   ]
  },
  {
   "cell_type": "markdown",
   "id": "fbe91f86-9baf-4525-a7c2-b7a746a9085e",
   "metadata": {},
   "source": [
    "**17. Expand a Series (column) of lists into a DataFrame**"
   ]
  },
  {
   "cell_type": "code",
   "execution_count": 108,
   "id": "864f9735-fc69-4ce7-ad18-92d74ee07fb3",
   "metadata": {},
   "outputs": [],
   "source": [
    "train_df['codes'] = [[10, 20], [40, 41], [94, 83], [17, 23], [1,2]]"
   ]
  },
  {
   "cell_type": "code",
   "execution_count": 110,
   "id": "1cb7db9a-2513-4670-ba69-f209455e1095",
   "metadata": {},
   "outputs": [
    {
     "data": {
      "text/html": [
       "<div>\n",
       "<style scoped>\n",
       "    .dataframe tbody tr th:only-of-type {\n",
       "        vertical-align: middle;\n",
       "    }\n",
       "\n",
       "    .dataframe tbody tr th {\n",
       "        vertical-align: top;\n",
       "    }\n",
       "\n",
       "    .dataframe thead th {\n",
       "        text-align: right;\n",
       "    }\n",
       "</style>\n",
       "<table border=\"1\" class=\"dataframe\">\n",
       "  <thead>\n",
       "    <tr style=\"text-align: right;\">\n",
       "      <th></th>\n",
       "      <th>name</th>\n",
       "      <th>age</th>\n",
       "      <th>payment</th>\n",
       "      <th>fav_number</th>\n",
       "      <th>bad_number</th>\n",
       "      <th>codes</th>\n",
       "    </tr>\n",
       "  </thead>\n",
       "  <tbody>\n",
       "    <tr>\n",
       "      <th>0</th>\n",
       "      <td>Josh</td>\n",
       "      <td>20.0</td>\n",
       "      <td>512.93</td>\n",
       "      <td>7</td>\n",
       "      <td>51</td>\n",
       "      <td>[10, 20]</td>\n",
       "    </tr>\n",
       "    <tr>\n",
       "      <th>1</th>\n",
       "      <td>John</td>\n",
       "      <td>21.0</td>\n",
       "      <td>321.12</td>\n",
       "      <td>25</td>\n",
       "      <td>22</td>\n",
       "      <td>[40, 41]</td>\n",
       "    </tr>\n",
       "    <tr>\n",
       "      <th>2</th>\n",
       "      <td>Anna</td>\n",
       "      <td>51.0</td>\n",
       "      <td>866.00</td>\n",
       "      <td>51</td>\n",
       "      <td>67</td>\n",
       "      <td>[94, 83]</td>\n",
       "    </tr>\n",
       "    <tr>\n",
       "      <th>3</th>\n",
       "      <td>Jane</td>\n",
       "      <td>NaN</td>\n",
       "      <td>3332.00</td>\n",
       "      <td>11</td>\n",
       "      <td>NaN</td>\n",
       "      <td>[17, 23]</td>\n",
       "    </tr>\n",
       "    <tr>\n",
       "      <th>4</th>\n",
       "      <td>Marry</td>\n",
       "      <td>NaN</td>\n",
       "      <td>33662.00</td>\n",
       "      <td>41</td>\n",
       "      <td>NaN</td>\n",
       "      <td>[1, 2]</td>\n",
       "    </tr>\n",
       "  </tbody>\n",
       "</table>\n",
       "</div>"
      ],
      "text/plain": [
       "    name   age   payment  fav_number bad_number     codes\n",
       "0   Josh  20.0    512.93           7         51  [10, 20]\n",
       "1   John  21.0    321.12          25         22  [40, 41]\n",
       "2   Anna  51.0    866.00          51         67  [94, 83]\n",
       "3   Jane   NaN   3332.00          11        NaN  [17, 23]\n",
       "4  Marry   NaN  33662.00          41        NaN    [1, 2]"
      ]
     },
     "execution_count": 110,
     "metadata": {},
     "output_type": "execute_result"
    }
   ],
   "source": [
    "train_df"
   ]
  },
  {
   "cell_type": "code",
   "execution_count": 112,
   "id": "7aef8542-11cd-49e9-95fa-5a1ee2958663",
   "metadata": {},
   "outputs": [],
   "source": [
    "t_expand = train_df.codes.apply(pd.Series)"
   ]
  },
  {
   "cell_type": "code",
   "execution_count": 116,
   "id": "d663d2ee-5e03-4fa6-97e3-68a719692f4d",
   "metadata": {},
   "outputs": [],
   "source": [
    "n_train_df = pd.concat([train_df, t_expand], axis=1)"
   ]
  },
  {
   "cell_type": "code",
   "execution_count": 117,
   "id": "352cec0b-7ee2-4e70-8e27-619a60f32a2e",
   "metadata": {},
   "outputs": [
    {
     "data": {
      "text/html": [
       "<div>\n",
       "<style scoped>\n",
       "    .dataframe tbody tr th:only-of-type {\n",
       "        vertical-align: middle;\n",
       "    }\n",
       "\n",
       "    .dataframe tbody tr th {\n",
       "        vertical-align: top;\n",
       "    }\n",
       "\n",
       "    .dataframe thead th {\n",
       "        text-align: right;\n",
       "    }\n",
       "</style>\n",
       "<table border=\"1\" class=\"dataframe\">\n",
       "  <thead>\n",
       "    <tr style=\"text-align: right;\">\n",
       "      <th></th>\n",
       "      <th>name</th>\n",
       "      <th>age</th>\n",
       "      <th>payment</th>\n",
       "      <th>fav_number</th>\n",
       "      <th>bad_number</th>\n",
       "      <th>codes</th>\n",
       "      <th>0</th>\n",
       "      <th>1</th>\n",
       "    </tr>\n",
       "  </thead>\n",
       "  <tbody>\n",
       "    <tr>\n",
       "      <th>0</th>\n",
       "      <td>Josh</td>\n",
       "      <td>20.0</td>\n",
       "      <td>512.93</td>\n",
       "      <td>7</td>\n",
       "      <td>51</td>\n",
       "      <td>[10, 20]</td>\n",
       "      <td>10</td>\n",
       "      <td>20</td>\n",
       "    </tr>\n",
       "    <tr>\n",
       "      <th>1</th>\n",
       "      <td>John</td>\n",
       "      <td>21.0</td>\n",
       "      <td>321.12</td>\n",
       "      <td>25</td>\n",
       "      <td>22</td>\n",
       "      <td>[40, 41]</td>\n",
       "      <td>40</td>\n",
       "      <td>41</td>\n",
       "    </tr>\n",
       "    <tr>\n",
       "      <th>2</th>\n",
       "      <td>Anna</td>\n",
       "      <td>51.0</td>\n",
       "      <td>866.00</td>\n",
       "      <td>51</td>\n",
       "      <td>67</td>\n",
       "      <td>[94, 83]</td>\n",
       "      <td>94</td>\n",
       "      <td>83</td>\n",
       "    </tr>\n",
       "    <tr>\n",
       "      <th>3</th>\n",
       "      <td>Jane</td>\n",
       "      <td>NaN</td>\n",
       "      <td>3332.00</td>\n",
       "      <td>11</td>\n",
       "      <td>NaN</td>\n",
       "      <td>[17, 23]</td>\n",
       "      <td>17</td>\n",
       "      <td>23</td>\n",
       "    </tr>\n",
       "    <tr>\n",
       "      <th>4</th>\n",
       "      <td>Marry</td>\n",
       "      <td>NaN</td>\n",
       "      <td>33662.00</td>\n",
       "      <td>41</td>\n",
       "      <td>NaN</td>\n",
       "      <td>[1, 2]</td>\n",
       "      <td>1</td>\n",
       "      <td>2</td>\n",
       "    </tr>\n",
       "  </tbody>\n",
       "</table>\n",
       "</div>"
      ],
      "text/plain": [
       "    name   age   payment  fav_number bad_number     codes   0   1\n",
       "0   Josh  20.0    512.93           7         51  [10, 20]  10  20\n",
       "1   John  21.0    321.12          25         22  [40, 41]  40  41\n",
       "2   Anna  51.0    866.00          51         67  [94, 83]  94  83\n",
       "3   Jane   NaN   3332.00          11        NaN  [17, 23]  17  23\n",
       "4  Marry   NaN  33662.00          41        NaN    [1, 2]   1   2"
      ]
     },
     "execution_count": 117,
     "metadata": {},
     "output_type": "execute_result"
    }
   ],
   "source": [
    "n_train_df"
   ]
  },
  {
   "cell_type": "code",
   "execution_count": 122,
   "id": "bb7acb69-9531-40fa-ae86-2a459143d2a4",
   "metadata": {},
   "outputs": [],
   "source": [
    "train_df[['1_part', '2_part']] = train_df.codes.apply(lambda x : pd.Series(x))"
   ]
  },
  {
   "cell_type": "code",
   "execution_count": 123,
   "id": "a9d3d1c4-4851-4a6a-ae4d-6d569adaf6d0",
   "metadata": {},
   "outputs": [
    {
     "data": {
      "text/html": [
       "<div>\n",
       "<style scoped>\n",
       "    .dataframe tbody tr th:only-of-type {\n",
       "        vertical-align: middle;\n",
       "    }\n",
       "\n",
       "    .dataframe tbody tr th {\n",
       "        vertical-align: top;\n",
       "    }\n",
       "\n",
       "    .dataframe thead th {\n",
       "        text-align: right;\n",
       "    }\n",
       "</style>\n",
       "<table border=\"1\" class=\"dataframe\">\n",
       "  <thead>\n",
       "    <tr style=\"text-align: right;\">\n",
       "      <th></th>\n",
       "      <th>name</th>\n",
       "      <th>age</th>\n",
       "      <th>payment</th>\n",
       "      <th>fav_number</th>\n",
       "      <th>bad_number</th>\n",
       "      <th>codes</th>\n",
       "      <th>1_part</th>\n",
       "      <th>2_part</th>\n",
       "    </tr>\n",
       "  </thead>\n",
       "  <tbody>\n",
       "    <tr>\n",
       "      <th>0</th>\n",
       "      <td>Josh</td>\n",
       "      <td>20.0</td>\n",
       "      <td>512.93</td>\n",
       "      <td>7</td>\n",
       "      <td>51</td>\n",
       "      <td>[10, 20]</td>\n",
       "      <td>10</td>\n",
       "      <td>20</td>\n",
       "    </tr>\n",
       "    <tr>\n",
       "      <th>1</th>\n",
       "      <td>John</td>\n",
       "      <td>21.0</td>\n",
       "      <td>321.12</td>\n",
       "      <td>25</td>\n",
       "      <td>22</td>\n",
       "      <td>[40, 41]</td>\n",
       "      <td>40</td>\n",
       "      <td>41</td>\n",
       "    </tr>\n",
       "    <tr>\n",
       "      <th>2</th>\n",
       "      <td>Anna</td>\n",
       "      <td>51.0</td>\n",
       "      <td>866.00</td>\n",
       "      <td>51</td>\n",
       "      <td>67</td>\n",
       "      <td>[94, 83]</td>\n",
       "      <td>94</td>\n",
       "      <td>83</td>\n",
       "    </tr>\n",
       "    <tr>\n",
       "      <th>3</th>\n",
       "      <td>Jane</td>\n",
       "      <td>NaN</td>\n",
       "      <td>3332.00</td>\n",
       "      <td>11</td>\n",
       "      <td>NaN</td>\n",
       "      <td>[17, 23]</td>\n",
       "      <td>17</td>\n",
       "      <td>23</td>\n",
       "    </tr>\n",
       "    <tr>\n",
       "      <th>4</th>\n",
       "      <td>Marry</td>\n",
       "      <td>NaN</td>\n",
       "      <td>33662.00</td>\n",
       "      <td>41</td>\n",
       "      <td>NaN</td>\n",
       "      <td>[1, 2]</td>\n",
       "      <td>1</td>\n",
       "      <td>2</td>\n",
       "    </tr>\n",
       "  </tbody>\n",
       "</table>\n",
       "</div>"
      ],
      "text/plain": [
       "    name   age   payment  fav_number bad_number     codes  1_part  2_part\n",
       "0   Josh  20.0    512.93           7         51  [10, 20]      10      20\n",
       "1   John  21.0    321.12          25         22  [40, 41]      40      41\n",
       "2   Anna  51.0    866.00          51         67  [94, 83]      94      83\n",
       "3   Jane   NaN   3332.00          11        NaN  [17, 23]      17      23\n",
       "4  Marry   NaN  33662.00          41        NaN    [1, 2]       1       2"
      ]
     },
     "execution_count": 123,
     "metadata": {},
     "output_type": "execute_result"
    }
   ],
   "source": [
    "train_df"
   ]
  },
  {
   "cell_type": "markdown",
   "id": "506914b9-0e9e-41ae-91f8-f2c8464785f5",
   "metadata": {},
   "source": [
    "**18. Aggregate by multiple functions**"
   ]
  },
  {
   "cell_type": "code",
   "execution_count": 124,
   "id": "2c2b9f75-2acf-4879-9593-56304cdc06d6",
   "metadata": {},
   "outputs": [
    {
     "name": "stderr",
     "output_type": "stream",
     "text": [
      "C:\\Users\\karmi\\AppData\\Local\\Temp\\ipykernel_15892\\2829799296.py:2: FutureWarning: The default value of regex will change from True to False in a future version. In addition, single character regular expressions will *not* be treated as literal strings when regex=True.\n",
      "  orders['item_price'] = orders.item_price.str.replace('$', '').astype('float')\n"
     ]
    }
   ],
   "source": [
    "orders = pd.read_csv('http://bit.ly/chiporders', sep='\\t')\n",
    "orders['item_price'] = orders.item_price.str.replace('$', '').astype('float')"
   ]
  },
  {
   "cell_type": "code",
   "execution_count": 126,
   "id": "81d72888-e8ec-48ae-b490-1d7c1e123da3",
   "metadata": {},
   "outputs": [],
   "source": [
    "by_id = orders.groupby('order_id')"
   ]
  },
  {
   "cell_type": "code",
   "execution_count": 129,
   "id": "4671c77b-f7fc-4733-ba81-4c46aedda458",
   "metadata": {},
   "outputs": [
    {
     "data": {
      "text/plain": [
       "order_id\n",
       "1    11.56\n",
       "2    16.98\n",
       "3    12.67\n",
       "4    21.00\n",
       "5    13.70\n",
       "Name: item_price, dtype: float64"
      ]
     },
     "execution_count": 129,
     "metadata": {},
     "output_type": "execute_result"
    }
   ],
   "source": [
    "by_id.item_price.sum().head()"
   ]
  },
  {
   "cell_type": "code",
   "execution_count": 146,
   "id": "92e0ccb2-8921-40cb-804d-c9fd9421b00d",
   "metadata": {},
   "outputs": [
    {
     "data": {
      "text/html": [
       "<div>\n",
       "<style scoped>\n",
       "    .dataframe tbody tr th:only-of-type {\n",
       "        vertical-align: middle;\n",
       "    }\n",
       "\n",
       "    .dataframe tbody tr th {\n",
       "        vertical-align: top;\n",
       "    }\n",
       "\n",
       "    .dataframe thead th {\n",
       "        text-align: right;\n",
       "    }\n",
       "</style>\n",
       "<table border=\"1\" class=\"dataframe\">\n",
       "  <thead>\n",
       "    <tr style=\"text-align: right;\">\n",
       "      <th></th>\n",
       "      <th>sum</th>\n",
       "      <th>count</th>\n",
       "    </tr>\n",
       "    <tr>\n",
       "      <th>order_id</th>\n",
       "      <th></th>\n",
       "      <th></th>\n",
       "    </tr>\n",
       "  </thead>\n",
       "  <tbody>\n",
       "    <tr>\n",
       "      <th>1</th>\n",
       "      <td>11.56</td>\n",
       "      <td>4</td>\n",
       "    </tr>\n",
       "    <tr>\n",
       "      <th>2</th>\n",
       "      <td>16.98</td>\n",
       "      <td>1</td>\n",
       "    </tr>\n",
       "    <tr>\n",
       "      <th>3</th>\n",
       "      <td>12.67</td>\n",
       "      <td>2</td>\n",
       "    </tr>\n",
       "    <tr>\n",
       "      <th>4</th>\n",
       "      <td>21.00</td>\n",
       "      <td>2</td>\n",
       "    </tr>\n",
       "    <tr>\n",
       "      <th>5</th>\n",
       "      <td>13.70</td>\n",
       "      <td>2</td>\n",
       "    </tr>\n",
       "  </tbody>\n",
       "</table>\n",
       "</div>"
      ],
      "text/plain": [
       "            sum  count\n",
       "order_id              \n",
       "1         11.56      4\n",
       "2         16.98      1\n",
       "3         12.67      2\n",
       "4         21.00      2\n",
       "5         13.70      2"
      ]
     },
     "execution_count": 146,
     "metadata": {},
     "output_type": "execute_result"
    }
   ],
   "source": [
    "by_id.item_price.agg(['sum','count']).head() # agg method allow us to pass multiple aggregate functions"
   ]
  },
  {
   "cell_type": "markdown",
   "id": "a37a8b60-ce93-4854-a0c0-fe679ba3c942",
   "metadata": {},
   "source": [
    "**19. Combine the output of an aggregation with a DataFrame**"
   ]
  },
  {
   "cell_type": "code",
   "execution_count": 150,
   "id": "1d4c70b1-1f52-4551-a183-decd2662a0aa",
   "metadata": {},
   "outputs": [
    {
     "data": {
      "text/plain": [
       "order_id\n",
       "1       11.56\n",
       "2       16.98\n",
       "3       12.67\n",
       "4       21.00\n",
       "5       13.70\n",
       "        ...  \n",
       "1830    23.00\n",
       "1831    12.90\n",
       "1832    13.20\n",
       "1833    23.50\n",
       "1834    28.75\n",
       "Name: item_price, Length: 1834, dtype: float64"
      ]
     },
     "execution_count": 150,
     "metadata": {},
     "output_type": "execute_result"
    }
   ],
   "source": [
    "by_id.item_price.sum() # 1834 records"
   ]
  },
  {
   "cell_type": "code",
   "execution_count": 152,
   "id": "d1d4db11-dac7-4d9c-ba23-45709d366524",
   "metadata": {},
   "outputs": [
    {
     "data": {
      "text/plain": [
       "4622"
      ]
     },
     "execution_count": 152,
     "metadata": {},
     "output_type": "execute_result"
    }
   ],
   "source": [
    "len(orders) # 4622 records"
   ]
  },
  {
   "cell_type": "markdown",
   "id": "50c9b58c-fecb-4828-bad9-3633f2040b5e",
   "metadata": {},
   "source": [
    "If we use any aggregate function the length of the result is always smaller. What if we want to make a column with with the result of an aggregation function? To do that it is better to use .transform() and pass agg func inside. This way the number of rows in resulted data will be equal to the original length of a dataframe."
   ]
  },
  {
   "cell_type": "code",
   "execution_count": 156,
   "id": "756cbb3d-da06-497c-91f2-7bcb681689fe",
   "metadata": {},
   "outputs": [],
   "source": [
    "orders['total_price'] = by_id.item_price.transform('sum') # it matches the original indexes"
   ]
  },
  {
   "cell_type": "code",
   "execution_count": 155,
   "id": "006f0c52-1cd2-4e17-8bee-3608fc82ed7c",
   "metadata": {},
   "outputs": [
    {
     "data": {
      "text/html": [
       "<div>\n",
       "<style scoped>\n",
       "    .dataframe tbody tr th:only-of-type {\n",
       "        vertical-align: middle;\n",
       "    }\n",
       "\n",
       "    .dataframe tbody tr th {\n",
       "        vertical-align: top;\n",
       "    }\n",
       "\n",
       "    .dataframe thead th {\n",
       "        text-align: right;\n",
       "    }\n",
       "</style>\n",
       "<table border=\"1\" class=\"dataframe\">\n",
       "  <thead>\n",
       "    <tr style=\"text-align: right;\">\n",
       "      <th></th>\n",
       "      <th>order_id</th>\n",
       "      <th>quantity</th>\n",
       "      <th>item_name</th>\n",
       "      <th>choice_description</th>\n",
       "      <th>item_price</th>\n",
       "      <th>total_price</th>\n",
       "    </tr>\n",
       "  </thead>\n",
       "  <tbody>\n",
       "    <tr>\n",
       "      <th>0</th>\n",
       "      <td>1</td>\n",
       "      <td>1</td>\n",
       "      <td>Chips and Fresh Tomato Salsa</td>\n",
       "      <td>NaN</td>\n",
       "      <td>2.39</td>\n",
       "      <td>11.56</td>\n",
       "    </tr>\n",
       "    <tr>\n",
       "      <th>1</th>\n",
       "      <td>1</td>\n",
       "      <td>1</td>\n",
       "      <td>Izze</td>\n",
       "      <td>[Clementine]</td>\n",
       "      <td>3.39</td>\n",
       "      <td>11.56</td>\n",
       "    </tr>\n",
       "    <tr>\n",
       "      <th>2</th>\n",
       "      <td>1</td>\n",
       "      <td>1</td>\n",
       "      <td>Nantucket Nectar</td>\n",
       "      <td>[Apple]</td>\n",
       "      <td>3.39</td>\n",
       "      <td>11.56</td>\n",
       "    </tr>\n",
       "    <tr>\n",
       "      <th>3</th>\n",
       "      <td>1</td>\n",
       "      <td>1</td>\n",
       "      <td>Chips and Tomatillo-Green Chili Salsa</td>\n",
       "      <td>NaN</td>\n",
       "      <td>2.39</td>\n",
       "      <td>11.56</td>\n",
       "    </tr>\n",
       "    <tr>\n",
       "      <th>4</th>\n",
       "      <td>2</td>\n",
       "      <td>2</td>\n",
       "      <td>Chicken Bowl</td>\n",
       "      <td>[Tomatillo-Red Chili Salsa (Hot), [Black Beans...</td>\n",
       "      <td>16.98</td>\n",
       "      <td>16.98</td>\n",
       "    </tr>\n",
       "  </tbody>\n",
       "</table>\n",
       "</div>"
      ],
      "text/plain": [
       "   order_id  quantity                              item_name  \\\n",
       "0         1         1           Chips and Fresh Tomato Salsa   \n",
       "1         1         1                                   Izze   \n",
       "2         1         1                       Nantucket Nectar   \n",
       "3         1         1  Chips and Tomatillo-Green Chili Salsa   \n",
       "4         2         2                           Chicken Bowl   \n",
       "\n",
       "                                  choice_description  item_price  total_price  \n",
       "0                                                NaN        2.39        11.56  \n",
       "1                                       [Clementine]        3.39        11.56  \n",
       "2                                            [Apple]        3.39        11.56  \n",
       "3                                                NaN        2.39        11.56  \n",
       "4  [Tomatillo-Red Chili Salsa (Hot), [Black Beans...       16.98        16.98  "
      ]
     },
     "execution_count": 155,
     "metadata": {},
     "output_type": "execute_result"
    }
   ],
   "source": [
    "orders.head()"
   ]
  },
  {
   "cell_type": "code",
   "execution_count": 185,
   "id": "e9295821-556e-42ab-88d9-6107b8853eff",
   "metadata": {},
   "outputs": [],
   "source": [
    "orders['percent_of_total'] = round((orders.item_price / orders.total_price) * 100, 2)"
   ]
  },
  {
   "cell_type": "code",
   "execution_count": 186,
   "id": "10fe1a5c-9e3f-4c34-aa97-236f11b3b61f",
   "metadata": {},
   "outputs": [
    {
     "data": {
      "text/html": [
       "<div>\n",
       "<style scoped>\n",
       "    .dataframe tbody tr th:only-of-type {\n",
       "        vertical-align: middle;\n",
       "    }\n",
       "\n",
       "    .dataframe tbody tr th {\n",
       "        vertical-align: top;\n",
       "    }\n",
       "\n",
       "    .dataframe thead th {\n",
       "        text-align: right;\n",
       "    }\n",
       "</style>\n",
       "<table border=\"1\" class=\"dataframe\">\n",
       "  <thead>\n",
       "    <tr style=\"text-align: right;\">\n",
       "      <th></th>\n",
       "      <th>order_id</th>\n",
       "      <th>quantity</th>\n",
       "      <th>item_name</th>\n",
       "      <th>choice_description</th>\n",
       "      <th>item_price</th>\n",
       "      <th>total_price</th>\n",
       "      <th>percent_of_total</th>\n",
       "    </tr>\n",
       "  </thead>\n",
       "  <tbody>\n",
       "    <tr>\n",
       "      <th>0</th>\n",
       "      <td>1</td>\n",
       "      <td>1</td>\n",
       "      <td>Chips and Fresh Tomato Salsa</td>\n",
       "      <td>NaN</td>\n",
       "      <td>2.39</td>\n",
       "      <td>11.56</td>\n",
       "      <td>20.67</td>\n",
       "    </tr>\n",
       "    <tr>\n",
       "      <th>1</th>\n",
       "      <td>1</td>\n",
       "      <td>1</td>\n",
       "      <td>Izze</td>\n",
       "      <td>[Clementine]</td>\n",
       "      <td>3.39</td>\n",
       "      <td>11.56</td>\n",
       "      <td>29.33</td>\n",
       "    </tr>\n",
       "    <tr>\n",
       "      <th>2</th>\n",
       "      <td>1</td>\n",
       "      <td>1</td>\n",
       "      <td>Nantucket Nectar</td>\n",
       "      <td>[Apple]</td>\n",
       "      <td>3.39</td>\n",
       "      <td>11.56</td>\n",
       "      <td>29.33</td>\n",
       "    </tr>\n",
       "    <tr>\n",
       "      <th>3</th>\n",
       "      <td>1</td>\n",
       "      <td>1</td>\n",
       "      <td>Chips and Tomatillo-Green Chili Salsa</td>\n",
       "      <td>NaN</td>\n",
       "      <td>2.39</td>\n",
       "      <td>11.56</td>\n",
       "      <td>20.67</td>\n",
       "    </tr>\n",
       "    <tr>\n",
       "      <th>4</th>\n",
       "      <td>2</td>\n",
       "      <td>2</td>\n",
       "      <td>Chicken Bowl</td>\n",
       "      <td>[Tomatillo-Red Chili Salsa (Hot), [Black Beans...</td>\n",
       "      <td>16.98</td>\n",
       "      <td>16.98</td>\n",
       "      <td>100.00</td>\n",
       "    </tr>\n",
       "    <tr>\n",
       "      <th>...</th>\n",
       "      <td>...</td>\n",
       "      <td>...</td>\n",
       "      <td>...</td>\n",
       "      <td>...</td>\n",
       "      <td>...</td>\n",
       "      <td>...</td>\n",
       "      <td>...</td>\n",
       "    </tr>\n",
       "    <tr>\n",
       "      <th>4617</th>\n",
       "      <td>1833</td>\n",
       "      <td>1</td>\n",
       "      <td>Steak Burrito</td>\n",
       "      <td>[Fresh Tomato Salsa, [Rice, Black Beans, Sour ...</td>\n",
       "      <td>11.75</td>\n",
       "      <td>23.50</td>\n",
       "      <td>50.00</td>\n",
       "    </tr>\n",
       "    <tr>\n",
       "      <th>4618</th>\n",
       "      <td>1833</td>\n",
       "      <td>1</td>\n",
       "      <td>Steak Burrito</td>\n",
       "      <td>[Fresh Tomato Salsa, [Rice, Sour Cream, Cheese...</td>\n",
       "      <td>11.75</td>\n",
       "      <td>23.50</td>\n",
       "      <td>50.00</td>\n",
       "    </tr>\n",
       "    <tr>\n",
       "      <th>4619</th>\n",
       "      <td>1834</td>\n",
       "      <td>1</td>\n",
       "      <td>Chicken Salad Bowl</td>\n",
       "      <td>[Fresh Tomato Salsa, [Fajita Vegetables, Pinto...</td>\n",
       "      <td>11.25</td>\n",
       "      <td>28.75</td>\n",
       "      <td>39.13</td>\n",
       "    </tr>\n",
       "    <tr>\n",
       "      <th>4620</th>\n",
       "      <td>1834</td>\n",
       "      <td>1</td>\n",
       "      <td>Chicken Salad Bowl</td>\n",
       "      <td>[Fresh Tomato Salsa, [Fajita Vegetables, Lettu...</td>\n",
       "      <td>8.75</td>\n",
       "      <td>28.75</td>\n",
       "      <td>30.43</td>\n",
       "    </tr>\n",
       "    <tr>\n",
       "      <th>4621</th>\n",
       "      <td>1834</td>\n",
       "      <td>1</td>\n",
       "      <td>Chicken Salad Bowl</td>\n",
       "      <td>[Fresh Tomato Salsa, [Fajita Vegetables, Pinto...</td>\n",
       "      <td>8.75</td>\n",
       "      <td>28.75</td>\n",
       "      <td>30.43</td>\n",
       "    </tr>\n",
       "  </tbody>\n",
       "</table>\n",
       "<p>4622 rows × 7 columns</p>\n",
       "</div>"
      ],
      "text/plain": [
       "      order_id  quantity                              item_name  \\\n",
       "0            1         1           Chips and Fresh Tomato Salsa   \n",
       "1            1         1                                   Izze   \n",
       "2            1         1                       Nantucket Nectar   \n",
       "3            1         1  Chips and Tomatillo-Green Chili Salsa   \n",
       "4            2         2                           Chicken Bowl   \n",
       "...        ...       ...                                    ...   \n",
       "4617      1833         1                          Steak Burrito   \n",
       "4618      1833         1                          Steak Burrito   \n",
       "4619      1834         1                     Chicken Salad Bowl   \n",
       "4620      1834         1                     Chicken Salad Bowl   \n",
       "4621      1834         1                     Chicken Salad Bowl   \n",
       "\n",
       "                                     choice_description  item_price  \\\n",
       "0                                                   NaN        2.39   \n",
       "1                                          [Clementine]        3.39   \n",
       "2                                               [Apple]        3.39   \n",
       "3                                                   NaN        2.39   \n",
       "4     [Tomatillo-Red Chili Salsa (Hot), [Black Beans...       16.98   \n",
       "...                                                 ...         ...   \n",
       "4617  [Fresh Tomato Salsa, [Rice, Black Beans, Sour ...       11.75   \n",
       "4618  [Fresh Tomato Salsa, [Rice, Sour Cream, Cheese...       11.75   \n",
       "4619  [Fresh Tomato Salsa, [Fajita Vegetables, Pinto...       11.25   \n",
       "4620  [Fresh Tomato Salsa, [Fajita Vegetables, Lettu...        8.75   \n",
       "4621  [Fresh Tomato Salsa, [Fajita Vegetables, Pinto...        8.75   \n",
       "\n",
       "      total_price  percent_of_total  \n",
       "0           11.56             20.67  \n",
       "1           11.56             29.33  \n",
       "2           11.56             29.33  \n",
       "3           11.56             20.67  \n",
       "4           16.98            100.00  \n",
       "...           ...               ...  \n",
       "4617        23.50             50.00  \n",
       "4618        23.50             50.00  \n",
       "4619        28.75             39.13  \n",
       "4620        28.75             30.43  \n",
       "4621        28.75             30.43  \n",
       "\n",
       "[4622 rows x 7 columns]"
      ]
     },
     "execution_count": 186,
     "metadata": {},
     "output_type": "execute_result"
    }
   ],
   "source": [
    "orders"
   ]
  },
  {
   "cell_type": "markdown",
   "id": "178138b3-6ea7-49df-bfa9-962ebc1fe4fa",
   "metadata": {},
   "source": [
    "**20. Select a slice of rows and columns**"
   ]
  },
  {
   "cell_type": "code",
   "execution_count": 188,
   "id": "86d06907-f793-43b7-b551-ef7ba6c393eb",
   "metadata": {},
   "outputs": [
    {
     "data": {
      "text/html": [
       "<div>\n",
       "<style scoped>\n",
       "    .dataframe tbody tr th:only-of-type {\n",
       "        vertical-align: middle;\n",
       "    }\n",
       "\n",
       "    .dataframe tbody tr th {\n",
       "        vertical-align: top;\n",
       "    }\n",
       "\n",
       "    .dataframe thead th {\n",
       "        text-align: right;\n",
       "    }\n",
       "</style>\n",
       "<table border=\"1\" class=\"dataframe\">\n",
       "  <thead>\n",
       "    <tr style=\"text-align: right;\">\n",
       "      <th></th>\n",
       "      <th>item_name</th>\n",
       "      <th>choice_description</th>\n",
       "      <th>item_price</th>\n",
       "    </tr>\n",
       "  </thead>\n",
       "  <tbody>\n",
       "    <tr>\n",
       "      <th>2000</th>\n",
       "      <td>Carnitas Soft Tacos</td>\n",
       "      <td>[Tomatillo Red Chili Salsa, [Rice, Lettuce]]</td>\n",
       "      <td>9.25</td>\n",
       "    </tr>\n",
       "    <tr>\n",
       "      <th>2001</th>\n",
       "      <td>Chicken Bowl</td>\n",
       "      <td>[Tomatillo Red Chili Salsa, [Rice, Pinto Beans...</td>\n",
       "      <td>11.25</td>\n",
       "    </tr>\n",
       "    <tr>\n",
       "      <th>2002</th>\n",
       "      <td>Canned Soft Drink</td>\n",
       "      <td>[Coke]</td>\n",
       "      <td>1.25</td>\n",
       "    </tr>\n",
       "    <tr>\n",
       "      <th>2003</th>\n",
       "      <td>Chicken Bowl</td>\n",
       "      <td>[Fresh Tomato Salsa, [Rice, Black Beans, Cheese]]</td>\n",
       "      <td>8.75</td>\n",
       "    </tr>\n",
       "    <tr>\n",
       "      <th>2004</th>\n",
       "      <td>Chips and Tomatillo Red Chili Salsa</td>\n",
       "      <td>NaN</td>\n",
       "      <td>2.95</td>\n",
       "    </tr>\n",
       "    <tr>\n",
       "      <th>...</th>\n",
       "      <td>...</td>\n",
       "      <td>...</td>\n",
       "      <td>...</td>\n",
       "    </tr>\n",
       "    <tr>\n",
       "      <th>2496</th>\n",
       "      <td>Chips</td>\n",
       "      <td>NaN</td>\n",
       "      <td>2.15</td>\n",
       "    </tr>\n",
       "    <tr>\n",
       "      <th>2497</th>\n",
       "      <td>Chicken Bowl</td>\n",
       "      <td>[Fresh Tomato Salsa, Cheese]</td>\n",
       "      <td>8.75</td>\n",
       "    </tr>\n",
       "    <tr>\n",
       "      <th>2498</th>\n",
       "      <td>Chips and Guacamole</td>\n",
       "      <td>NaN</td>\n",
       "      <td>4.45</td>\n",
       "    </tr>\n",
       "    <tr>\n",
       "      <th>2499</th>\n",
       "      <td>Chicken Burrito</td>\n",
       "      <td>[Fresh Tomato Salsa (Mild), [Cheese, Lettuce]]</td>\n",
       "      <td>8.49</td>\n",
       "    </tr>\n",
       "    <tr>\n",
       "      <th>2500</th>\n",
       "      <td>Side of Chips</td>\n",
       "      <td>NaN</td>\n",
       "      <td>1.69</td>\n",
       "    </tr>\n",
       "  </tbody>\n",
       "</table>\n",
       "<p>501 rows × 3 columns</p>\n",
       "</div>"
      ],
      "text/plain": [
       "                                item_name  \\\n",
       "2000                  Carnitas Soft Tacos   \n",
       "2001                         Chicken Bowl   \n",
       "2002                    Canned Soft Drink   \n",
       "2003                         Chicken Bowl   \n",
       "2004  Chips and Tomatillo Red Chili Salsa   \n",
       "...                                   ...   \n",
       "2496                                Chips   \n",
       "2497                         Chicken Bowl   \n",
       "2498                  Chips and Guacamole   \n",
       "2499                      Chicken Burrito   \n",
       "2500                        Side of Chips   \n",
       "\n",
       "                                     choice_description  item_price  \n",
       "2000       [Tomatillo Red Chili Salsa, [Rice, Lettuce]]        9.25  \n",
       "2001  [Tomatillo Red Chili Salsa, [Rice, Pinto Beans...       11.25  \n",
       "2002                                             [Coke]        1.25  \n",
       "2003  [Fresh Tomato Salsa, [Rice, Black Beans, Cheese]]        8.75  \n",
       "2004                                                NaN        2.95  \n",
       "...                                                 ...         ...  \n",
       "2496                                                NaN        2.15  \n",
       "2497                       [Fresh Tomato Salsa, Cheese]        8.75  \n",
       "2498                                                NaN        4.45  \n",
       "2499     [Fresh Tomato Salsa (Mild), [Cheese, Lettuce]]        8.49  \n",
       "2500                                                NaN        1.69  \n",
       "\n",
       "[501 rows x 3 columns]"
      ]
     },
     "execution_count": 188,
     "metadata": {},
     "output_type": "execute_result"
    }
   ],
   "source": [
    "orders.loc[2000:2500, 'item_name':'item_price']"
   ]
  },
  {
   "cell_type": "markdown",
   "id": "ef9c0e79-26ba-4a69-b03a-c73a6fcb647d",
   "metadata": {},
   "source": [
    "**21. Reshape a Multindexed Series**"
   ]
  },
  {
   "cell_type": "code",
   "execution_count": 189,
   "id": "2e278e76-dcd0-4875-9443-94ce830c282e",
   "metadata": {},
   "outputs": [],
   "source": [
    "titanic = pd.read_csv('http://bit.ly/kaggletrain')"
   ]
  },
  {
   "cell_type": "code",
   "execution_count": 202,
   "id": "0253564f-e3fb-48e8-9671-915893deef4d",
   "metadata": {},
   "outputs": [
    {
     "data": {
      "text/plain": [
       "Sex     Pclass\n",
       "female  1         0.968085\n",
       "        2         0.921053\n",
       "        3         0.500000\n",
       "male    1         0.368852\n",
       "        2         0.157407\n",
       "        3         0.135447\n",
       "Name: Survived, dtype: float64"
      ]
     },
     "execution_count": 202,
     "metadata": {},
     "output_type": "execute_result"
    }
   ],
   "source": [
    "titanic.groupby(['Sex','Pclass']).Survived.mean() # it is harder to read than normal dataframe and it is also a series object"
   ]
  },
  {
   "cell_type": "code",
   "execution_count": 201,
   "id": "cb9a6a77-c740-4f69-b712-205abf851753",
   "metadata": {},
   "outputs": [
    {
     "data": {
      "text/html": [
       "<div>\n",
       "<style scoped>\n",
       "    .dataframe tbody tr th:only-of-type {\n",
       "        vertical-align: middle;\n",
       "    }\n",
       "\n",
       "    .dataframe tbody tr th {\n",
       "        vertical-align: top;\n",
       "    }\n",
       "\n",
       "    .dataframe thead th {\n",
       "        text-align: right;\n",
       "    }\n",
       "</style>\n",
       "<table border=\"1\" class=\"dataframe\">\n",
       "  <thead>\n",
       "    <tr style=\"text-align: right;\">\n",
       "      <th>Pclass</th>\n",
       "      <th>1</th>\n",
       "      <th>2</th>\n",
       "      <th>3</th>\n",
       "    </tr>\n",
       "    <tr>\n",
       "      <th>Sex</th>\n",
       "      <th></th>\n",
       "      <th></th>\n",
       "      <th></th>\n",
       "    </tr>\n",
       "  </thead>\n",
       "  <tbody>\n",
       "    <tr>\n",
       "      <th>female</th>\n",
       "      <td>0.968085</td>\n",
       "      <td>0.921053</td>\n",
       "      <td>0.500000</td>\n",
       "    </tr>\n",
       "    <tr>\n",
       "      <th>male</th>\n",
       "      <td>0.368852</td>\n",
       "      <td>0.157407</td>\n",
       "      <td>0.135447</td>\n",
       "    </tr>\n",
       "  </tbody>\n",
       "</table>\n",
       "</div>"
      ],
      "text/plain": [
       "Pclass         1         2         3\n",
       "Sex                                 \n",
       "female  0.968085  0.921053  0.500000\n",
       "male    0.368852  0.157407  0.135447"
      ]
     },
     "execution_count": 201,
     "metadata": {},
     "output_type": "execute_result"
    }
   ],
   "source": [
    "titanic.groupby(['Sex','Pclass']).Survived.mean().unstack() # now it is more readable and \n",
    "# we can use familiar dataframe methods on it"
   ]
  },
  {
   "cell_type": "markdown",
   "id": "ef868cb9-5ace-4f9e-8489-1686b31952a0",
   "metadata": {},
   "source": [
    "**22. Create a pivot table**"
   ]
  },
  {
   "cell_type": "code",
   "execution_count": 203,
   "id": "ec4003e4-b12b-4622-ae91-12182b77ffe8",
   "metadata": {},
   "outputs": [
    {
     "data": {
      "text/html": [
       "<div>\n",
       "<style scoped>\n",
       "    .dataframe tbody tr th:only-of-type {\n",
       "        vertical-align: middle;\n",
       "    }\n",
       "\n",
       "    .dataframe tbody tr th {\n",
       "        vertical-align: top;\n",
       "    }\n",
       "\n",
       "    .dataframe thead th {\n",
       "        text-align: right;\n",
       "    }\n",
       "</style>\n",
       "<table border=\"1\" class=\"dataframe\">\n",
       "  <thead>\n",
       "    <tr style=\"text-align: right;\">\n",
       "      <th></th>\n",
       "      <th>PassengerId</th>\n",
       "      <th>Survived</th>\n",
       "      <th>Pclass</th>\n",
       "      <th>Name</th>\n",
       "      <th>Sex</th>\n",
       "      <th>Age</th>\n",
       "      <th>SibSp</th>\n",
       "      <th>Parch</th>\n",
       "      <th>Ticket</th>\n",
       "      <th>Fare</th>\n",
       "      <th>Cabin</th>\n",
       "      <th>Embarked</th>\n",
       "    </tr>\n",
       "  </thead>\n",
       "  <tbody>\n",
       "    <tr>\n",
       "      <th>0</th>\n",
       "      <td>1</td>\n",
       "      <td>0</td>\n",
       "      <td>3</td>\n",
       "      <td>Braund, Mr. Owen Harris</td>\n",
       "      <td>male</td>\n",
       "      <td>22.0</td>\n",
       "      <td>1</td>\n",
       "      <td>0</td>\n",
       "      <td>A/5 21171</td>\n",
       "      <td>7.2500</td>\n",
       "      <td>NaN</td>\n",
       "      <td>S</td>\n",
       "    </tr>\n",
       "    <tr>\n",
       "      <th>1</th>\n",
       "      <td>2</td>\n",
       "      <td>1</td>\n",
       "      <td>1</td>\n",
       "      <td>Cumings, Mrs. John Bradley (Florence Briggs Th...</td>\n",
       "      <td>female</td>\n",
       "      <td>38.0</td>\n",
       "      <td>1</td>\n",
       "      <td>0</td>\n",
       "      <td>PC 17599</td>\n",
       "      <td>71.2833</td>\n",
       "      <td>C85</td>\n",
       "      <td>C</td>\n",
       "    </tr>\n",
       "    <tr>\n",
       "      <th>2</th>\n",
       "      <td>3</td>\n",
       "      <td>1</td>\n",
       "      <td>3</td>\n",
       "      <td>Heikkinen, Miss. Laina</td>\n",
       "      <td>female</td>\n",
       "      <td>26.0</td>\n",
       "      <td>0</td>\n",
       "      <td>0</td>\n",
       "      <td>STON/O2. 3101282</td>\n",
       "      <td>7.9250</td>\n",
       "      <td>NaN</td>\n",
       "      <td>S</td>\n",
       "    </tr>\n",
       "    <tr>\n",
       "      <th>3</th>\n",
       "      <td>4</td>\n",
       "      <td>1</td>\n",
       "      <td>1</td>\n",
       "      <td>Futrelle, Mrs. Jacques Heath (Lily May Peel)</td>\n",
       "      <td>female</td>\n",
       "      <td>35.0</td>\n",
       "      <td>1</td>\n",
       "      <td>0</td>\n",
       "      <td>113803</td>\n",
       "      <td>53.1000</td>\n",
       "      <td>C123</td>\n",
       "      <td>S</td>\n",
       "    </tr>\n",
       "    <tr>\n",
       "      <th>4</th>\n",
       "      <td>5</td>\n",
       "      <td>0</td>\n",
       "      <td>3</td>\n",
       "      <td>Allen, Mr. William Henry</td>\n",
       "      <td>male</td>\n",
       "      <td>35.0</td>\n",
       "      <td>0</td>\n",
       "      <td>0</td>\n",
       "      <td>373450</td>\n",
       "      <td>8.0500</td>\n",
       "      <td>NaN</td>\n",
       "      <td>S</td>\n",
       "    </tr>\n",
       "  </tbody>\n",
       "</table>\n",
       "</div>"
      ],
      "text/plain": [
       "   PassengerId  Survived  Pclass  \\\n",
       "0            1         0       3   \n",
       "1            2         1       1   \n",
       "2            3         1       3   \n",
       "3            4         1       1   \n",
       "4            5         0       3   \n",
       "\n",
       "                                                Name     Sex   Age  SibSp  \\\n",
       "0                            Braund, Mr. Owen Harris    male  22.0      1   \n",
       "1  Cumings, Mrs. John Bradley (Florence Briggs Th...  female  38.0      1   \n",
       "2                             Heikkinen, Miss. Laina  female  26.0      0   \n",
       "3       Futrelle, Mrs. Jacques Heath (Lily May Peel)  female  35.0      1   \n",
       "4                           Allen, Mr. William Henry    male  35.0      0   \n",
       "\n",
       "   Parch            Ticket     Fare Cabin Embarked  \n",
       "0      0         A/5 21171   7.2500   NaN        S  \n",
       "1      0          PC 17599  71.2833   C85        C  \n",
       "2      0  STON/O2. 3101282   7.9250   NaN        S  \n",
       "3      0            113803  53.1000  C123        S  \n",
       "4      0            373450   8.0500   NaN        S  "
      ]
     },
     "execution_count": 203,
     "metadata": {},
     "output_type": "execute_result"
    }
   ],
   "source": [
    "titanic.head()"
   ]
  },
  {
   "cell_type": "code",
   "execution_count": 213,
   "id": "8dc424e7-5020-4daa-9de8-f08866807d94",
   "metadata": {},
   "outputs": [
    {
     "data": {
      "text/html": [
       "<div>\n",
       "<style scoped>\n",
       "    .dataframe tbody tr th:only-of-type {\n",
       "        vertical-align: middle;\n",
       "    }\n",
       "\n",
       "    .dataframe tbody tr th {\n",
       "        vertical-align: top;\n",
       "    }\n",
       "\n",
       "    .dataframe thead tr th {\n",
       "        text-align: left;\n",
       "    }\n",
       "\n",
       "    .dataframe thead tr:last-of-type th {\n",
       "        text-align: right;\n",
       "    }\n",
       "</style>\n",
       "<table border=\"1\" class=\"dataframe\">\n",
       "  <thead>\n",
       "    <tr>\n",
       "      <th></th>\n",
       "      <th colspan=\"3\" halign=\"left\">Age</th>\n",
       "      <th colspan=\"3\" halign=\"left\">Survived</th>\n",
       "    </tr>\n",
       "    <tr>\n",
       "      <th>Sex</th>\n",
       "      <th>female</th>\n",
       "      <th>male</th>\n",
       "      <th>All</th>\n",
       "      <th>female</th>\n",
       "      <th>male</th>\n",
       "      <th>All</th>\n",
       "    </tr>\n",
       "    <tr>\n",
       "      <th>Pclass</th>\n",
       "      <th></th>\n",
       "      <th></th>\n",
       "      <th></th>\n",
       "      <th></th>\n",
       "      <th></th>\n",
       "      <th></th>\n",
       "    </tr>\n",
       "  </thead>\n",
       "  <tbody>\n",
       "    <tr>\n",
       "      <th>1</th>\n",
       "      <td>34.611765</td>\n",
       "      <td>41.281386</td>\n",
       "      <td>38.233441</td>\n",
       "      <td>94</td>\n",
       "      <td>122</td>\n",
       "      <td>186</td>\n",
       "    </tr>\n",
       "    <tr>\n",
       "      <th>2</th>\n",
       "      <td>28.722973</td>\n",
       "      <td>30.740707</td>\n",
       "      <td>29.877630</td>\n",
       "      <td>76</td>\n",
       "      <td>108</td>\n",
       "      <td>173</td>\n",
       "    </tr>\n",
       "    <tr>\n",
       "      <th>3</th>\n",
       "      <td>21.750000</td>\n",
       "      <td>26.507589</td>\n",
       "      <td>25.140620</td>\n",
       "      <td>144</td>\n",
       "      <td>347</td>\n",
       "      <td>355</td>\n",
       "    </tr>\n",
       "    <tr>\n",
       "      <th>All</th>\n",
       "      <td>27.915709</td>\n",
       "      <td>30.726645</td>\n",
       "      <td>29.699118</td>\n",
       "      <td>261</td>\n",
       "      <td>453</td>\n",
       "      <td>714</td>\n",
       "    </tr>\n",
       "  </tbody>\n",
       "</table>\n",
       "</div>"
      ],
      "text/plain": [
       "              Age                       Survived          \n",
       "Sex        female       male        All   female male  All\n",
       "Pclass                                                    \n",
       "1       34.611765  41.281386  38.233441       94  122  186\n",
       "2       28.722973  30.740707  29.877630       76  108  173\n",
       "3       21.750000  26.507589  25.140620      144  347  355\n",
       "All     27.915709  30.726645  29.699118      261  453  714"
      ]
     },
     "execution_count": 213,
     "metadata": {},
     "output_type": "execute_result"
    }
   ],
   "source": [
    "titanic.pivot_table(index='Pclass', columns='Sex', values=['Survived', 'Age'], aggfunc={'Age': 'mean', 'Survived':'count'}, margins=True)"
   ]
  },
  {
   "cell_type": "markdown",
   "id": "4813b624-b8e9-4d3c-953d-9f20198a7fb0",
   "metadata": {},
   "source": [
    "**23. Convert continous data into categorical data**"
   ]
  },
  {
   "cell_type": "code",
   "execution_count": 214,
   "id": "5e1156d7-13d4-41a5-abb5-9f5d239dbbb1",
   "metadata": {},
   "outputs": [
    {
     "data": {
      "text/plain": [
       "0    22.0\n",
       "1    38.0\n",
       "2    26.0\n",
       "3    35.0\n",
       "4    35.0\n",
       "Name: Age, dtype: float64"
      ]
     },
     "execution_count": 214,
     "metadata": {},
     "output_type": "execute_result"
    }
   ],
   "source": [
    "titanic.Age.head()"
   ]
  },
  {
   "cell_type": "code",
   "execution_count": 215,
   "id": "672481cf-1665-4979-909b-46708808e262",
   "metadata": {},
   "outputs": [
    {
     "data": {
      "text/plain": [
       "0      young adult\n",
       "1            adult\n",
       "2            adult\n",
       "3            adult\n",
       "4            adult\n",
       "          ...     \n",
       "886          adult\n",
       "887    young adult\n",
       "888            NaN\n",
       "889          adult\n",
       "890          adult\n",
       "Name: Age, Length: 891, dtype: category\n",
       "Categories (3, object): ['child' < 'young adult' < 'adult']"
      ]
     },
     "execution_count": 215,
     "metadata": {},
     "output_type": "execute_result"
    }
   ],
   "source": [
    "pd.cut(titanic.Age, bins=[0, 18, 25, 99], labels=['child','young adult','adult'])"
   ]
  },
  {
   "cell_type": "code",
   "execution_count": null,
   "id": "2b10f57f-0394-46d2-805a-656a09fe3005",
   "metadata": {},
   "outputs": [],
   "source": []
  }
 ],
 "metadata": {
  "kernelspec": {
   "display_name": "Python 3 (ipykernel)",
   "language": "python",
   "name": "python3"
  },
  "language_info": {
   "codemirror_mode": {
    "name": "ipython",
    "version": 3
   },
   "file_extension": ".py",
   "mimetype": "text/x-python",
   "name": "python",
   "nbconvert_exporter": "python",
   "pygments_lexer": "ipython3",
   "version": "3.10.0"
  }
 },
 "nbformat": 4,
 "nbformat_minor": 5
}
