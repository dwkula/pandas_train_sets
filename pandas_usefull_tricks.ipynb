{
 "cells": [
  {
   "cell_type": "code",
   "execution_count": 1,
   "id": "362da470-62be-48d0-8352-5905a839bfb4",
   "metadata": {},
   "outputs": [],
   "source": [
    "import pandas as pd\n",
    "import numpy as np"
   ]
  },
  {
   "cell_type": "markdown",
   "id": "37be9450-9f84-4e7f-acc4-617e7a4d81ce",
   "metadata": {},
   "source": [
    "**1. Show installed versions**"
   ]
  },
  {
   "cell_type": "code",
   "execution_count": 2,
   "id": "47f637d3-0e11-4b27-9e4c-87ab83b0814d",
   "metadata": {},
   "outputs": [
    {
     "name": "stdout",
     "output_type": "stream",
     "text": [
      "\n",
      "INSTALLED VERSIONS\n",
      "------------------\n",
      "commit           : 06d230151e6f18fdb8139d09abf539867a8cd481\n",
      "python           : 3.10.0.final.0\n",
      "python-bits      : 64\n",
      "OS               : Windows\n",
      "OS-release       : 10\n",
      "Version          : 10.0.19044\n",
      "machine          : AMD64\n",
      "processor        : Intel64 Family 6 Model 158 Stepping 10, GenuineIntel\n",
      "byteorder        : little\n",
      "LC_ALL           : None\n",
      "LANG             : pl_PL.UTF-8\n",
      "LOCALE           : Polish_Poland.1250\n",
      "\n",
      "pandas           : 1.4.1\n",
      "numpy            : 1.22.1\n",
      "pytz             : 2021.3\n",
      "dateutil         : 2.8.2\n",
      "pip              : 21.3.1\n",
      "setuptools       : 57.4.0\n",
      "Cython           : None\n",
      "pytest           : None\n",
      "hypothesis       : None\n",
      "sphinx           : None\n",
      "blosc            : None\n",
      "feather          : None\n",
      "xlsxwriter       : None\n",
      "lxml.etree       : None\n",
      "html5lib         : None\n",
      "pymysql          : None\n",
      "psycopg2         : None\n",
      "jinja2           : 3.0.3\n",
      "IPython          : 8.1.1\n",
      "pandas_datareader: None\n",
      "bs4              : 4.10.0\n",
      "bottleneck       : None\n",
      "fastparquet      : None\n",
      "fsspec           : None\n",
      "gcsfs            : None\n",
      "matplotlib       : 3.5.1\n",
      "numba            : None\n",
      "numexpr          : None\n",
      "odfpy            : None\n",
      "openpyxl         : None\n",
      "pandas_gbq       : None\n",
      "pyarrow          : None\n",
      "pyreadstat       : None\n",
      "pyxlsb           : None\n",
      "s3fs             : None\n",
      "scipy            : 1.8.0\n",
      "sqlalchemy       : None\n",
      "tables           : None\n",
      "tabulate         : None\n",
      "xarray           : None\n",
      "xlrd             : None\n",
      "xlwt             : None\n",
      "zstandard        : None\n"
     ]
    }
   ],
   "source": [
    "pd.show_versions()"
   ]
  },
  {
   "cell_type": "markdown",
   "id": "bcbc91ab-c886-45c1-a54a-9df29e98279e",
   "metadata": {},
   "source": [
    "**2. Create an example DataFrame**"
   ]
  },
  {
   "cell_type": "code",
   "execution_count": 7,
   "id": "68b98439-60c7-41c3-bcd0-16220299cafd",
   "metadata": {},
   "outputs": [],
   "source": [
    "df = pd.DataFrame(np.random.rand(4, 8), columns=list('abcdefgh')) # by using np random rand function we pass (rows, columns)\n",
    "# it will generate 2 dimensional array which can be interpreted by pandas as a dataframe. We can pass also the column names\n",
    "# so it will be more readable"
   ]
  },
  {
   "cell_type": "markdown",
   "id": "abffb41d-ea89-4d68-8a75-15788f05266f",
   "metadata": {},
   "source": [
    "**3. Rename columns**"
   ]
  },
  {
   "cell_type": "code",
   "execution_count": 8,
   "id": "a872627c-80e0-4e43-8b6b-7f884451be57",
   "metadata": {},
   "outputs": [
    {
     "data": {
      "text/html": [
       "<div>\n",
       "<style scoped>\n",
       "    .dataframe tbody tr th:only-of-type {\n",
       "        vertical-align: middle;\n",
       "    }\n",
       "\n",
       "    .dataframe tbody tr th {\n",
       "        vertical-align: top;\n",
       "    }\n",
       "\n",
       "    .dataframe thead th {\n",
       "        text-align: right;\n",
       "    }\n",
       "</style>\n",
       "<table border=\"1\" class=\"dataframe\">\n",
       "  <thead>\n",
       "    <tr style=\"text-align: right;\">\n",
       "      <th></th>\n",
       "      <th>a</th>\n",
       "      <th>b</th>\n",
       "      <th>c</th>\n",
       "      <th>d</th>\n",
       "      <th>e</th>\n",
       "      <th>f</th>\n",
       "      <th>g</th>\n",
       "      <th>h</th>\n",
       "    </tr>\n",
       "  </thead>\n",
       "  <tbody>\n",
       "    <tr>\n",
       "      <th>0</th>\n",
       "      <td>0.441637</td>\n",
       "      <td>0.954892</td>\n",
       "      <td>0.733134</td>\n",
       "      <td>0.435041</td>\n",
       "      <td>0.640679</td>\n",
       "      <td>0.567765</td>\n",
       "      <td>0.523996</td>\n",
       "      <td>0.965108</td>\n",
       "    </tr>\n",
       "    <tr>\n",
       "      <th>1</th>\n",
       "      <td>0.311862</td>\n",
       "      <td>0.971079</td>\n",
       "      <td>0.739715</td>\n",
       "      <td>0.821916</td>\n",
       "      <td>0.533773</td>\n",
       "      <td>0.755704</td>\n",
       "      <td>0.715776</td>\n",
       "      <td>0.181956</td>\n",
       "    </tr>\n",
       "    <tr>\n",
       "      <th>2</th>\n",
       "      <td>0.632200</td>\n",
       "      <td>0.943685</td>\n",
       "      <td>0.490780</td>\n",
       "      <td>0.846505</td>\n",
       "      <td>0.565000</td>\n",
       "      <td>0.263891</td>\n",
       "      <td>0.526235</td>\n",
       "      <td>0.889685</td>\n",
       "    </tr>\n",
       "    <tr>\n",
       "      <th>3</th>\n",
       "      <td>0.872253</td>\n",
       "      <td>0.299259</td>\n",
       "      <td>0.311723</td>\n",
       "      <td>0.570059</td>\n",
       "      <td>0.419355</td>\n",
       "      <td>0.314112</td>\n",
       "      <td>0.024902</td>\n",
       "      <td>0.248143</td>\n",
       "    </tr>\n",
       "  </tbody>\n",
       "</table>\n",
       "</div>"
      ],
      "text/plain": [
       "          a         b         c         d         e         f         g  \\\n",
       "0  0.441637  0.954892  0.733134  0.435041  0.640679  0.567765  0.523996   \n",
       "1  0.311862  0.971079  0.739715  0.821916  0.533773  0.755704  0.715776   \n",
       "2  0.632200  0.943685  0.490780  0.846505  0.565000  0.263891  0.526235   \n",
       "3  0.872253  0.299259  0.311723  0.570059  0.419355  0.314112  0.024902   \n",
       "\n",
       "          h  \n",
       "0  0.965108  \n",
       "1  0.181956  \n",
       "2  0.889685  \n",
       "3  0.248143  "
      ]
     },
     "execution_count": 8,
     "metadata": {},
     "output_type": "execute_result"
    }
   ],
   "source": [
    "df.head()"
   ]
  },
  {
   "cell_type": "code",
   "execution_count": 10,
   "id": "6f5264ad-adc0-4b70-8d90-8bbc94e3da88",
   "metadata": {},
   "outputs": [
    {
     "data": {
      "text/html": [
       "<div>\n",
       "<style scoped>\n",
       "    .dataframe tbody tr th:only-of-type {\n",
       "        vertical-align: middle;\n",
       "    }\n",
       "\n",
       "    .dataframe tbody tr th {\n",
       "        vertical-align: top;\n",
       "    }\n",
       "\n",
       "    .dataframe thead th {\n",
       "        text-align: right;\n",
       "    }\n",
       "</style>\n",
       "<table border=\"1\" class=\"dataframe\">\n",
       "  <thead>\n",
       "    <tr style=\"text-align: right;\">\n",
       "      <th></th>\n",
       "      <th>a1</th>\n",
       "      <th>b1</th>\n",
       "      <th>c</th>\n",
       "      <th>d</th>\n",
       "      <th>e</th>\n",
       "      <th>f</th>\n",
       "      <th>g</th>\n",
       "      <th>h</th>\n",
       "    </tr>\n",
       "  </thead>\n",
       "  <tbody>\n",
       "    <tr>\n",
       "      <th>0</th>\n",
       "      <td>0.441637</td>\n",
       "      <td>0.954892</td>\n",
       "      <td>0.733134</td>\n",
       "      <td>0.435041</td>\n",
       "      <td>0.640679</td>\n",
       "      <td>0.567765</td>\n",
       "      <td>0.523996</td>\n",
       "      <td>0.965108</td>\n",
       "    </tr>\n",
       "    <tr>\n",
       "      <th>1</th>\n",
       "      <td>0.311862</td>\n",
       "      <td>0.971079</td>\n",
       "      <td>0.739715</td>\n",
       "      <td>0.821916</td>\n",
       "      <td>0.533773</td>\n",
       "      <td>0.755704</td>\n",
       "      <td>0.715776</td>\n",
       "      <td>0.181956</td>\n",
       "    </tr>\n",
       "    <tr>\n",
       "      <th>2</th>\n",
       "      <td>0.632200</td>\n",
       "      <td>0.943685</td>\n",
       "      <td>0.490780</td>\n",
       "      <td>0.846505</td>\n",
       "      <td>0.565000</td>\n",
       "      <td>0.263891</td>\n",
       "      <td>0.526235</td>\n",
       "      <td>0.889685</td>\n",
       "    </tr>\n",
       "    <tr>\n",
       "      <th>3</th>\n",
       "      <td>0.872253</td>\n",
       "      <td>0.299259</td>\n",
       "      <td>0.311723</td>\n",
       "      <td>0.570059</td>\n",
       "      <td>0.419355</td>\n",
       "      <td>0.314112</td>\n",
       "      <td>0.024902</td>\n",
       "      <td>0.248143</td>\n",
       "    </tr>\n",
       "  </tbody>\n",
       "</table>\n",
       "</div>"
      ],
      "text/plain": [
       "         a1        b1         c         d         e         f         g  \\\n",
       "0  0.441637  0.954892  0.733134  0.435041  0.640679  0.567765  0.523996   \n",
       "1  0.311862  0.971079  0.739715  0.821916  0.533773  0.755704  0.715776   \n",
       "2  0.632200  0.943685  0.490780  0.846505  0.565000  0.263891  0.526235   \n",
       "3  0.872253  0.299259  0.311723  0.570059  0.419355  0.314112  0.024902   \n",
       "\n",
       "          h  \n",
       "0  0.965108  \n",
       "1  0.181956  \n",
       "2  0.889685  \n",
       "3  0.248143  "
      ]
     },
     "execution_count": 10,
     "metadata": {},
     "output_type": "execute_result"
    }
   ],
   "source": [
    "df.rename({'a':'a1', 'b':'b1'}, axis=1) # the most flexible"
   ]
  },
  {
   "cell_type": "code",
   "execution_count": 14,
   "id": "6628b228-6883-49bc-af19-49f1d25425e5",
   "metadata": {},
   "outputs": [],
   "source": [
    "df.columns = list('hgfedcba') # the fastest? to overwrite existing names, we pass a list with exact length"
   ]
  },
  {
   "cell_type": "code",
   "execution_count": 15,
   "id": "1f24e4ef-de80-4699-a42c-d023bf6a32af",
   "metadata": {},
   "outputs": [
    {
     "data": {
      "text/html": [
       "<div>\n",
       "<style scoped>\n",
       "    .dataframe tbody tr th:only-of-type {\n",
       "        vertical-align: middle;\n",
       "    }\n",
       "\n",
       "    .dataframe tbody tr th {\n",
       "        vertical-align: top;\n",
       "    }\n",
       "\n",
       "    .dataframe thead th {\n",
       "        text-align: right;\n",
       "    }\n",
       "</style>\n",
       "<table border=\"1\" class=\"dataframe\">\n",
       "  <thead>\n",
       "    <tr style=\"text-align: right;\">\n",
       "      <th></th>\n",
       "      <th>h</th>\n",
       "      <th>g</th>\n",
       "      <th>f</th>\n",
       "      <th>e</th>\n",
       "      <th>d</th>\n",
       "      <th>c</th>\n",
       "      <th>b</th>\n",
       "      <th>a</th>\n",
       "    </tr>\n",
       "  </thead>\n",
       "  <tbody>\n",
       "    <tr>\n",
       "      <th>0</th>\n",
       "      <td>0.441637</td>\n",
       "      <td>0.954892</td>\n",
       "      <td>0.733134</td>\n",
       "      <td>0.435041</td>\n",
       "      <td>0.640679</td>\n",
       "      <td>0.567765</td>\n",
       "      <td>0.523996</td>\n",
       "      <td>0.965108</td>\n",
       "    </tr>\n",
       "    <tr>\n",
       "      <th>1</th>\n",
       "      <td>0.311862</td>\n",
       "      <td>0.971079</td>\n",
       "      <td>0.739715</td>\n",
       "      <td>0.821916</td>\n",
       "      <td>0.533773</td>\n",
       "      <td>0.755704</td>\n",
       "      <td>0.715776</td>\n",
       "      <td>0.181956</td>\n",
       "    </tr>\n",
       "    <tr>\n",
       "      <th>2</th>\n",
       "      <td>0.632200</td>\n",
       "      <td>0.943685</td>\n",
       "      <td>0.490780</td>\n",
       "      <td>0.846505</td>\n",
       "      <td>0.565000</td>\n",
       "      <td>0.263891</td>\n",
       "      <td>0.526235</td>\n",
       "      <td>0.889685</td>\n",
       "    </tr>\n",
       "    <tr>\n",
       "      <th>3</th>\n",
       "      <td>0.872253</td>\n",
       "      <td>0.299259</td>\n",
       "      <td>0.311723</td>\n",
       "      <td>0.570059</td>\n",
       "      <td>0.419355</td>\n",
       "      <td>0.314112</td>\n",
       "      <td>0.024902</td>\n",
       "      <td>0.248143</td>\n",
       "    </tr>\n",
       "  </tbody>\n",
       "</table>\n",
       "</div>"
      ],
      "text/plain": [
       "          h         g         f         e         d         c         b  \\\n",
       "0  0.441637  0.954892  0.733134  0.435041  0.640679  0.567765  0.523996   \n",
       "1  0.311862  0.971079  0.739715  0.821916  0.533773  0.755704  0.715776   \n",
       "2  0.632200  0.943685  0.490780  0.846505  0.565000  0.263891  0.526235   \n",
       "3  0.872253  0.299259  0.311723  0.570059  0.419355  0.314112  0.024902   \n",
       "\n",
       "          a  \n",
       "0  0.965108  \n",
       "1  0.181956  \n",
       "2  0.889685  \n",
       "3  0.248143  "
      ]
     },
     "execution_count": 15,
     "metadata": {},
     "output_type": "execute_result"
    }
   ],
   "source": [
    "df.head()"
   ]
  },
  {
   "cell_type": "markdown",
   "id": "33015d99-5bb0-488c-89bc-e26a953d95cf",
   "metadata": {},
   "source": [
    "If we have column names with spaces inside and we do not really want that, we can use this trick"
   ]
  },
  {
   "cell_type": "code",
   "execution_count": 24,
   "id": "2b7ad7b0-0db1-4adb-8823-eb3e5c51219e",
   "metadata": {},
   "outputs": [],
   "source": [
    "df.rename({'h':'ha ha'},axis=1, inplace=True)"
   ]
  },
  {
   "cell_type": "code",
   "execution_count": 25,
   "id": "293f6d88-86ef-4331-bedd-437e9291145d",
   "metadata": {},
   "outputs": [
    {
     "data": {
      "text/html": [
       "<div>\n",
       "<style scoped>\n",
       "    .dataframe tbody tr th:only-of-type {\n",
       "        vertical-align: middle;\n",
       "    }\n",
       "\n",
       "    .dataframe tbody tr th {\n",
       "        vertical-align: top;\n",
       "    }\n",
       "\n",
       "    .dataframe thead th {\n",
       "        text-align: right;\n",
       "    }\n",
       "</style>\n",
       "<table border=\"1\" class=\"dataframe\">\n",
       "  <thead>\n",
       "    <tr style=\"text-align: right;\">\n",
       "      <th></th>\n",
       "      <th>ha ha</th>\n",
       "      <th>g</th>\n",
       "      <th>f</th>\n",
       "      <th>e</th>\n",
       "      <th>d</th>\n",
       "      <th>c</th>\n",
       "      <th>b</th>\n",
       "      <th>a</th>\n",
       "    </tr>\n",
       "  </thead>\n",
       "  <tbody>\n",
       "    <tr>\n",
       "      <th>0</th>\n",
       "      <td>0.441637</td>\n",
       "      <td>0.954892</td>\n",
       "      <td>0.733134</td>\n",
       "      <td>0.435041</td>\n",
       "      <td>0.640679</td>\n",
       "      <td>0.567765</td>\n",
       "      <td>0.523996</td>\n",
       "      <td>0.965108</td>\n",
       "    </tr>\n",
       "    <tr>\n",
       "      <th>1</th>\n",
       "      <td>0.311862</td>\n",
       "      <td>0.971079</td>\n",
       "      <td>0.739715</td>\n",
       "      <td>0.821916</td>\n",
       "      <td>0.533773</td>\n",
       "      <td>0.755704</td>\n",
       "      <td>0.715776</td>\n",
       "      <td>0.181956</td>\n",
       "    </tr>\n",
       "    <tr>\n",
       "      <th>2</th>\n",
       "      <td>0.632200</td>\n",
       "      <td>0.943685</td>\n",
       "      <td>0.490780</td>\n",
       "      <td>0.846505</td>\n",
       "      <td>0.565000</td>\n",
       "      <td>0.263891</td>\n",
       "      <td>0.526235</td>\n",
       "      <td>0.889685</td>\n",
       "    </tr>\n",
       "    <tr>\n",
       "      <th>3</th>\n",
       "      <td>0.872253</td>\n",
       "      <td>0.299259</td>\n",
       "      <td>0.311723</td>\n",
       "      <td>0.570059</td>\n",
       "      <td>0.419355</td>\n",
       "      <td>0.314112</td>\n",
       "      <td>0.024902</td>\n",
       "      <td>0.248143</td>\n",
       "    </tr>\n",
       "  </tbody>\n",
       "</table>\n",
       "</div>"
      ],
      "text/plain": [
       "      ha ha         g         f         e         d         c         b  \\\n",
       "0  0.441637  0.954892  0.733134  0.435041  0.640679  0.567765  0.523996   \n",
       "1  0.311862  0.971079  0.739715  0.821916  0.533773  0.755704  0.715776   \n",
       "2  0.632200  0.943685  0.490780  0.846505  0.565000  0.263891  0.526235   \n",
       "3  0.872253  0.299259  0.311723  0.570059  0.419355  0.314112  0.024902   \n",
       "\n",
       "          a  \n",
       "0  0.965108  \n",
       "1  0.181956  \n",
       "2  0.889685  \n",
       "3  0.248143  "
      ]
     },
     "execution_count": 25,
     "metadata": {},
     "output_type": "execute_result"
    }
   ],
   "source": [
    "df.head()"
   ]
  },
  {
   "cell_type": "code",
   "execution_count": 28,
   "id": "d7284ac8-58f3-4827-8033-73f8a30c0cb5",
   "metadata": {},
   "outputs": [],
   "source": [
    "df.columns = df.columns.str.replace(' ', '_')"
   ]
  },
  {
   "cell_type": "code",
   "execution_count": 30,
   "id": "377a51f8-cbae-414f-bf2d-d933863628c6",
   "metadata": {},
   "outputs": [
    {
     "data": {
      "text/html": [
       "<div>\n",
       "<style scoped>\n",
       "    .dataframe tbody tr th:only-of-type {\n",
       "        vertical-align: middle;\n",
       "    }\n",
       "\n",
       "    .dataframe tbody tr th {\n",
       "        vertical-align: top;\n",
       "    }\n",
       "\n",
       "    .dataframe thead th {\n",
       "        text-align: right;\n",
       "    }\n",
       "</style>\n",
       "<table border=\"1\" class=\"dataframe\">\n",
       "  <thead>\n",
       "    <tr style=\"text-align: right;\">\n",
       "      <th></th>\n",
       "      <th>ha_ha</th>\n",
       "      <th>g</th>\n",
       "      <th>f</th>\n",
       "      <th>e</th>\n",
       "      <th>d</th>\n",
       "      <th>c</th>\n",
       "      <th>b</th>\n",
       "      <th>a</th>\n",
       "    </tr>\n",
       "  </thead>\n",
       "  <tbody>\n",
       "    <tr>\n",
       "      <th>0</th>\n",
       "      <td>0.441637</td>\n",
       "      <td>0.954892</td>\n",
       "      <td>0.733134</td>\n",
       "      <td>0.435041</td>\n",
       "      <td>0.640679</td>\n",
       "      <td>0.567765</td>\n",
       "      <td>0.523996</td>\n",
       "      <td>0.965108</td>\n",
       "    </tr>\n",
       "    <tr>\n",
       "      <th>1</th>\n",
       "      <td>0.311862</td>\n",
       "      <td>0.971079</td>\n",
       "      <td>0.739715</td>\n",
       "      <td>0.821916</td>\n",
       "      <td>0.533773</td>\n",
       "      <td>0.755704</td>\n",
       "      <td>0.715776</td>\n",
       "      <td>0.181956</td>\n",
       "    </tr>\n",
       "    <tr>\n",
       "      <th>2</th>\n",
       "      <td>0.632200</td>\n",
       "      <td>0.943685</td>\n",
       "      <td>0.490780</td>\n",
       "      <td>0.846505</td>\n",
       "      <td>0.565000</td>\n",
       "      <td>0.263891</td>\n",
       "      <td>0.526235</td>\n",
       "      <td>0.889685</td>\n",
       "    </tr>\n",
       "    <tr>\n",
       "      <th>3</th>\n",
       "      <td>0.872253</td>\n",
       "      <td>0.299259</td>\n",
       "      <td>0.311723</td>\n",
       "      <td>0.570059</td>\n",
       "      <td>0.419355</td>\n",
       "      <td>0.314112</td>\n",
       "      <td>0.024902</td>\n",
       "      <td>0.248143</td>\n",
       "    </tr>\n",
       "  </tbody>\n",
       "</table>\n",
       "</div>"
      ],
      "text/plain": [
       "      ha_ha         g         f         e         d         c         b  \\\n",
       "0  0.441637  0.954892  0.733134  0.435041  0.640679  0.567765  0.523996   \n",
       "1  0.311862  0.971079  0.739715  0.821916  0.533773  0.755704  0.715776   \n",
       "2  0.632200  0.943685  0.490780  0.846505  0.565000  0.263891  0.526235   \n",
       "3  0.872253  0.299259  0.311723  0.570059  0.419355  0.314112  0.024902   \n",
       "\n",
       "          a  \n",
       "0  0.965108  \n",
       "1  0.181956  \n",
       "2  0.889685  \n",
       "3  0.248143  "
      ]
     },
     "execution_count": 30,
     "metadata": {},
     "output_type": "execute_result"
    }
   ],
   "source": [
    "df.head()"
   ]
  },
  {
   "cell_type": "markdown",
   "id": "bc0d7c25-366a-4d7d-9eb8-238465e2bbd5",
   "metadata": {},
   "source": [
    "If we want to add a suffix/prefix"
   ]
  },
  {
   "cell_type": "code",
   "execution_count": 31,
   "id": "da5f9a06-4e92-423c-aa49-d0fba19a5370",
   "metadata": {},
   "outputs": [
    {
     "data": {
      "text/html": [
       "<div>\n",
       "<style scoped>\n",
       "    .dataframe tbody tr th:only-of-type {\n",
       "        vertical-align: middle;\n",
       "    }\n",
       "\n",
       "    .dataframe tbody tr th {\n",
       "        vertical-align: top;\n",
       "    }\n",
       "\n",
       "    .dataframe thead th {\n",
       "        text-align: right;\n",
       "    }\n",
       "</style>\n",
       "<table border=\"1\" class=\"dataframe\">\n",
       "  <thead>\n",
       "    <tr style=\"text-align: right;\">\n",
       "      <th></th>\n",
       "      <th>x_ha_ha</th>\n",
       "      <th>x_g</th>\n",
       "      <th>x_f</th>\n",
       "      <th>x_e</th>\n",
       "      <th>x_d</th>\n",
       "      <th>x_c</th>\n",
       "      <th>x_b</th>\n",
       "      <th>x_a</th>\n",
       "    </tr>\n",
       "  </thead>\n",
       "  <tbody>\n",
       "    <tr>\n",
       "      <th>0</th>\n",
       "      <td>0.441637</td>\n",
       "      <td>0.954892</td>\n",
       "      <td>0.733134</td>\n",
       "      <td>0.435041</td>\n",
       "      <td>0.640679</td>\n",
       "      <td>0.567765</td>\n",
       "      <td>0.523996</td>\n",
       "      <td>0.965108</td>\n",
       "    </tr>\n",
       "    <tr>\n",
       "      <th>1</th>\n",
       "      <td>0.311862</td>\n",
       "      <td>0.971079</td>\n",
       "      <td>0.739715</td>\n",
       "      <td>0.821916</td>\n",
       "      <td>0.533773</td>\n",
       "      <td>0.755704</td>\n",
       "      <td>0.715776</td>\n",
       "      <td>0.181956</td>\n",
       "    </tr>\n",
       "    <tr>\n",
       "      <th>2</th>\n",
       "      <td>0.632200</td>\n",
       "      <td>0.943685</td>\n",
       "      <td>0.490780</td>\n",
       "      <td>0.846505</td>\n",
       "      <td>0.565000</td>\n",
       "      <td>0.263891</td>\n",
       "      <td>0.526235</td>\n",
       "      <td>0.889685</td>\n",
       "    </tr>\n",
       "    <tr>\n",
       "      <th>3</th>\n",
       "      <td>0.872253</td>\n",
       "      <td>0.299259</td>\n",
       "      <td>0.311723</td>\n",
       "      <td>0.570059</td>\n",
       "      <td>0.419355</td>\n",
       "      <td>0.314112</td>\n",
       "      <td>0.024902</td>\n",
       "      <td>0.248143</td>\n",
       "    </tr>\n",
       "  </tbody>\n",
       "</table>\n",
       "</div>"
      ],
      "text/plain": [
       "    x_ha_ha       x_g       x_f       x_e       x_d       x_c       x_b  \\\n",
       "0  0.441637  0.954892  0.733134  0.435041  0.640679  0.567765  0.523996   \n",
       "1  0.311862  0.971079  0.739715  0.821916  0.533773  0.755704  0.715776   \n",
       "2  0.632200  0.943685  0.490780  0.846505  0.565000  0.263891  0.526235   \n",
       "3  0.872253  0.299259  0.311723  0.570059  0.419355  0.314112  0.024902   \n",
       "\n",
       "        x_a  \n",
       "0  0.965108  \n",
       "1  0.181956  \n",
       "2  0.889685  \n",
       "3  0.248143  "
      ]
     },
     "execution_count": 31,
     "metadata": {},
     "output_type": "execute_result"
    }
   ],
   "source": [
    "df.add_prefix('x_')"
   ]
  },
  {
   "cell_type": "code",
   "execution_count": 32,
   "id": "20249ddf-6b3a-4673-b1af-0a7a87934a43",
   "metadata": {},
   "outputs": [
    {
     "data": {
      "text/html": [
       "<div>\n",
       "<style scoped>\n",
       "    .dataframe tbody tr th:only-of-type {\n",
       "        vertical-align: middle;\n",
       "    }\n",
       "\n",
       "    .dataframe tbody tr th {\n",
       "        vertical-align: top;\n",
       "    }\n",
       "\n",
       "    .dataframe thead th {\n",
       "        text-align: right;\n",
       "    }\n",
       "</style>\n",
       "<table border=\"1\" class=\"dataframe\">\n",
       "  <thead>\n",
       "    <tr style=\"text-align: right;\">\n",
       "      <th></th>\n",
       "      <th>ha_ha_y</th>\n",
       "      <th>g_y</th>\n",
       "      <th>f_y</th>\n",
       "      <th>e_y</th>\n",
       "      <th>d_y</th>\n",
       "      <th>c_y</th>\n",
       "      <th>b_y</th>\n",
       "      <th>a_y</th>\n",
       "    </tr>\n",
       "  </thead>\n",
       "  <tbody>\n",
       "    <tr>\n",
       "      <th>0</th>\n",
       "      <td>0.441637</td>\n",
       "      <td>0.954892</td>\n",
       "      <td>0.733134</td>\n",
       "      <td>0.435041</td>\n",
       "      <td>0.640679</td>\n",
       "      <td>0.567765</td>\n",
       "      <td>0.523996</td>\n",
       "      <td>0.965108</td>\n",
       "    </tr>\n",
       "    <tr>\n",
       "      <th>1</th>\n",
       "      <td>0.311862</td>\n",
       "      <td>0.971079</td>\n",
       "      <td>0.739715</td>\n",
       "      <td>0.821916</td>\n",
       "      <td>0.533773</td>\n",
       "      <td>0.755704</td>\n",
       "      <td>0.715776</td>\n",
       "      <td>0.181956</td>\n",
       "    </tr>\n",
       "    <tr>\n",
       "      <th>2</th>\n",
       "      <td>0.632200</td>\n",
       "      <td>0.943685</td>\n",
       "      <td>0.490780</td>\n",
       "      <td>0.846505</td>\n",
       "      <td>0.565000</td>\n",
       "      <td>0.263891</td>\n",
       "      <td>0.526235</td>\n",
       "      <td>0.889685</td>\n",
       "    </tr>\n",
       "    <tr>\n",
       "      <th>3</th>\n",
       "      <td>0.872253</td>\n",
       "      <td>0.299259</td>\n",
       "      <td>0.311723</td>\n",
       "      <td>0.570059</td>\n",
       "      <td>0.419355</td>\n",
       "      <td>0.314112</td>\n",
       "      <td>0.024902</td>\n",
       "      <td>0.248143</td>\n",
       "    </tr>\n",
       "  </tbody>\n",
       "</table>\n",
       "</div>"
      ],
      "text/plain": [
       "    ha_ha_y       g_y       f_y       e_y       d_y       c_y       b_y  \\\n",
       "0  0.441637  0.954892  0.733134  0.435041  0.640679  0.567765  0.523996   \n",
       "1  0.311862  0.971079  0.739715  0.821916  0.533773  0.755704  0.715776   \n",
       "2  0.632200  0.943685  0.490780  0.846505  0.565000  0.263891  0.526235   \n",
       "3  0.872253  0.299259  0.311723  0.570059  0.419355  0.314112  0.024902   \n",
       "\n",
       "        a_y  \n",
       "0  0.965108  \n",
       "1  0.181956  \n",
       "2  0.889685  \n",
       "3  0.248143  "
      ]
     },
     "execution_count": 32,
     "metadata": {},
     "output_type": "execute_result"
    }
   ],
   "source": [
    "df.add_suffix('_y')"
   ]
  },
  {
   "cell_type": "markdown",
   "id": "e6af97a7-26ed-4bc5-ad10-5645af38af13",
   "metadata": {},
   "source": [
    "**4. Reverse row order**"
   ]
  },
  {
   "cell_type": "code",
   "execution_count": 33,
   "id": "1a2f801f-a16c-40b2-a26a-1275d501ca22",
   "metadata": {},
   "outputs": [
    {
     "data": {
      "text/html": [
       "<div>\n",
       "<style scoped>\n",
       "    .dataframe tbody tr th:only-of-type {\n",
       "        vertical-align: middle;\n",
       "    }\n",
       "\n",
       "    .dataframe tbody tr th {\n",
       "        vertical-align: top;\n",
       "    }\n",
       "\n",
       "    .dataframe thead th {\n",
       "        text-align: right;\n",
       "    }\n",
       "</style>\n",
       "<table border=\"1\" class=\"dataframe\">\n",
       "  <thead>\n",
       "    <tr style=\"text-align: right;\">\n",
       "      <th></th>\n",
       "      <th>ha_ha</th>\n",
       "      <th>g</th>\n",
       "      <th>f</th>\n",
       "      <th>e</th>\n",
       "      <th>d</th>\n",
       "      <th>c</th>\n",
       "      <th>b</th>\n",
       "      <th>a</th>\n",
       "    </tr>\n",
       "  </thead>\n",
       "  <tbody>\n",
       "    <tr>\n",
       "      <th>0</th>\n",
       "      <td>0.441637</td>\n",
       "      <td>0.954892</td>\n",
       "      <td>0.733134</td>\n",
       "      <td>0.435041</td>\n",
       "      <td>0.640679</td>\n",
       "      <td>0.567765</td>\n",
       "      <td>0.523996</td>\n",
       "      <td>0.965108</td>\n",
       "    </tr>\n",
       "    <tr>\n",
       "      <th>1</th>\n",
       "      <td>0.311862</td>\n",
       "      <td>0.971079</td>\n",
       "      <td>0.739715</td>\n",
       "      <td>0.821916</td>\n",
       "      <td>0.533773</td>\n",
       "      <td>0.755704</td>\n",
       "      <td>0.715776</td>\n",
       "      <td>0.181956</td>\n",
       "    </tr>\n",
       "    <tr>\n",
       "      <th>2</th>\n",
       "      <td>0.632200</td>\n",
       "      <td>0.943685</td>\n",
       "      <td>0.490780</td>\n",
       "      <td>0.846505</td>\n",
       "      <td>0.565000</td>\n",
       "      <td>0.263891</td>\n",
       "      <td>0.526235</td>\n",
       "      <td>0.889685</td>\n",
       "    </tr>\n",
       "    <tr>\n",
       "      <th>3</th>\n",
       "      <td>0.872253</td>\n",
       "      <td>0.299259</td>\n",
       "      <td>0.311723</td>\n",
       "      <td>0.570059</td>\n",
       "      <td>0.419355</td>\n",
       "      <td>0.314112</td>\n",
       "      <td>0.024902</td>\n",
       "      <td>0.248143</td>\n",
       "    </tr>\n",
       "  </tbody>\n",
       "</table>\n",
       "</div>"
      ],
      "text/plain": [
       "      ha_ha         g         f         e         d         c         b  \\\n",
       "0  0.441637  0.954892  0.733134  0.435041  0.640679  0.567765  0.523996   \n",
       "1  0.311862  0.971079  0.739715  0.821916  0.533773  0.755704  0.715776   \n",
       "2  0.632200  0.943685  0.490780  0.846505  0.565000  0.263891  0.526235   \n",
       "3  0.872253  0.299259  0.311723  0.570059  0.419355  0.314112  0.024902   \n",
       "\n",
       "          a  \n",
       "0  0.965108  \n",
       "1  0.181956  \n",
       "2  0.889685  \n",
       "3  0.248143  "
      ]
     },
     "execution_count": 33,
     "metadata": {},
     "output_type": "execute_result"
    }
   ],
   "source": [
    "df.head()"
   ]
  },
  {
   "cell_type": "code",
   "execution_count": 35,
   "id": "f76f0834-dc3a-4172-a8ee-288a0d341ba2",
   "metadata": {},
   "outputs": [
    {
     "data": {
      "text/html": [
       "<div>\n",
       "<style scoped>\n",
       "    .dataframe tbody tr th:only-of-type {\n",
       "        vertical-align: middle;\n",
       "    }\n",
       "\n",
       "    .dataframe tbody tr th {\n",
       "        vertical-align: top;\n",
       "    }\n",
       "\n",
       "    .dataframe thead th {\n",
       "        text-align: right;\n",
       "    }\n",
       "</style>\n",
       "<table border=\"1\" class=\"dataframe\">\n",
       "  <thead>\n",
       "    <tr style=\"text-align: right;\">\n",
       "      <th></th>\n",
       "      <th>ha_ha</th>\n",
       "      <th>g</th>\n",
       "      <th>f</th>\n",
       "      <th>e</th>\n",
       "      <th>d</th>\n",
       "      <th>c</th>\n",
       "      <th>b</th>\n",
       "      <th>a</th>\n",
       "    </tr>\n",
       "  </thead>\n",
       "  <tbody>\n",
       "    <tr>\n",
       "      <th>3</th>\n",
       "      <td>0.872253</td>\n",
       "      <td>0.299259</td>\n",
       "      <td>0.311723</td>\n",
       "      <td>0.570059</td>\n",
       "      <td>0.419355</td>\n",
       "      <td>0.314112</td>\n",
       "      <td>0.024902</td>\n",
       "      <td>0.248143</td>\n",
       "    </tr>\n",
       "    <tr>\n",
       "      <th>2</th>\n",
       "      <td>0.632200</td>\n",
       "      <td>0.943685</td>\n",
       "      <td>0.490780</td>\n",
       "      <td>0.846505</td>\n",
       "      <td>0.565000</td>\n",
       "      <td>0.263891</td>\n",
       "      <td>0.526235</td>\n",
       "      <td>0.889685</td>\n",
       "    </tr>\n",
       "    <tr>\n",
       "      <th>1</th>\n",
       "      <td>0.311862</td>\n",
       "      <td>0.971079</td>\n",
       "      <td>0.739715</td>\n",
       "      <td>0.821916</td>\n",
       "      <td>0.533773</td>\n",
       "      <td>0.755704</td>\n",
       "      <td>0.715776</td>\n",
       "      <td>0.181956</td>\n",
       "    </tr>\n",
       "    <tr>\n",
       "      <th>0</th>\n",
       "      <td>0.441637</td>\n",
       "      <td>0.954892</td>\n",
       "      <td>0.733134</td>\n",
       "      <td>0.435041</td>\n",
       "      <td>0.640679</td>\n",
       "      <td>0.567765</td>\n",
       "      <td>0.523996</td>\n",
       "      <td>0.965108</td>\n",
       "    </tr>\n",
       "  </tbody>\n",
       "</table>\n",
       "</div>"
      ],
      "text/plain": [
       "      ha_ha         g         f         e         d         c         b  \\\n",
       "3  0.872253  0.299259  0.311723  0.570059  0.419355  0.314112  0.024902   \n",
       "2  0.632200  0.943685  0.490780  0.846505  0.565000  0.263891  0.526235   \n",
       "1  0.311862  0.971079  0.739715  0.821916  0.533773  0.755704  0.715776   \n",
       "0  0.441637  0.954892  0.733134  0.435041  0.640679  0.567765  0.523996   \n",
       "\n",
       "          a  \n",
       "3  0.248143  \n",
       "2  0.889685  \n",
       "1  0.181956  \n",
       "0  0.965108  "
      ]
     },
     "execution_count": 35,
     "metadata": {},
     "output_type": "execute_result"
    }
   ],
   "source": [
    "df.loc[::-1] # reversed order (index also)"
   ]
  },
  {
   "cell_type": "code",
   "execution_count": 38,
   "id": "4b11e1a6-0e6f-4324-9c88-035e94387511",
   "metadata": {},
   "outputs": [
    {
     "data": {
      "text/html": [
       "<div>\n",
       "<style scoped>\n",
       "    .dataframe tbody tr th:only-of-type {\n",
       "        vertical-align: middle;\n",
       "    }\n",
       "\n",
       "    .dataframe tbody tr th {\n",
       "        vertical-align: top;\n",
       "    }\n",
       "\n",
       "    .dataframe thead th {\n",
       "        text-align: right;\n",
       "    }\n",
       "</style>\n",
       "<table border=\"1\" class=\"dataframe\">\n",
       "  <thead>\n",
       "    <tr style=\"text-align: right;\">\n",
       "      <th></th>\n",
       "      <th>ha_ha</th>\n",
       "      <th>g</th>\n",
       "      <th>f</th>\n",
       "      <th>e</th>\n",
       "      <th>d</th>\n",
       "      <th>c</th>\n",
       "      <th>b</th>\n",
       "      <th>a</th>\n",
       "    </tr>\n",
       "  </thead>\n",
       "  <tbody>\n",
       "    <tr>\n",
       "      <th>0</th>\n",
       "      <td>0.872253</td>\n",
       "      <td>0.299259</td>\n",
       "      <td>0.311723</td>\n",
       "      <td>0.570059</td>\n",
       "      <td>0.419355</td>\n",
       "      <td>0.314112</td>\n",
       "      <td>0.024902</td>\n",
       "      <td>0.248143</td>\n",
       "    </tr>\n",
       "    <tr>\n",
       "      <th>1</th>\n",
       "      <td>0.632200</td>\n",
       "      <td>0.943685</td>\n",
       "      <td>0.490780</td>\n",
       "      <td>0.846505</td>\n",
       "      <td>0.565000</td>\n",
       "      <td>0.263891</td>\n",
       "      <td>0.526235</td>\n",
       "      <td>0.889685</td>\n",
       "    </tr>\n",
       "    <tr>\n",
       "      <th>2</th>\n",
       "      <td>0.311862</td>\n",
       "      <td>0.971079</td>\n",
       "      <td>0.739715</td>\n",
       "      <td>0.821916</td>\n",
       "      <td>0.533773</td>\n",
       "      <td>0.755704</td>\n",
       "      <td>0.715776</td>\n",
       "      <td>0.181956</td>\n",
       "    </tr>\n",
       "    <tr>\n",
       "      <th>3</th>\n",
       "      <td>0.441637</td>\n",
       "      <td>0.954892</td>\n",
       "      <td>0.733134</td>\n",
       "      <td>0.435041</td>\n",
       "      <td>0.640679</td>\n",
       "      <td>0.567765</td>\n",
       "      <td>0.523996</td>\n",
       "      <td>0.965108</td>\n",
       "    </tr>\n",
       "  </tbody>\n",
       "</table>\n",
       "</div>"
      ],
      "text/plain": [
       "      ha_ha         g         f         e         d         c         b  \\\n",
       "0  0.872253  0.299259  0.311723  0.570059  0.419355  0.314112  0.024902   \n",
       "1  0.632200  0.943685  0.490780  0.846505  0.565000  0.263891  0.526235   \n",
       "2  0.311862  0.971079  0.739715  0.821916  0.533773  0.755704  0.715776   \n",
       "3  0.441637  0.954892  0.733134  0.435041  0.640679  0.567765  0.523996   \n",
       "\n",
       "          a  \n",
       "0  0.248143  \n",
       "1  0.889685  \n",
       "2  0.181956  \n",
       "3  0.965108  "
      ]
     },
     "execution_count": 38,
     "metadata": {},
     "output_type": "execute_result"
    }
   ],
   "source": [
    "df.loc[::-1].reset_index(drop=True) # reversed order with index reset"
   ]
  },
  {
   "cell_type": "markdown",
   "id": "b9633f49-c996-45f6-9f5a-9148e7334bc8",
   "metadata": {},
   "source": [
    "**5. Reverse column order**"
   ]
  },
  {
   "cell_type": "code",
   "execution_count": 40,
   "id": "2ab476a5-21a3-4197-ac73-5ad9c6e836af",
   "metadata": {},
   "outputs": [
    {
     "data": {
      "text/html": [
       "<div>\n",
       "<style scoped>\n",
       "    .dataframe tbody tr th:only-of-type {\n",
       "        vertical-align: middle;\n",
       "    }\n",
       "\n",
       "    .dataframe tbody tr th {\n",
       "        vertical-align: top;\n",
       "    }\n",
       "\n",
       "    .dataframe thead th {\n",
       "        text-align: right;\n",
       "    }\n",
       "</style>\n",
       "<table border=\"1\" class=\"dataframe\">\n",
       "  <thead>\n",
       "    <tr style=\"text-align: right;\">\n",
       "      <th></th>\n",
       "      <th>a</th>\n",
       "      <th>b</th>\n",
       "      <th>c</th>\n",
       "      <th>d</th>\n",
       "      <th>e</th>\n",
       "      <th>f</th>\n",
       "      <th>g</th>\n",
       "      <th>ha_ha</th>\n",
       "    </tr>\n",
       "  </thead>\n",
       "  <tbody>\n",
       "    <tr>\n",
       "      <th>0</th>\n",
       "      <td>0.965108</td>\n",
       "      <td>0.523996</td>\n",
       "      <td>0.567765</td>\n",
       "      <td>0.640679</td>\n",
       "      <td>0.435041</td>\n",
       "      <td>0.733134</td>\n",
       "      <td>0.954892</td>\n",
       "      <td>0.441637</td>\n",
       "    </tr>\n",
       "    <tr>\n",
       "      <th>1</th>\n",
       "      <td>0.181956</td>\n",
       "      <td>0.715776</td>\n",
       "      <td>0.755704</td>\n",
       "      <td>0.533773</td>\n",
       "      <td>0.821916</td>\n",
       "      <td>0.739715</td>\n",
       "      <td>0.971079</td>\n",
       "      <td>0.311862</td>\n",
       "    </tr>\n",
       "    <tr>\n",
       "      <th>2</th>\n",
       "      <td>0.889685</td>\n",
       "      <td>0.526235</td>\n",
       "      <td>0.263891</td>\n",
       "      <td>0.565000</td>\n",
       "      <td>0.846505</td>\n",
       "      <td>0.490780</td>\n",
       "      <td>0.943685</td>\n",
       "      <td>0.632200</td>\n",
       "    </tr>\n",
       "    <tr>\n",
       "      <th>3</th>\n",
       "      <td>0.248143</td>\n",
       "      <td>0.024902</td>\n",
       "      <td>0.314112</td>\n",
       "      <td>0.419355</td>\n",
       "      <td>0.570059</td>\n",
       "      <td>0.311723</td>\n",
       "      <td>0.299259</td>\n",
       "      <td>0.872253</td>\n",
       "    </tr>\n",
       "  </tbody>\n",
       "</table>\n",
       "</div>"
      ],
      "text/plain": [
       "          a         b         c         d         e         f         g  \\\n",
       "0  0.965108  0.523996  0.567765  0.640679  0.435041  0.733134  0.954892   \n",
       "1  0.181956  0.715776  0.755704  0.533773  0.821916  0.739715  0.971079   \n",
       "2  0.889685  0.526235  0.263891  0.565000  0.846505  0.490780  0.943685   \n",
       "3  0.248143  0.024902  0.314112  0.419355  0.570059  0.311723  0.299259   \n",
       "\n",
       "      ha_ha  \n",
       "0  0.441637  \n",
       "1  0.311862  \n",
       "2  0.632200  \n",
       "3  0.872253  "
      ]
     },
     "execution_count": 40,
     "metadata": {},
     "output_type": "execute_result"
    }
   ],
   "source": [
    "df.loc[:, ::-1] # works the same as row reverse"
   ]
  },
  {
   "cell_type": "markdown",
   "id": "3afbe6c5-8232-40be-a5d4-37e95db9bbc1",
   "metadata": {},
   "source": [
    "**6. Select columns by data type**"
   ]
  },
  {
   "cell_type": "code",
   "execution_count": 41,
   "id": "92432f6a-d6ae-44e5-aa5a-849cc369bf14",
   "metadata": {},
   "outputs": [],
   "source": [
    "train_df = pd.DataFrame({'name':['Josh','John','Anna','Bernie'], 'age':[20, 21, 51, 31], 'payment':[512.93, 321.12, 866, 9412.93]})"
   ]
  },
  {
   "cell_type": "code",
   "execution_count": 42,
   "id": "0cebc262-b014-4ce7-b983-219c4f2a1eec",
   "metadata": {},
   "outputs": [
    {
     "data": {
      "text/html": [
       "<div>\n",
       "<style scoped>\n",
       "    .dataframe tbody tr th:only-of-type {\n",
       "        vertical-align: middle;\n",
       "    }\n",
       "\n",
       "    .dataframe tbody tr th {\n",
       "        vertical-align: top;\n",
       "    }\n",
       "\n",
       "    .dataframe thead th {\n",
       "        text-align: right;\n",
       "    }\n",
       "</style>\n",
       "<table border=\"1\" class=\"dataframe\">\n",
       "  <thead>\n",
       "    <tr style=\"text-align: right;\">\n",
       "      <th></th>\n",
       "      <th>name</th>\n",
       "      <th>age</th>\n",
       "      <th>payment</th>\n",
       "    </tr>\n",
       "  </thead>\n",
       "  <tbody>\n",
       "    <tr>\n",
       "      <th>0</th>\n",
       "      <td>Josh</td>\n",
       "      <td>20</td>\n",
       "      <td>512.93</td>\n",
       "    </tr>\n",
       "    <tr>\n",
       "      <th>1</th>\n",
       "      <td>John</td>\n",
       "      <td>21</td>\n",
       "      <td>321.12</td>\n",
       "    </tr>\n",
       "    <tr>\n",
       "      <th>2</th>\n",
       "      <td>Anna</td>\n",
       "      <td>51</td>\n",
       "      <td>866.00</td>\n",
       "    </tr>\n",
       "    <tr>\n",
       "      <th>3</th>\n",
       "      <td>Bernie</td>\n",
       "      <td>31</td>\n",
       "      <td>9412.93</td>\n",
       "    </tr>\n",
       "  </tbody>\n",
       "</table>\n",
       "</div>"
      ],
      "text/plain": [
       "     name  age  payment\n",
       "0    Josh   20   512.93\n",
       "1    John   21   321.12\n",
       "2    Anna   51   866.00\n",
       "3  Bernie   31  9412.93"
      ]
     },
     "execution_count": 42,
     "metadata": {},
     "output_type": "execute_result"
    }
   ],
   "source": [
    "train_df"
   ]
  },
  {
   "cell_type": "code",
   "execution_count": 44,
   "id": "eea52ff5-7f3f-4850-9df7-64f8661f852e",
   "metadata": {},
   "outputs": [
    {
     "data": {
      "text/html": [
       "<div>\n",
       "<style scoped>\n",
       "    .dataframe tbody tr th:only-of-type {\n",
       "        vertical-align: middle;\n",
       "    }\n",
       "\n",
       "    .dataframe tbody tr th {\n",
       "        vertical-align: top;\n",
       "    }\n",
       "\n",
       "    .dataframe thead th {\n",
       "        text-align: right;\n",
       "    }\n",
       "</style>\n",
       "<table border=\"1\" class=\"dataframe\">\n",
       "  <thead>\n",
       "    <tr style=\"text-align: right;\">\n",
       "      <th></th>\n",
       "      <th>age</th>\n",
       "      <th>payment</th>\n",
       "    </tr>\n",
       "  </thead>\n",
       "  <tbody>\n",
       "    <tr>\n",
       "      <th>0</th>\n",
       "      <td>20</td>\n",
       "      <td>512.93</td>\n",
       "    </tr>\n",
       "    <tr>\n",
       "      <th>1</th>\n",
       "      <td>21</td>\n",
       "      <td>321.12</td>\n",
       "    </tr>\n",
       "    <tr>\n",
       "      <th>2</th>\n",
       "      <td>51</td>\n",
       "      <td>866.00</td>\n",
       "    </tr>\n",
       "    <tr>\n",
       "      <th>3</th>\n",
       "      <td>31</td>\n",
       "      <td>9412.93</td>\n",
       "    </tr>\n",
       "  </tbody>\n",
       "</table>\n",
       "</div>"
      ],
      "text/plain": [
       "   age  payment\n",
       "0   20   512.93\n",
       "1   21   321.12\n",
       "2   51   866.00\n",
       "3   31  9412.93"
      ]
     },
     "execution_count": 44,
     "metadata": {},
     "output_type": "execute_result"
    }
   ],
   "source": [
    "train_df.select_dtypes(include='number')"
   ]
  },
  {
   "cell_type": "code",
   "execution_count": 45,
   "id": "5c245145-88c2-4cb8-b5cc-24bde5b44ede",
   "metadata": {},
   "outputs": [
    {
     "data": {
      "text/html": [
       "<div>\n",
       "<style scoped>\n",
       "    .dataframe tbody tr th:only-of-type {\n",
       "        vertical-align: middle;\n",
       "    }\n",
       "\n",
       "    .dataframe tbody tr th {\n",
       "        vertical-align: top;\n",
       "    }\n",
       "\n",
       "    .dataframe thead th {\n",
       "        text-align: right;\n",
       "    }\n",
       "</style>\n",
       "<table border=\"1\" class=\"dataframe\">\n",
       "  <thead>\n",
       "    <tr style=\"text-align: right;\">\n",
       "      <th></th>\n",
       "      <th>name</th>\n",
       "    </tr>\n",
       "  </thead>\n",
       "  <tbody>\n",
       "    <tr>\n",
       "      <th>0</th>\n",
       "      <td>Josh</td>\n",
       "    </tr>\n",
       "    <tr>\n",
       "      <th>1</th>\n",
       "      <td>John</td>\n",
       "    </tr>\n",
       "    <tr>\n",
       "      <th>2</th>\n",
       "      <td>Anna</td>\n",
       "    </tr>\n",
       "    <tr>\n",
       "      <th>3</th>\n",
       "      <td>Bernie</td>\n",
       "    </tr>\n",
       "  </tbody>\n",
       "</table>\n",
       "</div>"
      ],
      "text/plain": [
       "     name\n",
       "0    Josh\n",
       "1    John\n",
       "2    Anna\n",
       "3  Bernie"
      ]
     },
     "execution_count": 45,
     "metadata": {},
     "output_type": "execute_result"
    }
   ],
   "source": [
    "train_df.select_dtypes(include='object')"
   ]
  },
  {
   "cell_type": "code",
   "execution_count": 46,
   "id": "ad941d34-e0cb-44fa-bf65-f6178d615f6c",
   "metadata": {},
   "outputs": [
    {
     "data": {
      "text/html": [
       "<div>\n",
       "<style scoped>\n",
       "    .dataframe tbody tr th:only-of-type {\n",
       "        vertical-align: middle;\n",
       "    }\n",
       "\n",
       "    .dataframe tbody tr th {\n",
       "        vertical-align: top;\n",
       "    }\n",
       "\n",
       "    .dataframe thead th {\n",
       "        text-align: right;\n",
       "    }\n",
       "</style>\n",
       "<table border=\"1\" class=\"dataframe\">\n",
       "  <thead>\n",
       "    <tr style=\"text-align: right;\">\n",
       "      <th></th>\n",
       "      <th>name</th>\n",
       "      <th>age</th>\n",
       "      <th>payment</th>\n",
       "    </tr>\n",
       "  </thead>\n",
       "  <tbody>\n",
       "    <tr>\n",
       "      <th>0</th>\n",
       "      <td>Josh</td>\n",
       "      <td>20</td>\n",
       "      <td>512.93</td>\n",
       "    </tr>\n",
       "    <tr>\n",
       "      <th>1</th>\n",
       "      <td>John</td>\n",
       "      <td>21</td>\n",
       "      <td>321.12</td>\n",
       "    </tr>\n",
       "    <tr>\n",
       "      <th>2</th>\n",
       "      <td>Anna</td>\n",
       "      <td>51</td>\n",
       "      <td>866.00</td>\n",
       "    </tr>\n",
       "    <tr>\n",
       "      <th>3</th>\n",
       "      <td>Bernie</td>\n",
       "      <td>31</td>\n",
       "      <td>9412.93</td>\n",
       "    </tr>\n",
       "  </tbody>\n",
       "</table>\n",
       "</div>"
      ],
      "text/plain": [
       "     name  age  payment\n",
       "0    Josh   20   512.93\n",
       "1    John   21   321.12\n",
       "2    Anna   51   866.00\n",
       "3  Bernie   31  9412.93"
      ]
     },
     "execution_count": 46,
     "metadata": {},
     "output_type": "execute_result"
    }
   ],
   "source": [
    "train_df.select_dtypes(include=['object', 'number'])"
   ]
  },
  {
   "cell_type": "code",
   "execution_count": 47,
   "id": "63cbd741-727d-4966-a1d9-58ab595cec5a",
   "metadata": {},
   "outputs": [
    {
     "data": {
      "text/html": [
       "<div>\n",
       "<style scoped>\n",
       "    .dataframe tbody tr th:only-of-type {\n",
       "        vertical-align: middle;\n",
       "    }\n",
       "\n",
       "    .dataframe tbody tr th {\n",
       "        vertical-align: top;\n",
       "    }\n",
       "\n",
       "    .dataframe thead th {\n",
       "        text-align: right;\n",
       "    }\n",
       "</style>\n",
       "<table border=\"1\" class=\"dataframe\">\n",
       "  <thead>\n",
       "    <tr style=\"text-align: right;\">\n",
       "      <th></th>\n",
       "      <th>age</th>\n",
       "      <th>payment</th>\n",
       "    </tr>\n",
       "  </thead>\n",
       "  <tbody>\n",
       "    <tr>\n",
       "      <th>0</th>\n",
       "      <td>20</td>\n",
       "      <td>512.93</td>\n",
       "    </tr>\n",
       "    <tr>\n",
       "      <th>1</th>\n",
       "      <td>21</td>\n",
       "      <td>321.12</td>\n",
       "    </tr>\n",
       "    <tr>\n",
       "      <th>2</th>\n",
       "      <td>51</td>\n",
       "      <td>866.00</td>\n",
       "    </tr>\n",
       "    <tr>\n",
       "      <th>3</th>\n",
       "      <td>31</td>\n",
       "      <td>9412.93</td>\n",
       "    </tr>\n",
       "  </tbody>\n",
       "</table>\n",
       "</div>"
      ],
      "text/plain": [
       "   age  payment\n",
       "0   20   512.93\n",
       "1   21   321.12\n",
       "2   51   866.00\n",
       "3   31  9412.93"
      ]
     },
     "execution_count": 47,
     "metadata": {},
     "output_type": "execute_result"
    }
   ],
   "source": [
    "train_df.select_dtypes(exclude='object')"
   ]
  },
  {
   "cell_type": "markdown",
   "id": "65c3c262-9946-4502-a733-b7127dc17e89",
   "metadata": {},
   "source": [
    "**7. Convert string to numbers**"
   ]
  },
  {
   "cell_type": "code",
   "execution_count": 55,
   "id": "950d56a5-2771-496b-b3bd-115f30508eff",
   "metadata": {},
   "outputs": [],
   "source": [
    "train_df['fav_number'] = ['7','25','51','88']\n",
    "train_df['bad_number'] = ['51', '22','67','t']"
   ]
  },
  {
   "cell_type": "code",
   "execution_count": 56,
   "id": "93a5b530-d394-4f76-93dc-ab386db729a0",
   "metadata": {},
   "outputs": [
    {
     "data": {
      "text/plain": [
       "name           object\n",
       "age             int64\n",
       "payment       float64\n",
       "fav_number     object\n",
       "bad_number     object\n",
       "dtype: object"
      ]
     },
     "execution_count": 56,
     "metadata": {},
     "output_type": "execute_result"
    }
   ],
   "source": [
    "train_df.dtypes #fav_number is object (string)"
   ]
  },
  {
   "cell_type": "code",
   "execution_count": 69,
   "id": "c20cfe21-3588-4ffe-a8d2-c65349cdb88c",
   "metadata": {},
   "outputs": [],
   "source": [
    "train_df = train_df.astype({'fav_number':'int'}) # cast pandas object to specific dtype, prone to errors"
   ]
  },
  {
   "cell_type": "code",
   "execution_count": 70,
   "id": "7059cd57-7e6f-4403-83ea-9983dd093079",
   "metadata": {},
   "outputs": [
    {
     "data": {
      "text/plain": [
       "name           object\n",
       "age             int64\n",
       "payment       float64\n",
       "fav_number      int32\n",
       "bad_number     object\n",
       "dtype: object"
      ]
     },
     "execution_count": 70,
     "metadata": {},
     "output_type": "execute_result"
    }
   ],
   "source": [
    "train_df.dtypes"
   ]
  },
  {
   "cell_type": "code",
   "execution_count": 73,
   "id": "f1a9c516-7ce8-41bf-883a-788149558a41",
   "metadata": {},
   "outputs": [],
   "source": [
    "#train_df.astype({'bad_number':'int'}) # error because pandas does not know how to handle not \"numeric\" strings"
   ]
  },
  {
   "cell_type": "code",
   "execution_count": 77,
   "id": "5549af8c-04ca-4e90-b008-6280e6825956",
   "metadata": {},
   "outputs": [
    {
     "data": {
      "text/plain": [
       "0    51.0\n",
       "1    22.0\n",
       "2    67.0\n",
       "3     NaN\n",
       "Name: bad_number, dtype: float64"
      ]
     },
     "execution_count": 77,
     "metadata": {},
     "output_type": "execute_result"
    }
   ],
   "source": [
    "pd.to_numeric(train_df.bad_number, errors='coerce') # tell pandas to handle these string and set them to NaN"
   ]
  },
  {
   "cell_type": "markdown",
   "id": "fa63e3c2-3eb0-43d4-a9b7-b1671af8f8d4",
   "metadata": {},
   "source": [
    "**8. Reduce DataFrame size**"
   ]
  },
  {
   "cell_type": "code",
   "execution_count": 78,
   "id": "9581ecbe-693e-4910-819d-60777fed629d",
   "metadata": {},
   "outputs": [],
   "source": [
    "drinks = pd.read_csv('http://bit.ly/drinksbycountry')"
   ]
  },
  {
   "cell_type": "code",
   "execution_count": 81,
   "id": "9599995b-8b8b-4d7e-b0f0-f96e64b7d73b",
   "metadata": {},
   "outputs": [
    {
     "name": "stdout",
     "output_type": "stream",
     "text": [
      "<class 'pandas.core.frame.DataFrame'>\n",
      "RangeIndex: 193 entries, 0 to 192\n",
      "Data columns (total 6 columns):\n",
      " #   Column                        Non-Null Count  Dtype  \n",
      "---  ------                        --------------  -----  \n",
      " 0   country                       193 non-null    object \n",
      " 1   beer_servings                 193 non-null    int64  \n",
      " 2   spirit_servings               193 non-null    int64  \n",
      " 3   wine_servings                 193 non-null    int64  \n",
      " 4   total_litres_of_pure_alcohol  193 non-null    float64\n",
      " 5   continent                     193 non-null    object \n",
      "dtypes: float64(1), int64(3), object(2)\n",
      "memory usage: 30.5 KB\n"
     ]
    }
   ],
   "source": [
    "drinks.info(memory_usage='deep') # 30.5 KB "
   ]
  },
  {
   "cell_type": "code",
   "execution_count": 83,
   "id": "7dee341f-e338-46a7-99ff-27c2463da8a8",
   "metadata": {},
   "outputs": [],
   "source": [
    "cols_we_need = ['beer_servings', 'continent']\n",
    "s_drinks = pd.read_csv('http://bit.ly/drinksbycountry', usecols=cols_we_need)"
   ]
  },
  {
   "cell_type": "code",
   "execution_count": 87,
   "id": "3b77c36b-9906-4762-921d-724c1495428d",
   "metadata": {},
   "outputs": [
    {
     "name": "stdout",
     "output_type": "stream",
     "text": [
      "<class 'pandas.core.frame.DataFrame'>\n",
      "RangeIndex: 193 entries, 0 to 192\n",
      "Data columns (total 2 columns):\n",
      " #   Column         Non-Null Count  Dtype \n",
      "---  ------         --------------  ----- \n",
      " 0   beer_servings  193 non-null    int64 \n",
      " 1   continent      193 non-null    object\n",
      "dtypes: int64(1), object(1)\n",
      "memory usage: 13.7 KB\n"
     ]
    }
   ],
   "source": [
    "s_drinks.info(memory_usage='deep') # 13.7 KB, the point is to use only the columns that we actually need to do\n",
    "# certain operations on"
   ]
  },
  {
   "cell_type": "code",
   "execution_count": 90,
   "id": "b6a0b72f-ebac-40ea-9955-e443cbffc153",
   "metadata": {},
   "outputs": [
    {
     "name": "stdout",
     "output_type": "stream",
     "text": [
      "<class 'pandas.core.frame.DataFrame'>\n",
      "RangeIndex: 193 entries, 0 to 192\n",
      "Data columns (total 2 columns):\n",
      " #   Column         Non-Null Count  Dtype   \n",
      "---  ------         --------------  -----   \n",
      " 0   beer_servings  193 non-null    int64   \n",
      " 1   continent      193 non-null    category\n",
      "dtypes: category(1), int64(1)\n",
      "memory usage: 2.4 KB\n"
     ]
    }
   ],
   "source": [
    "dtypes = {'continent':'category'}\n",
    "s_drinks = pd.read_csv('http://bit.ly/drinksbycountry', usecols=cols_we_need, dtype=dtypes)\n",
    "s_drinks.info(memory_usage='deep') # 2.4 KB not only columns that we need but also try to change object-type data to categorical\n",
    "# only if there are not many different values (for example not many countries to choose from)"
   ]
  },
  {
   "cell_type": "markdown",
   "id": "fe411a36-9ce1-4a71-b713-253b361c15da",
   "metadata": {},
   "source": [
    "**9. Build a DataFrame from multiple files (row-wise)**"
   ]
  },
  {
   "cell_type": "code",
   "execution_count": 91,
   "id": "bb5bd938-1baf-4808-a1c2-e8f3a7fc81d1",
   "metadata": {},
   "outputs": [],
   "source": [
    "from glob import glob # glob help us to take all filenames that match pattern from specified path. "
   ]
  },
  {
   "cell_type": "code",
   "execution_count": 92,
   "id": "de37c79e-9b31-470c-a2eb-0c4958d8efe9",
   "metadata": {},
   "outputs": [],
   "source": [
    "files = sorted(glob('./data_2/concat_*')) # we have to sort the files "
   ]
  },
  {
   "cell_type": "code",
   "execution_count": 99,
   "id": "a1ae1a88-efd3-44b0-9759-f02dffa0e021",
   "metadata": {},
   "outputs": [],
   "source": [
    "df = pd.concat((pd.read_csv(file) for file in files), ignore_index=True) # concat can take mapping and iterable so\n",
    "# we take an adventage of that, we pass ignore_index = True to make sure that index numering starts and ends in normal way."
   ]
  },
  {
   "cell_type": "code",
   "execution_count": 100,
   "id": "de3c04ee-efad-4668-9193-03ab3371a026",
   "metadata": {},
   "outputs": [
    {
     "data": {
      "text/html": [
       "<div>\n",
       "<style scoped>\n",
       "    .dataframe tbody tr th:only-of-type {\n",
       "        vertical-align: middle;\n",
       "    }\n",
       "\n",
       "    .dataframe tbody tr th {\n",
       "        vertical-align: top;\n",
       "    }\n",
       "\n",
       "    .dataframe thead th {\n",
       "        text-align: right;\n",
       "    }\n",
       "</style>\n",
       "<table border=\"1\" class=\"dataframe\">\n",
       "  <thead>\n",
       "    <tr style=\"text-align: right;\">\n",
       "      <th></th>\n",
       "      <th>A</th>\n",
       "      <th>B</th>\n",
       "      <th>C</th>\n",
       "      <th>D</th>\n",
       "    </tr>\n",
       "  </thead>\n",
       "  <tbody>\n",
       "    <tr>\n",
       "      <th>0</th>\n",
       "      <td>a0</td>\n",
       "      <td>b0</td>\n",
       "      <td>c0</td>\n",
       "      <td>d0</td>\n",
       "    </tr>\n",
       "    <tr>\n",
       "      <th>1</th>\n",
       "      <td>a1</td>\n",
       "      <td>b1</td>\n",
       "      <td>c1</td>\n",
       "      <td>d1</td>\n",
       "    </tr>\n",
       "    <tr>\n",
       "      <th>2</th>\n",
       "      <td>a2</td>\n",
       "      <td>b2</td>\n",
       "      <td>c2</td>\n",
       "      <td>d2</td>\n",
       "    </tr>\n",
       "    <tr>\n",
       "      <th>3</th>\n",
       "      <td>a3</td>\n",
       "      <td>b3</td>\n",
       "      <td>c3</td>\n",
       "      <td>d3</td>\n",
       "    </tr>\n",
       "    <tr>\n",
       "      <th>4</th>\n",
       "      <td>a4</td>\n",
       "      <td>b4</td>\n",
       "      <td>c4</td>\n",
       "      <td>d4</td>\n",
       "    </tr>\n",
       "    <tr>\n",
       "      <th>5</th>\n",
       "      <td>a5</td>\n",
       "      <td>b5</td>\n",
       "      <td>c5</td>\n",
       "      <td>d5</td>\n",
       "    </tr>\n",
       "    <tr>\n",
       "      <th>6</th>\n",
       "      <td>a6</td>\n",
       "      <td>b6</td>\n",
       "      <td>c6</td>\n",
       "      <td>d6</td>\n",
       "    </tr>\n",
       "    <tr>\n",
       "      <th>7</th>\n",
       "      <td>a7</td>\n",
       "      <td>b7</td>\n",
       "      <td>c7</td>\n",
       "      <td>d7</td>\n",
       "    </tr>\n",
       "    <tr>\n",
       "      <th>8</th>\n",
       "      <td>a8</td>\n",
       "      <td>b8</td>\n",
       "      <td>c8</td>\n",
       "      <td>d8</td>\n",
       "    </tr>\n",
       "    <tr>\n",
       "      <th>9</th>\n",
       "      <td>a9</td>\n",
       "      <td>b9</td>\n",
       "      <td>c9</td>\n",
       "      <td>d9</td>\n",
       "    </tr>\n",
       "    <tr>\n",
       "      <th>10</th>\n",
       "      <td>a10</td>\n",
       "      <td>b10</td>\n",
       "      <td>c10</td>\n",
       "      <td>d10</td>\n",
       "    </tr>\n",
       "    <tr>\n",
       "      <th>11</th>\n",
       "      <td>a11</td>\n",
       "      <td>b11</td>\n",
       "      <td>c11</td>\n",
       "      <td>d11</td>\n",
       "    </tr>\n",
       "  </tbody>\n",
       "</table>\n",
       "</div>"
      ],
      "text/plain": [
       "      A    B    C    D\n",
       "0    a0   b0   c0   d0\n",
       "1    a1   b1   c1   d1\n",
       "2    a2   b2   c2   d2\n",
       "3    a3   b3   c3   d3\n",
       "4    a4   b4   c4   d4\n",
       "5    a5   b5   c5   d5\n",
       "6    a6   b6   c6   d6\n",
       "7    a7   b7   c7   d7\n",
       "8    a8   b8   c8   d8\n",
       "9    a9   b9   c9   d9\n",
       "10  a10  b10  c10  d10\n",
       "11  a11  b11  c11  d11"
      ]
     },
     "execution_count": 100,
     "metadata": {},
     "output_type": "execute_result"
    }
   ],
   "source": [
    "df"
   ]
  },
  {
   "cell_type": "markdown",
   "id": "f14f5890-2c98-471d-a17e-b0a314439f93",
   "metadata": {},
   "source": [
    "**10. Build a DataFrame from multiple files (column-wise)**"
   ]
  },
  {
   "cell_type": "markdown",
   "id": "91858892-47b9-4b2d-ad24-c26e39779881",
   "metadata": {},
   "source": [
    "If a data set has been split into two or more files (first file has some columns, the second some and so on...) we can use this trick to concate them into single data frame column wise."
   ]
  },
  {
   "cell_type": "code",
   "execution_count": 101,
   "id": "c41a79c1-ad84-46dd-8b8e-358655c48730",
   "metadata": {},
   "outputs": [],
   "source": [
    "# pd.concat((pd.read_csv(file) for file in files), axis='columns') The diffrence ist hat we specify columns and we\n",
    "# do not care about index."
   ]
  },
  {
   "cell_type": "markdown",
   "id": "3dde4d38-0cbe-4eef-8043-c34896ab5dc9",
   "metadata": {},
   "source": [
    "**11. Create a DataFrame from the clipboard**"
   ]
  },
  {
   "cell_type": "code",
   "execution_count": 108,
   "id": "7db590ec-69b9-4912-a535-cad7a0b8f99d",
   "metadata": {},
   "outputs": [],
   "source": [
    "df = pd.read_clipboard() # u have to copy from for example excel, select table, ctrl + c and you can use this function\n",
    "# to paste it as a dataframe, wtf magic\n",
    "# pandas can recognize patterns, by that i mean as long as the table in excel look like a data frame."
   ]
  },
  {
   "cell_type": "code",
   "execution_count": 105,
   "id": "4a29fc1e-8b88-4584-896a-9767d2d7b8de",
   "metadata": {},
   "outputs": [
    {
     "data": {
      "text/html": [
       "<div>\n",
       "<style scoped>\n",
       "    .dataframe tbody tr th:only-of-type {\n",
       "        vertical-align: middle;\n",
       "    }\n",
       "\n",
       "    .dataframe tbody tr th {\n",
       "        vertical-align: top;\n",
       "    }\n",
       "\n",
       "    .dataframe thead th {\n",
       "        text-align: right;\n",
       "    }\n",
       "</style>\n",
       "<table border=\"1\" class=\"dataframe\">\n",
       "  <thead>\n",
       "    <tr style=\"text-align: right;\">\n",
       "      <th></th>\n",
       "      <th>A</th>\n",
       "      <th>B</th>\n",
       "      <th>C</th>\n",
       "    </tr>\n",
       "  </thead>\n",
       "  <tbody>\n",
       "    <tr>\n",
       "      <th>0</th>\n",
       "      <td>10</td>\n",
       "      <td>20</td>\n",
       "      <td>30</td>\n",
       "    </tr>\n",
       "    <tr>\n",
       "      <th>1</th>\n",
       "      <td>25</td>\n",
       "      <td>35</td>\n",
       "      <td>45</td>\n",
       "    </tr>\n",
       "    <tr>\n",
       "      <th>2</th>\n",
       "      <td>55</td>\n",
       "      <td>100</td>\n",
       "      <td>145</td>\n",
       "    </tr>\n",
       "  </tbody>\n",
       "</table>\n",
       "</div>"
      ],
      "text/plain": [
       "    A    B    C\n",
       "0  10   20   30\n",
       "1  25   35   45\n",
       "2  55  100  145"
      ]
     },
     "execution_count": 105,
     "metadata": {},
     "output_type": "execute_result"
    }
   ],
   "source": [
    "df"
   ]
  },
  {
   "cell_type": "code",
   "execution_count": 106,
   "id": "04c498af-dfc3-460f-a462-edbb178583ad",
   "metadata": {},
   "outputs": [
    {
     "data": {
      "text/plain": [
       "A    int64\n",
       "B    int64\n",
       "C    int64\n",
       "dtype: object"
      ]
     },
     "execution_count": 106,
     "metadata": {},
     "output_type": "execute_result"
    }
   ],
   "source": [
    "df.dtypes"
   ]
  },
  {
   "cell_type": "markdown",
   "id": "ff8123b2-9284-4e9c-af54-33ba8fe6e7ae",
   "metadata": {},
   "source": [
    "**12. Split a DataFrame into two random subsets**"
   ]
  },
  {
   "cell_type": "code",
   "execution_count": null,
   "id": "895c349b-fef0-4578-ba0e-b79b087c778e",
   "metadata": {},
   "outputs": [],
   "source": []
  }
 ],
 "metadata": {
  "kernelspec": {
   "display_name": "Python 3 (ipykernel)",
   "language": "python",
   "name": "python3"
  },
  "language_info": {
   "codemirror_mode": {
    "name": "ipython",
    "version": 3
   },
   "file_extension": ".py",
   "mimetype": "text/x-python",
   "name": "python",
   "nbconvert_exporter": "python",
   "pygments_lexer": "ipython3",
   "version": "3.10.0"
  }
 },
 "nbformat": 4,
 "nbformat_minor": 5
}
