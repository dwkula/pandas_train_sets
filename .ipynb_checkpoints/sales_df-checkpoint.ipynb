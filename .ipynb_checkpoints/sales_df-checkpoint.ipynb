{
 "cells": [
  {
   "cell_type": "markdown",
   "id": "29e66c75",
   "metadata": {},
   "source": [
    "### Imports\n"
   ]
  },
  {
   "cell_type": "code",
   "execution_count": 125,
   "id": "51db2023-34e5-47fb-9ac8-7942319db6b5",
   "metadata": {},
   "outputs": [],
   "source": [
    "import pandas as pd\n",
    "import numpy as np\n",
    "import matplotlib.pyplot as plt\n",
    "%matplotlib inline\n",
    "import os\n",
    "import seaborn as sns\n",
    "import re\n",
    "import datetime as dtime\n",
    "import calendar as cal"
   ]
  },
  {
   "cell_type": "markdown",
   "id": "397155a6",
   "metadata": {},
   "source": [
    "### Preparing DataFrame"
   ]
  },
  {
   "cell_type": "code",
   "execution_count": 126,
   "id": "aa09d570",
   "metadata": {},
   "outputs": [],
   "source": [
    "sales_df = pd.DataFrame()"
   ]
  },
  {
   "cell_type": "code",
   "execution_count": 127,
   "id": "2b804615",
   "metadata": {},
   "outputs": [],
   "source": [
    "for filename in os.listdir('./data'):\n",
    "    monthly_data = pd.read_csv(f'./data/{filename}')\n",
    "    sales_df = pd.concat([sales_df, monthly_data])"
   ]
  },
  {
   "cell_type": "markdown",
   "id": "c9593207",
   "metadata": {},
   "source": [
    "### Getting to know data"
   ]
  },
  {
   "cell_type": "code",
   "execution_count": 128,
   "id": "900b8cdd",
   "metadata": {},
   "outputs": [
    {
     "name": "stdout",
     "output_type": "stream",
     "text": [
      "<class 'pandas.core.frame.DataFrame'>\n",
      "Int64Index: 186850 entries, 0 to 11685\n",
      "Data columns (total 6 columns):\n",
      " #   Column            Non-Null Count   Dtype \n",
      "---  ------            --------------   ----- \n",
      " 0   Order ID          186305 non-null  object\n",
      " 1   Product           186305 non-null  object\n",
      " 2   Quantity Ordered  186305 non-null  object\n",
      " 3   Price Each        186305 non-null  object\n",
      " 4   Order Date        186305 non-null  object\n",
      " 5   Purchase Address  186305 non-null  object\n",
      "dtypes: object(6)\n",
      "memory usage: 10.0+ MB\n"
     ]
    }
   ],
   "source": [
    "sales_df.info()"
   ]
  },
  {
   "cell_type": "code",
   "execution_count": 129,
   "id": "ce79220b",
   "metadata": {},
   "outputs": [
    {
     "data": {
      "text/html": [
       "<div>\n",
       "<style scoped>\n",
       "    .dataframe tbody tr th:only-of-type {\n",
       "        vertical-align: middle;\n",
       "    }\n",
       "\n",
       "    .dataframe tbody tr th {\n",
       "        vertical-align: top;\n",
       "    }\n",
       "\n",
       "    .dataframe thead th {\n",
       "        text-align: right;\n",
       "    }\n",
       "</style>\n",
       "<table border=\"1\" class=\"dataframe\">\n",
       "  <thead>\n",
       "    <tr style=\"text-align: right;\">\n",
       "      <th></th>\n",
       "      <th>Order ID</th>\n",
       "      <th>Product</th>\n",
       "      <th>Quantity Ordered</th>\n",
       "      <th>Price Each</th>\n",
       "      <th>Order Date</th>\n",
       "      <th>Purchase Address</th>\n",
       "    </tr>\n",
       "  </thead>\n",
       "  <tbody>\n",
       "    <tr>\n",
       "      <th>0</th>\n",
       "      <td>176558</td>\n",
       "      <td>USB-C Charging Cable</td>\n",
       "      <td>2</td>\n",
       "      <td>11.95</td>\n",
       "      <td>04/19/19 08:46</td>\n",
       "      <td>917 1st St, Dallas, TX 75001</td>\n",
       "    </tr>\n",
       "    <tr>\n",
       "      <th>1</th>\n",
       "      <td>NaN</td>\n",
       "      <td>NaN</td>\n",
       "      <td>NaN</td>\n",
       "      <td>NaN</td>\n",
       "      <td>NaN</td>\n",
       "      <td>NaN</td>\n",
       "    </tr>\n",
       "    <tr>\n",
       "      <th>2</th>\n",
       "      <td>176559</td>\n",
       "      <td>Bose SoundSport Headphones</td>\n",
       "      <td>1</td>\n",
       "      <td>99.99</td>\n",
       "      <td>04/07/19 22:30</td>\n",
       "      <td>682 Chestnut St, Boston, MA 02215</td>\n",
       "    </tr>\n",
       "    <tr>\n",
       "      <th>3</th>\n",
       "      <td>176560</td>\n",
       "      <td>Google Phone</td>\n",
       "      <td>1</td>\n",
       "      <td>600</td>\n",
       "      <td>04/12/19 14:38</td>\n",
       "      <td>669 Spruce St, Los Angeles, CA 90001</td>\n",
       "    </tr>\n",
       "    <tr>\n",
       "      <th>4</th>\n",
       "      <td>176560</td>\n",
       "      <td>Wired Headphones</td>\n",
       "      <td>1</td>\n",
       "      <td>11.99</td>\n",
       "      <td>04/12/19 14:38</td>\n",
       "      <td>669 Spruce St, Los Angeles, CA 90001</td>\n",
       "    </tr>\n",
       "    <tr>\n",
       "      <th>...</th>\n",
       "      <td>...</td>\n",
       "      <td>...</td>\n",
       "      <td>...</td>\n",
       "      <td>...</td>\n",
       "      <td>...</td>\n",
       "      <td>...</td>\n",
       "    </tr>\n",
       "    <tr>\n",
       "      <th>11681</th>\n",
       "      <td>259353</td>\n",
       "      <td>AAA Batteries (4-pack)</td>\n",
       "      <td>3</td>\n",
       "      <td>2.99</td>\n",
       "      <td>09/17/19 20:56</td>\n",
       "      <td>840 Highland St, Los Angeles, CA 90001</td>\n",
       "    </tr>\n",
       "    <tr>\n",
       "      <th>11682</th>\n",
       "      <td>259354</td>\n",
       "      <td>iPhone</td>\n",
       "      <td>1</td>\n",
       "      <td>700</td>\n",
       "      <td>09/01/19 16:00</td>\n",
       "      <td>216 Dogwood St, San Francisco, CA 94016</td>\n",
       "    </tr>\n",
       "    <tr>\n",
       "      <th>11683</th>\n",
       "      <td>259355</td>\n",
       "      <td>iPhone</td>\n",
       "      <td>1</td>\n",
       "      <td>700</td>\n",
       "      <td>09/23/19 07:39</td>\n",
       "      <td>220 12th St, San Francisco, CA 94016</td>\n",
       "    </tr>\n",
       "    <tr>\n",
       "      <th>11684</th>\n",
       "      <td>259356</td>\n",
       "      <td>34in Ultrawide Monitor</td>\n",
       "      <td>1</td>\n",
       "      <td>379.99</td>\n",
       "      <td>09/19/19 17:30</td>\n",
       "      <td>511 Forest St, San Francisco, CA 94016</td>\n",
       "    </tr>\n",
       "    <tr>\n",
       "      <th>11685</th>\n",
       "      <td>259357</td>\n",
       "      <td>USB-C Charging Cable</td>\n",
       "      <td>1</td>\n",
       "      <td>11.95</td>\n",
       "      <td>09/30/19 00:18</td>\n",
       "      <td>250 Meadow St, San Francisco, CA 94016</td>\n",
       "    </tr>\n",
       "  </tbody>\n",
       "</table>\n",
       "<p>186850 rows × 6 columns</p>\n",
       "</div>"
      ],
      "text/plain": [
       "      Order ID                     Product Quantity Ordered Price Each  \\\n",
       "0       176558        USB-C Charging Cable                2      11.95   \n",
       "1          NaN                         NaN              NaN        NaN   \n",
       "2       176559  Bose SoundSport Headphones                1      99.99   \n",
       "3       176560                Google Phone                1        600   \n",
       "4       176560            Wired Headphones                1      11.99   \n",
       "...        ...                         ...              ...        ...   \n",
       "11681   259353      AAA Batteries (4-pack)                3       2.99   \n",
       "11682   259354                      iPhone                1        700   \n",
       "11683   259355                      iPhone                1        700   \n",
       "11684   259356      34in Ultrawide Monitor                1     379.99   \n",
       "11685   259357        USB-C Charging Cable                1      11.95   \n",
       "\n",
       "           Order Date                         Purchase Address  \n",
       "0      04/19/19 08:46             917 1st St, Dallas, TX 75001  \n",
       "1                 NaN                                      NaN  \n",
       "2      04/07/19 22:30        682 Chestnut St, Boston, MA 02215  \n",
       "3      04/12/19 14:38     669 Spruce St, Los Angeles, CA 90001  \n",
       "4      04/12/19 14:38     669 Spruce St, Los Angeles, CA 90001  \n",
       "...               ...                                      ...  \n",
       "11681  09/17/19 20:56   840 Highland St, Los Angeles, CA 90001  \n",
       "11682  09/01/19 16:00  216 Dogwood St, San Francisco, CA 94016  \n",
       "11683  09/23/19 07:39     220 12th St, San Francisco, CA 94016  \n",
       "11684  09/19/19 17:30   511 Forest St, San Francisco, CA 94016  \n",
       "11685  09/30/19 00:18   250 Meadow St, San Francisco, CA 94016  \n",
       "\n",
       "[186850 rows x 6 columns]"
      ]
     },
     "execution_count": 129,
     "metadata": {},
     "output_type": "execute_result"
    }
   ],
   "source": [
    "sales_df"
   ]
  },
  {
   "cell_type": "code",
   "execution_count": 130,
   "id": "52496123",
   "metadata": {},
   "outputs": [
    {
     "data": {
      "text/html": [
       "<div>\n",
       "<style scoped>\n",
       "    .dataframe tbody tr th:only-of-type {\n",
       "        vertical-align: middle;\n",
       "    }\n",
       "\n",
       "    .dataframe tbody tr th {\n",
       "        vertical-align: top;\n",
       "    }\n",
       "\n",
       "    .dataframe thead th {\n",
       "        text-align: right;\n",
       "    }\n",
       "</style>\n",
       "<table border=\"1\" class=\"dataframe\">\n",
       "  <thead>\n",
       "    <tr style=\"text-align: right;\">\n",
       "      <th></th>\n",
       "      <th>Order ID</th>\n",
       "      <th>Product</th>\n",
       "      <th>Quantity Ordered</th>\n",
       "      <th>Price Each</th>\n",
       "      <th>Order Date</th>\n",
       "      <th>Purchase Address</th>\n",
       "    </tr>\n",
       "  </thead>\n",
       "  <tbody>\n",
       "    <tr>\n",
       "      <th>count</th>\n",
       "      <td>186305</td>\n",
       "      <td>186305</td>\n",
       "      <td>186305</td>\n",
       "      <td>186305</td>\n",
       "      <td>186305</td>\n",
       "      <td>186305</td>\n",
       "    </tr>\n",
       "    <tr>\n",
       "      <th>unique</th>\n",
       "      <td>178438</td>\n",
       "      <td>20</td>\n",
       "      <td>10</td>\n",
       "      <td>24</td>\n",
       "      <td>142396</td>\n",
       "      <td>140788</td>\n",
       "    </tr>\n",
       "    <tr>\n",
       "      <th>top</th>\n",
       "      <td>Order ID</td>\n",
       "      <td>USB-C Charging Cable</td>\n",
       "      <td>1</td>\n",
       "      <td>11.95</td>\n",
       "      <td>Order Date</td>\n",
       "      <td>Purchase Address</td>\n",
       "    </tr>\n",
       "    <tr>\n",
       "      <th>freq</th>\n",
       "      <td>355</td>\n",
       "      <td>21903</td>\n",
       "      <td>168552</td>\n",
       "      <td>21903</td>\n",
       "      <td>355</td>\n",
       "      <td>355</td>\n",
       "    </tr>\n",
       "  </tbody>\n",
       "</table>\n",
       "</div>"
      ],
      "text/plain": [
       "        Order ID               Product Quantity Ordered Price Each  \\\n",
       "count     186305                186305           186305     186305   \n",
       "unique    178438                    20               10         24   \n",
       "top     Order ID  USB-C Charging Cable                1      11.95   \n",
       "freq         355                 21903           168552      21903   \n",
       "\n",
       "        Order Date  Purchase Address  \n",
       "count       186305            186305  \n",
       "unique      142396            140788  \n",
       "top     Order Date  Purchase Address  \n",
       "freq           355               355  "
      ]
     },
     "execution_count": 130,
     "metadata": {},
     "output_type": "execute_result"
    }
   ],
   "source": [
    "sales_df.describe() # no nums "
   ]
  },
  {
   "cell_type": "markdown",
   "id": "682e94b4",
   "metadata": {},
   "source": [
    "## First workarounds and data cleaning"
   ]
  },
  {
   "cell_type": "code",
   "execution_count": 131,
   "id": "54d5b01a",
   "metadata": {},
   "outputs": [],
   "source": [
    "sales_df.dropna(inplace=True)"
   ]
  },
  {
   "cell_type": "code",
   "execution_count": 132,
   "id": "11f30815",
   "metadata": {},
   "outputs": [],
   "source": [
    "sales_df.set_index(sales_df['Order ID'], inplace=True)"
   ]
  },
  {
   "cell_type": "code",
   "execution_count": 133,
   "id": "6f2d200a",
   "metadata": {},
   "outputs": [],
   "source": [
    "sales_df = sales_df.drop(columns=['Order ID'])"
   ]
  },
  {
   "cell_type": "markdown",
   "id": "f15d7381",
   "metadata": {},
   "source": [
    "Checking if we can easily convert order date column with to_datetime function. Checking if all of the data in date column has the same pattern and not some dummy non-date like data."
   ]
  },
  {
   "cell_type": "code",
   "execution_count": 134,
   "id": "564f6e36",
   "metadata": {},
   "outputs": [
    {
     "data": {
      "text/html": [
       "<div>\n",
       "<style scoped>\n",
       "    .dataframe tbody tr th:only-of-type {\n",
       "        vertical-align: middle;\n",
       "    }\n",
       "\n",
       "    .dataframe tbody tr th {\n",
       "        vertical-align: top;\n",
       "    }\n",
       "\n",
       "    .dataframe thead th {\n",
       "        text-align: right;\n",
       "    }\n",
       "</style>\n",
       "<table border=\"1\" class=\"dataframe\">\n",
       "  <thead>\n",
       "    <tr style=\"text-align: right;\">\n",
       "      <th></th>\n",
       "      <th>Product</th>\n",
       "      <th>Quantity Ordered</th>\n",
       "      <th>Price Each</th>\n",
       "      <th>Order Date</th>\n",
       "      <th>Purchase Address</th>\n",
       "    </tr>\n",
       "    <tr>\n",
       "      <th>Order ID</th>\n",
       "      <th></th>\n",
       "      <th></th>\n",
       "      <th></th>\n",
       "      <th></th>\n",
       "      <th></th>\n",
       "    </tr>\n",
       "  </thead>\n",
       "  <tbody>\n",
       "    <tr>\n",
       "      <th>Order ID</th>\n",
       "      <td>Product</td>\n",
       "      <td>Quantity Ordered</td>\n",
       "      <td>Price Each</td>\n",
       "      <td>Order Date</td>\n",
       "      <td>Purchase Address</td>\n",
       "    </tr>\n",
       "    <tr>\n",
       "      <th>Order ID</th>\n",
       "      <td>Product</td>\n",
       "      <td>Quantity Ordered</td>\n",
       "      <td>Price Each</td>\n",
       "      <td>Order Date</td>\n",
       "      <td>Purchase Address</td>\n",
       "    </tr>\n",
       "    <tr>\n",
       "      <th>Order ID</th>\n",
       "      <td>Product</td>\n",
       "      <td>Quantity Ordered</td>\n",
       "      <td>Price Each</td>\n",
       "      <td>Order Date</td>\n",
       "      <td>Purchase Address</td>\n",
       "    </tr>\n",
       "    <tr>\n",
       "      <th>Order ID</th>\n",
       "      <td>Product</td>\n",
       "      <td>Quantity Ordered</td>\n",
       "      <td>Price Each</td>\n",
       "      <td>Order Date</td>\n",
       "      <td>Purchase Address</td>\n",
       "    </tr>\n",
       "    <tr>\n",
       "      <th>Order ID</th>\n",
       "      <td>Product</td>\n",
       "      <td>Quantity Ordered</td>\n",
       "      <td>Price Each</td>\n",
       "      <td>Order Date</td>\n",
       "      <td>Purchase Address</td>\n",
       "    </tr>\n",
       "    <tr>\n",
       "      <th>...</th>\n",
       "      <td>...</td>\n",
       "      <td>...</td>\n",
       "      <td>...</td>\n",
       "      <td>...</td>\n",
       "      <td>...</td>\n",
       "    </tr>\n",
       "    <tr>\n",
       "      <th>Order ID</th>\n",
       "      <td>Product</td>\n",
       "      <td>Quantity Ordered</td>\n",
       "      <td>Price Each</td>\n",
       "      <td>Order Date</td>\n",
       "      <td>Purchase Address</td>\n",
       "    </tr>\n",
       "    <tr>\n",
       "      <th>Order ID</th>\n",
       "      <td>Product</td>\n",
       "      <td>Quantity Ordered</td>\n",
       "      <td>Price Each</td>\n",
       "      <td>Order Date</td>\n",
       "      <td>Purchase Address</td>\n",
       "    </tr>\n",
       "    <tr>\n",
       "      <th>Order ID</th>\n",
       "      <td>Product</td>\n",
       "      <td>Quantity Ordered</td>\n",
       "      <td>Price Each</td>\n",
       "      <td>Order Date</td>\n",
       "      <td>Purchase Address</td>\n",
       "    </tr>\n",
       "    <tr>\n",
       "      <th>Order ID</th>\n",
       "      <td>Product</td>\n",
       "      <td>Quantity Ordered</td>\n",
       "      <td>Price Each</td>\n",
       "      <td>Order Date</td>\n",
       "      <td>Purchase Address</td>\n",
       "    </tr>\n",
       "    <tr>\n",
       "      <th>Order ID</th>\n",
       "      <td>Product</td>\n",
       "      <td>Quantity Ordered</td>\n",
       "      <td>Price Each</td>\n",
       "      <td>Order Date</td>\n",
       "      <td>Purchase Address</td>\n",
       "    </tr>\n",
       "  </tbody>\n",
       "</table>\n",
       "<p>355 rows × 5 columns</p>\n",
       "</div>"
      ],
      "text/plain": [
       "          Product  Quantity Ordered  Price Each  Order Date  Purchase Address\n",
       "Order ID                                                                     \n",
       "Order ID  Product  Quantity Ordered  Price Each  Order Date  Purchase Address\n",
       "Order ID  Product  Quantity Ordered  Price Each  Order Date  Purchase Address\n",
       "Order ID  Product  Quantity Ordered  Price Each  Order Date  Purchase Address\n",
       "Order ID  Product  Quantity Ordered  Price Each  Order Date  Purchase Address\n",
       "Order ID  Product  Quantity Ordered  Price Each  Order Date  Purchase Address\n",
       "...           ...               ...         ...         ...               ...\n",
       "Order ID  Product  Quantity Ordered  Price Each  Order Date  Purchase Address\n",
       "Order ID  Product  Quantity Ordered  Price Each  Order Date  Purchase Address\n",
       "Order ID  Product  Quantity Ordered  Price Each  Order Date  Purchase Address\n",
       "Order ID  Product  Quantity Ordered  Price Each  Order Date  Purchase Address\n",
       "Order ID  Product  Quantity Ordered  Price Each  Order Date  Purchase Address\n",
       "\n",
       "[355 rows x 5 columns]"
      ]
     },
     "execution_count": 134,
     "metadata": {},
     "output_type": "execute_result"
    }
   ],
   "source": [
    "sales_df[~sales_df['Order Date'].str.contains('[0-9]{2}/[0-9]{2}/[0-9]{2}\\s[0-9]{2}:[0-9]{2}', regex=True)]"
   ]
  },
  {
   "cell_type": "code",
   "execution_count": 135,
   "id": "60a60e1d",
   "metadata": {},
   "outputs": [],
   "source": [
    "sales_df.drop_duplicates(inplace=True) # remove dups"
   ]
  },
  {
   "cell_type": "code",
   "execution_count": 136,
   "id": "045c61cb",
   "metadata": {},
   "outputs": [],
   "source": [
    "sales_df.drop(index='Order ID', inplace=True) # remove the remaining non-date like row"
   ]
  },
  {
   "cell_type": "code",
   "execution_count": 137,
   "id": "45d64822",
   "metadata": {},
   "outputs": [],
   "source": [
    "sales_df['Order Date'] = pd.to_datetime(sales_df['Order Date']) # now we safely convert everything to datetime object"
   ]
  },
  {
   "cell_type": "markdown",
   "id": "1feb4231",
   "metadata": {},
   "source": [
    "Adding some additional columns to make our life easier when dealing with date."
   ]
  },
  {
   "cell_type": "code",
   "execution_count": 138,
   "id": "571bb989",
   "metadata": {},
   "outputs": [],
   "source": [
    "sales_df['Month'] = pd.DatetimeIndex(sales_df['Order Date']).month\n",
    "sales_df['Day'] = pd.DatetimeIndex(sales_df['Order Date']).day\n",
    "sales_df['Year'] = pd.DatetimeIndex(sales_df['Order Date']).year"
   ]
  },
  {
   "cell_type": "code",
   "execution_count": 139,
   "id": "69e3ccac",
   "metadata": {},
   "outputs": [
    {
     "data": {
      "text/html": [
       "<div>\n",
       "<style scoped>\n",
       "    .dataframe tbody tr th:only-of-type {\n",
       "        vertical-align: middle;\n",
       "    }\n",
       "\n",
       "    .dataframe tbody tr th {\n",
       "        vertical-align: top;\n",
       "    }\n",
       "\n",
       "    .dataframe thead th {\n",
       "        text-align: right;\n",
       "    }\n",
       "</style>\n",
       "<table border=\"1\" class=\"dataframe\">\n",
       "  <thead>\n",
       "    <tr style=\"text-align: right;\">\n",
       "      <th></th>\n",
       "      <th>Product</th>\n",
       "      <th>Quantity Ordered</th>\n",
       "      <th>Price Each</th>\n",
       "      <th>Order Date</th>\n",
       "      <th>Purchase Address</th>\n",
       "      <th>Month</th>\n",
       "      <th>Day</th>\n",
       "      <th>Year</th>\n",
       "    </tr>\n",
       "    <tr>\n",
       "      <th>Order ID</th>\n",
       "      <th></th>\n",
       "      <th></th>\n",
       "      <th></th>\n",
       "      <th></th>\n",
       "      <th></th>\n",
       "      <th></th>\n",
       "      <th></th>\n",
       "      <th></th>\n",
       "    </tr>\n",
       "  </thead>\n",
       "  <tbody>\n",
       "    <tr>\n",
       "      <th>176558</th>\n",
       "      <td>USB-C Charging Cable</td>\n",
       "      <td>2</td>\n",
       "      <td>11.95</td>\n",
       "      <td>2019-04-19 08:46:00</td>\n",
       "      <td>917 1st St, Dallas, TX 75001</td>\n",
       "      <td>4</td>\n",
       "      <td>19</td>\n",
       "      <td>2019</td>\n",
       "    </tr>\n",
       "    <tr>\n",
       "      <th>176559</th>\n",
       "      <td>Bose SoundSport Headphones</td>\n",
       "      <td>1</td>\n",
       "      <td>99.99</td>\n",
       "      <td>2019-04-07 22:30:00</td>\n",
       "      <td>682 Chestnut St, Boston, MA 02215</td>\n",
       "      <td>4</td>\n",
       "      <td>7</td>\n",
       "      <td>2019</td>\n",
       "    </tr>\n",
       "    <tr>\n",
       "      <th>176560</th>\n",
       "      <td>Google Phone</td>\n",
       "      <td>1</td>\n",
       "      <td>600</td>\n",
       "      <td>2019-04-12 14:38:00</td>\n",
       "      <td>669 Spruce St, Los Angeles, CA 90001</td>\n",
       "      <td>4</td>\n",
       "      <td>12</td>\n",
       "      <td>2019</td>\n",
       "    </tr>\n",
       "    <tr>\n",
       "      <th>176560</th>\n",
       "      <td>Wired Headphones</td>\n",
       "      <td>1</td>\n",
       "      <td>11.99</td>\n",
       "      <td>2019-04-12 14:38:00</td>\n",
       "      <td>669 Spruce St, Los Angeles, CA 90001</td>\n",
       "      <td>4</td>\n",
       "      <td>12</td>\n",
       "      <td>2019</td>\n",
       "    </tr>\n",
       "    <tr>\n",
       "      <th>176561</th>\n",
       "      <td>Wired Headphones</td>\n",
       "      <td>1</td>\n",
       "      <td>11.99</td>\n",
       "      <td>2019-04-30 09:27:00</td>\n",
       "      <td>333 8th St, Los Angeles, CA 90001</td>\n",
       "      <td>4</td>\n",
       "      <td>30</td>\n",
       "      <td>2019</td>\n",
       "    </tr>\n",
       "    <tr>\n",
       "      <th>...</th>\n",
       "      <td>...</td>\n",
       "      <td>...</td>\n",
       "      <td>...</td>\n",
       "      <td>...</td>\n",
       "      <td>...</td>\n",
       "      <td>...</td>\n",
       "      <td>...</td>\n",
       "      <td>...</td>\n",
       "    </tr>\n",
       "    <tr>\n",
       "      <th>259353</th>\n",
       "      <td>AAA Batteries (4-pack)</td>\n",
       "      <td>3</td>\n",
       "      <td>2.99</td>\n",
       "      <td>2019-09-17 20:56:00</td>\n",
       "      <td>840 Highland St, Los Angeles, CA 90001</td>\n",
       "      <td>9</td>\n",
       "      <td>17</td>\n",
       "      <td>2019</td>\n",
       "    </tr>\n",
       "    <tr>\n",
       "      <th>259354</th>\n",
       "      <td>iPhone</td>\n",
       "      <td>1</td>\n",
       "      <td>700</td>\n",
       "      <td>2019-09-01 16:00:00</td>\n",
       "      <td>216 Dogwood St, San Francisco, CA 94016</td>\n",
       "      <td>9</td>\n",
       "      <td>1</td>\n",
       "      <td>2019</td>\n",
       "    </tr>\n",
       "    <tr>\n",
       "      <th>259355</th>\n",
       "      <td>iPhone</td>\n",
       "      <td>1</td>\n",
       "      <td>700</td>\n",
       "      <td>2019-09-23 07:39:00</td>\n",
       "      <td>220 12th St, San Francisco, CA 94016</td>\n",
       "      <td>9</td>\n",
       "      <td>23</td>\n",
       "      <td>2019</td>\n",
       "    </tr>\n",
       "    <tr>\n",
       "      <th>259356</th>\n",
       "      <td>34in Ultrawide Monitor</td>\n",
       "      <td>1</td>\n",
       "      <td>379.99</td>\n",
       "      <td>2019-09-19 17:30:00</td>\n",
       "      <td>511 Forest St, San Francisco, CA 94016</td>\n",
       "      <td>9</td>\n",
       "      <td>19</td>\n",
       "      <td>2019</td>\n",
       "    </tr>\n",
       "    <tr>\n",
       "      <th>259357</th>\n",
       "      <td>USB-C Charging Cable</td>\n",
       "      <td>1</td>\n",
       "      <td>11.95</td>\n",
       "      <td>2019-09-30 00:18:00</td>\n",
       "      <td>250 Meadow St, San Francisco, CA 94016</td>\n",
       "      <td>9</td>\n",
       "      <td>30</td>\n",
       "      <td>2019</td>\n",
       "    </tr>\n",
       "  </tbody>\n",
       "</table>\n",
       "<p>185686 rows × 8 columns</p>\n",
       "</div>"
      ],
      "text/plain": [
       "                             Product Quantity Ordered Price Each  \\\n",
       "Order ID                                                           \n",
       "176558          USB-C Charging Cable                2      11.95   \n",
       "176559    Bose SoundSport Headphones                1      99.99   \n",
       "176560                  Google Phone                1        600   \n",
       "176560              Wired Headphones                1      11.99   \n",
       "176561              Wired Headphones                1      11.99   \n",
       "...                              ...              ...        ...   \n",
       "259353        AAA Batteries (4-pack)                3       2.99   \n",
       "259354                        iPhone                1        700   \n",
       "259355                        iPhone                1        700   \n",
       "259356        34in Ultrawide Monitor                1     379.99   \n",
       "259357          USB-C Charging Cable                1      11.95   \n",
       "\n",
       "                  Order Date                         Purchase Address  Month  \\\n",
       "Order ID                                                                       \n",
       "176558   2019-04-19 08:46:00             917 1st St, Dallas, TX 75001      4   \n",
       "176559   2019-04-07 22:30:00        682 Chestnut St, Boston, MA 02215      4   \n",
       "176560   2019-04-12 14:38:00     669 Spruce St, Los Angeles, CA 90001      4   \n",
       "176560   2019-04-12 14:38:00     669 Spruce St, Los Angeles, CA 90001      4   \n",
       "176561   2019-04-30 09:27:00        333 8th St, Los Angeles, CA 90001      4   \n",
       "...                      ...                                      ...    ...   \n",
       "259353   2019-09-17 20:56:00   840 Highland St, Los Angeles, CA 90001      9   \n",
       "259354   2019-09-01 16:00:00  216 Dogwood St, San Francisco, CA 94016      9   \n",
       "259355   2019-09-23 07:39:00     220 12th St, San Francisco, CA 94016      9   \n",
       "259356   2019-09-19 17:30:00   511 Forest St, San Francisco, CA 94016      9   \n",
       "259357   2019-09-30 00:18:00   250 Meadow St, San Francisco, CA 94016      9   \n",
       "\n",
       "          Day  Year  \n",
       "Order ID             \n",
       "176558     19  2019  \n",
       "176559      7  2019  \n",
       "176560     12  2019  \n",
       "176560     12  2019  \n",
       "176561     30  2019  \n",
       "...       ...   ...  \n",
       "259353     17  2019  \n",
       "259354      1  2019  \n",
       "259355     23  2019  \n",
       "259356     19  2019  \n",
       "259357     30  2019  \n",
       "\n",
       "[185686 rows x 8 columns]"
      ]
     },
     "execution_count": 139,
     "metadata": {},
     "output_type": "execute_result"
    }
   ],
   "source": [
    "sales_df"
   ]
  },
  {
   "cell_type": "markdown",
   "id": "82396355",
   "metadata": {},
   "source": [
    "**Q1. What was the best month for sales? How much was earned that month?**"
   ]
  },
  {
   "cell_type": "markdown",
   "id": "f260f609",
   "metadata": {},
   "source": [
    "To answer this we need add another column - sales. The problem is that our numerical data is not really that numerical. The .info() shows that the data we need is object-type."
   ]
  },
  {
   "cell_type": "code",
   "execution_count": 140,
   "id": "5c503030",
   "metadata": {},
   "outputs": [
    {
     "name": "stdout",
     "output_type": "stream",
     "text": [
      "<class 'pandas.core.frame.DataFrame'>\n",
      "Index: 185686 entries, 176558 to 259357\n",
      "Data columns (total 8 columns):\n",
      " #   Column            Non-Null Count   Dtype         \n",
      "---  ------            --------------   -----         \n",
      " 0   Product           185686 non-null  object        \n",
      " 1   Quantity Ordered  185686 non-null  object        \n",
      " 2   Price Each        185686 non-null  object        \n",
      " 3   Order Date        185686 non-null  datetime64[ns]\n",
      " 4   Purchase Address  185686 non-null  object        \n",
      " 5   Month             185686 non-null  int64         \n",
      " 6   Day               185686 non-null  int64         \n",
      " 7   Year              185686 non-null  int64         \n",
      "dtypes: datetime64[ns](1), int64(3), object(4)\n",
      "memory usage: 12.8+ MB\n"
     ]
    }
   ],
   "source": [
    "sales_df.info() # we want quantity ordered and price each, they are not numerical."
   ]
  },
  {
   "cell_type": "code",
   "execution_count": 141,
   "id": "b270c5ce",
   "metadata": {},
   "outputs": [],
   "source": [
    "sales_df['Quantity Ordered'] = pd.to_numeric(sales_df['Quantity Ordered'])\n",
    "sales_df['Price Each'] = pd.to_numeric(sales_df['Price Each'])"
   ]
  },
  {
   "cell_type": "code",
   "execution_count": 142,
   "id": "88f274a5",
   "metadata": {},
   "outputs": [
    {
     "name": "stdout",
     "output_type": "stream",
     "text": [
      "<class 'pandas.core.frame.DataFrame'>\n",
      "Index: 185686 entries, 176558 to 259357\n",
      "Data columns (total 8 columns):\n",
      " #   Column            Non-Null Count   Dtype         \n",
      "---  ------            --------------   -----         \n",
      " 0   Product           185686 non-null  object        \n",
      " 1   Quantity Ordered  185686 non-null  int64         \n",
      " 2   Price Each        185686 non-null  float64       \n",
      " 3   Order Date        185686 non-null  datetime64[ns]\n",
      " 4   Purchase Address  185686 non-null  object        \n",
      " 5   Month             185686 non-null  int64         \n",
      " 6   Day               185686 non-null  int64         \n",
      " 7   Year              185686 non-null  int64         \n",
      "dtypes: datetime64[ns](1), float64(1), int64(4), object(2)\n",
      "memory usage: 12.8+ MB\n"
     ]
    }
   ],
   "source": [
    "sales_df.info() # now we are ready to go"
   ]
  },
  {
   "cell_type": "code",
   "execution_count": 143,
   "id": "d31a1839",
   "metadata": {},
   "outputs": [],
   "source": [
    "sales_df['Sales'] = sales_df['Quantity Ordered'] * sales_df['Price Each']"
   ]
  },
  {
   "cell_type": "code",
   "execution_count": 144,
   "id": "9cba91b4",
   "metadata": {},
   "outputs": [
    {
     "data": {
      "text/html": [
       "<div>\n",
       "<style scoped>\n",
       "    .dataframe tbody tr th:only-of-type {\n",
       "        vertical-align: middle;\n",
       "    }\n",
       "\n",
       "    .dataframe tbody tr th {\n",
       "        vertical-align: top;\n",
       "    }\n",
       "\n",
       "    .dataframe thead th {\n",
       "        text-align: right;\n",
       "    }\n",
       "</style>\n",
       "<table border=\"1\" class=\"dataframe\">\n",
       "  <thead>\n",
       "    <tr style=\"text-align: right;\">\n",
       "      <th></th>\n",
       "      <th>Product</th>\n",
       "      <th>Quantity Ordered</th>\n",
       "      <th>Price Each</th>\n",
       "      <th>Order Date</th>\n",
       "      <th>Purchase Address</th>\n",
       "      <th>Month</th>\n",
       "      <th>Day</th>\n",
       "      <th>Year</th>\n",
       "      <th>Sales</th>\n",
       "    </tr>\n",
       "    <tr>\n",
       "      <th>Order ID</th>\n",
       "      <th></th>\n",
       "      <th></th>\n",
       "      <th></th>\n",
       "      <th></th>\n",
       "      <th></th>\n",
       "      <th></th>\n",
       "      <th></th>\n",
       "      <th></th>\n",
       "      <th></th>\n",
       "    </tr>\n",
       "  </thead>\n",
       "  <tbody>\n",
       "    <tr>\n",
       "      <th>176558</th>\n",
       "      <td>USB-C Charging Cable</td>\n",
       "      <td>2</td>\n",
       "      <td>11.95</td>\n",
       "      <td>2019-04-19 08:46:00</td>\n",
       "      <td>917 1st St, Dallas, TX 75001</td>\n",
       "      <td>4</td>\n",
       "      <td>19</td>\n",
       "      <td>2019</td>\n",
       "      <td>23.90</td>\n",
       "    </tr>\n",
       "    <tr>\n",
       "      <th>176559</th>\n",
       "      <td>Bose SoundSport Headphones</td>\n",
       "      <td>1</td>\n",
       "      <td>99.99</td>\n",
       "      <td>2019-04-07 22:30:00</td>\n",
       "      <td>682 Chestnut St, Boston, MA 02215</td>\n",
       "      <td>4</td>\n",
       "      <td>7</td>\n",
       "      <td>2019</td>\n",
       "      <td>99.99</td>\n",
       "    </tr>\n",
       "    <tr>\n",
       "      <th>176560</th>\n",
       "      <td>Google Phone</td>\n",
       "      <td>1</td>\n",
       "      <td>600.00</td>\n",
       "      <td>2019-04-12 14:38:00</td>\n",
       "      <td>669 Spruce St, Los Angeles, CA 90001</td>\n",
       "      <td>4</td>\n",
       "      <td>12</td>\n",
       "      <td>2019</td>\n",
       "      <td>600.00</td>\n",
       "    </tr>\n",
       "    <tr>\n",
       "      <th>176560</th>\n",
       "      <td>Wired Headphones</td>\n",
       "      <td>1</td>\n",
       "      <td>11.99</td>\n",
       "      <td>2019-04-12 14:38:00</td>\n",
       "      <td>669 Spruce St, Los Angeles, CA 90001</td>\n",
       "      <td>4</td>\n",
       "      <td>12</td>\n",
       "      <td>2019</td>\n",
       "      <td>11.99</td>\n",
       "    </tr>\n",
       "    <tr>\n",
       "      <th>176561</th>\n",
       "      <td>Wired Headphones</td>\n",
       "      <td>1</td>\n",
       "      <td>11.99</td>\n",
       "      <td>2019-04-30 09:27:00</td>\n",
       "      <td>333 8th St, Los Angeles, CA 90001</td>\n",
       "      <td>4</td>\n",
       "      <td>30</td>\n",
       "      <td>2019</td>\n",
       "      <td>11.99</td>\n",
       "    </tr>\n",
       "    <tr>\n",
       "      <th>...</th>\n",
       "      <td>...</td>\n",
       "      <td>...</td>\n",
       "      <td>...</td>\n",
       "      <td>...</td>\n",
       "      <td>...</td>\n",
       "      <td>...</td>\n",
       "      <td>...</td>\n",
       "      <td>...</td>\n",
       "      <td>...</td>\n",
       "    </tr>\n",
       "    <tr>\n",
       "      <th>259353</th>\n",
       "      <td>AAA Batteries (4-pack)</td>\n",
       "      <td>3</td>\n",
       "      <td>2.99</td>\n",
       "      <td>2019-09-17 20:56:00</td>\n",
       "      <td>840 Highland St, Los Angeles, CA 90001</td>\n",
       "      <td>9</td>\n",
       "      <td>17</td>\n",
       "      <td>2019</td>\n",
       "      <td>8.97</td>\n",
       "    </tr>\n",
       "    <tr>\n",
       "      <th>259354</th>\n",
       "      <td>iPhone</td>\n",
       "      <td>1</td>\n",
       "      <td>700.00</td>\n",
       "      <td>2019-09-01 16:00:00</td>\n",
       "      <td>216 Dogwood St, San Francisco, CA 94016</td>\n",
       "      <td>9</td>\n",
       "      <td>1</td>\n",
       "      <td>2019</td>\n",
       "      <td>700.00</td>\n",
       "    </tr>\n",
       "    <tr>\n",
       "      <th>259355</th>\n",
       "      <td>iPhone</td>\n",
       "      <td>1</td>\n",
       "      <td>700.00</td>\n",
       "      <td>2019-09-23 07:39:00</td>\n",
       "      <td>220 12th St, San Francisco, CA 94016</td>\n",
       "      <td>9</td>\n",
       "      <td>23</td>\n",
       "      <td>2019</td>\n",
       "      <td>700.00</td>\n",
       "    </tr>\n",
       "    <tr>\n",
       "      <th>259356</th>\n",
       "      <td>34in Ultrawide Monitor</td>\n",
       "      <td>1</td>\n",
       "      <td>379.99</td>\n",
       "      <td>2019-09-19 17:30:00</td>\n",
       "      <td>511 Forest St, San Francisco, CA 94016</td>\n",
       "      <td>9</td>\n",
       "      <td>19</td>\n",
       "      <td>2019</td>\n",
       "      <td>379.99</td>\n",
       "    </tr>\n",
       "    <tr>\n",
       "      <th>259357</th>\n",
       "      <td>USB-C Charging Cable</td>\n",
       "      <td>1</td>\n",
       "      <td>11.95</td>\n",
       "      <td>2019-09-30 00:18:00</td>\n",
       "      <td>250 Meadow St, San Francisco, CA 94016</td>\n",
       "      <td>9</td>\n",
       "      <td>30</td>\n",
       "      <td>2019</td>\n",
       "      <td>11.95</td>\n",
       "    </tr>\n",
       "  </tbody>\n",
       "</table>\n",
       "<p>185686 rows × 9 columns</p>\n",
       "</div>"
      ],
      "text/plain": [
       "                             Product  Quantity Ordered  Price Each  \\\n",
       "Order ID                                                             \n",
       "176558          USB-C Charging Cable                 2       11.95   \n",
       "176559    Bose SoundSport Headphones                 1       99.99   \n",
       "176560                  Google Phone                 1      600.00   \n",
       "176560              Wired Headphones                 1       11.99   \n",
       "176561              Wired Headphones                 1       11.99   \n",
       "...                              ...               ...         ...   \n",
       "259353        AAA Batteries (4-pack)                 3        2.99   \n",
       "259354                        iPhone                 1      700.00   \n",
       "259355                        iPhone                 1      700.00   \n",
       "259356        34in Ultrawide Monitor                 1      379.99   \n",
       "259357          USB-C Charging Cable                 1       11.95   \n",
       "\n",
       "                  Order Date                         Purchase Address  Month  \\\n",
       "Order ID                                                                       \n",
       "176558   2019-04-19 08:46:00             917 1st St, Dallas, TX 75001      4   \n",
       "176559   2019-04-07 22:30:00        682 Chestnut St, Boston, MA 02215      4   \n",
       "176560   2019-04-12 14:38:00     669 Spruce St, Los Angeles, CA 90001      4   \n",
       "176560   2019-04-12 14:38:00     669 Spruce St, Los Angeles, CA 90001      4   \n",
       "176561   2019-04-30 09:27:00        333 8th St, Los Angeles, CA 90001      4   \n",
       "...                      ...                                      ...    ...   \n",
       "259353   2019-09-17 20:56:00   840 Highland St, Los Angeles, CA 90001      9   \n",
       "259354   2019-09-01 16:00:00  216 Dogwood St, San Francisco, CA 94016      9   \n",
       "259355   2019-09-23 07:39:00     220 12th St, San Francisco, CA 94016      9   \n",
       "259356   2019-09-19 17:30:00   511 Forest St, San Francisco, CA 94016      9   \n",
       "259357   2019-09-30 00:18:00   250 Meadow St, San Francisco, CA 94016      9   \n",
       "\n",
       "          Day  Year   Sales  \n",
       "Order ID                     \n",
       "176558     19  2019   23.90  \n",
       "176559      7  2019   99.99  \n",
       "176560     12  2019  600.00  \n",
       "176560     12  2019   11.99  \n",
       "176561     30  2019   11.99  \n",
       "...       ...   ...     ...  \n",
       "259353     17  2019    8.97  \n",
       "259354      1  2019  700.00  \n",
       "259355     23  2019  700.00  \n",
       "259356     19  2019  379.99  \n",
       "259357     30  2019   11.95  \n",
       "\n",
       "[185686 rows x 9 columns]"
      ]
     },
     "execution_count": 144,
     "metadata": {},
     "output_type": "execute_result"
    }
   ],
   "source": [
    "sales_df"
   ]
  },
  {
   "cell_type": "markdown",
   "id": "c6b217a5",
   "metadata": {},
   "source": [
    "Let's rearrange some columns position to make it more easier to read."
   ]
  },
  {
   "cell_type": "code",
   "execution_count": 145,
   "id": "2d8d2e2a",
   "metadata": {},
   "outputs": [],
   "source": [
    "sales_df = sales_df[['Product', 'Quantity Ordered', 'Price Each', 'Sales', 'Order Date', 'Purchase Address', 'Day', 'Month', 'Year']]"
   ]
  },
  {
   "cell_type": "code",
   "execution_count": 146,
   "id": "29ae44ee",
   "metadata": {},
   "outputs": [
    {
     "data": {
      "text/html": [
       "<div>\n",
       "<style scoped>\n",
       "    .dataframe tbody tr th:only-of-type {\n",
       "        vertical-align: middle;\n",
       "    }\n",
       "\n",
       "    .dataframe tbody tr th {\n",
       "        vertical-align: top;\n",
       "    }\n",
       "\n",
       "    .dataframe thead th {\n",
       "        text-align: right;\n",
       "    }\n",
       "</style>\n",
       "<table border=\"1\" class=\"dataframe\">\n",
       "  <thead>\n",
       "    <tr style=\"text-align: right;\">\n",
       "      <th></th>\n",
       "      <th>Product</th>\n",
       "      <th>Quantity Ordered</th>\n",
       "      <th>Price Each</th>\n",
       "      <th>Sales</th>\n",
       "      <th>Order Date</th>\n",
       "      <th>Purchase Address</th>\n",
       "      <th>Day</th>\n",
       "      <th>Month</th>\n",
       "      <th>Year</th>\n",
       "    </tr>\n",
       "    <tr>\n",
       "      <th>Order ID</th>\n",
       "      <th></th>\n",
       "      <th></th>\n",
       "      <th></th>\n",
       "      <th></th>\n",
       "      <th></th>\n",
       "      <th></th>\n",
       "      <th></th>\n",
       "      <th></th>\n",
       "      <th></th>\n",
       "    </tr>\n",
       "  </thead>\n",
       "  <tbody>\n",
       "    <tr>\n",
       "      <th>176558</th>\n",
       "      <td>USB-C Charging Cable</td>\n",
       "      <td>2</td>\n",
       "      <td>11.95</td>\n",
       "      <td>23.90</td>\n",
       "      <td>2019-04-19 08:46:00</td>\n",
       "      <td>917 1st St, Dallas, TX 75001</td>\n",
       "      <td>19</td>\n",
       "      <td>4</td>\n",
       "      <td>2019</td>\n",
       "    </tr>\n",
       "    <tr>\n",
       "      <th>176559</th>\n",
       "      <td>Bose SoundSport Headphones</td>\n",
       "      <td>1</td>\n",
       "      <td>99.99</td>\n",
       "      <td>99.99</td>\n",
       "      <td>2019-04-07 22:30:00</td>\n",
       "      <td>682 Chestnut St, Boston, MA 02215</td>\n",
       "      <td>7</td>\n",
       "      <td>4</td>\n",
       "      <td>2019</td>\n",
       "    </tr>\n",
       "    <tr>\n",
       "      <th>176560</th>\n",
       "      <td>Google Phone</td>\n",
       "      <td>1</td>\n",
       "      <td>600.00</td>\n",
       "      <td>600.00</td>\n",
       "      <td>2019-04-12 14:38:00</td>\n",
       "      <td>669 Spruce St, Los Angeles, CA 90001</td>\n",
       "      <td>12</td>\n",
       "      <td>4</td>\n",
       "      <td>2019</td>\n",
       "    </tr>\n",
       "    <tr>\n",
       "      <th>176560</th>\n",
       "      <td>Wired Headphones</td>\n",
       "      <td>1</td>\n",
       "      <td>11.99</td>\n",
       "      <td>11.99</td>\n",
       "      <td>2019-04-12 14:38:00</td>\n",
       "      <td>669 Spruce St, Los Angeles, CA 90001</td>\n",
       "      <td>12</td>\n",
       "      <td>4</td>\n",
       "      <td>2019</td>\n",
       "    </tr>\n",
       "    <tr>\n",
       "      <th>176561</th>\n",
       "      <td>Wired Headphones</td>\n",
       "      <td>1</td>\n",
       "      <td>11.99</td>\n",
       "      <td>11.99</td>\n",
       "      <td>2019-04-30 09:27:00</td>\n",
       "      <td>333 8th St, Los Angeles, CA 90001</td>\n",
       "      <td>30</td>\n",
       "      <td>4</td>\n",
       "      <td>2019</td>\n",
       "    </tr>\n",
       "    <tr>\n",
       "      <th>...</th>\n",
       "      <td>...</td>\n",
       "      <td>...</td>\n",
       "      <td>...</td>\n",
       "      <td>...</td>\n",
       "      <td>...</td>\n",
       "      <td>...</td>\n",
       "      <td>...</td>\n",
       "      <td>...</td>\n",
       "      <td>...</td>\n",
       "    </tr>\n",
       "    <tr>\n",
       "      <th>259353</th>\n",
       "      <td>AAA Batteries (4-pack)</td>\n",
       "      <td>3</td>\n",
       "      <td>2.99</td>\n",
       "      <td>8.97</td>\n",
       "      <td>2019-09-17 20:56:00</td>\n",
       "      <td>840 Highland St, Los Angeles, CA 90001</td>\n",
       "      <td>17</td>\n",
       "      <td>9</td>\n",
       "      <td>2019</td>\n",
       "    </tr>\n",
       "    <tr>\n",
       "      <th>259354</th>\n",
       "      <td>iPhone</td>\n",
       "      <td>1</td>\n",
       "      <td>700.00</td>\n",
       "      <td>700.00</td>\n",
       "      <td>2019-09-01 16:00:00</td>\n",
       "      <td>216 Dogwood St, San Francisco, CA 94016</td>\n",
       "      <td>1</td>\n",
       "      <td>9</td>\n",
       "      <td>2019</td>\n",
       "    </tr>\n",
       "    <tr>\n",
       "      <th>259355</th>\n",
       "      <td>iPhone</td>\n",
       "      <td>1</td>\n",
       "      <td>700.00</td>\n",
       "      <td>700.00</td>\n",
       "      <td>2019-09-23 07:39:00</td>\n",
       "      <td>220 12th St, San Francisco, CA 94016</td>\n",
       "      <td>23</td>\n",
       "      <td>9</td>\n",
       "      <td>2019</td>\n",
       "    </tr>\n",
       "    <tr>\n",
       "      <th>259356</th>\n",
       "      <td>34in Ultrawide Monitor</td>\n",
       "      <td>1</td>\n",
       "      <td>379.99</td>\n",
       "      <td>379.99</td>\n",
       "      <td>2019-09-19 17:30:00</td>\n",
       "      <td>511 Forest St, San Francisco, CA 94016</td>\n",
       "      <td>19</td>\n",
       "      <td>9</td>\n",
       "      <td>2019</td>\n",
       "    </tr>\n",
       "    <tr>\n",
       "      <th>259357</th>\n",
       "      <td>USB-C Charging Cable</td>\n",
       "      <td>1</td>\n",
       "      <td>11.95</td>\n",
       "      <td>11.95</td>\n",
       "      <td>2019-09-30 00:18:00</td>\n",
       "      <td>250 Meadow St, San Francisco, CA 94016</td>\n",
       "      <td>30</td>\n",
       "      <td>9</td>\n",
       "      <td>2019</td>\n",
       "    </tr>\n",
       "  </tbody>\n",
       "</table>\n",
       "<p>185686 rows × 9 columns</p>\n",
       "</div>"
      ],
      "text/plain": [
       "                             Product  Quantity Ordered  Price Each   Sales  \\\n",
       "Order ID                                                                     \n",
       "176558          USB-C Charging Cable                 2       11.95   23.90   \n",
       "176559    Bose SoundSport Headphones                 1       99.99   99.99   \n",
       "176560                  Google Phone                 1      600.00  600.00   \n",
       "176560              Wired Headphones                 1       11.99   11.99   \n",
       "176561              Wired Headphones                 1       11.99   11.99   \n",
       "...                              ...               ...         ...     ...   \n",
       "259353        AAA Batteries (4-pack)                 3        2.99    8.97   \n",
       "259354                        iPhone                 1      700.00  700.00   \n",
       "259355                        iPhone                 1      700.00  700.00   \n",
       "259356        34in Ultrawide Monitor                 1      379.99  379.99   \n",
       "259357          USB-C Charging Cable                 1       11.95   11.95   \n",
       "\n",
       "                  Order Date                         Purchase Address  Day  \\\n",
       "Order ID                                                                     \n",
       "176558   2019-04-19 08:46:00             917 1st St, Dallas, TX 75001   19   \n",
       "176559   2019-04-07 22:30:00        682 Chestnut St, Boston, MA 02215    7   \n",
       "176560   2019-04-12 14:38:00     669 Spruce St, Los Angeles, CA 90001   12   \n",
       "176560   2019-04-12 14:38:00     669 Spruce St, Los Angeles, CA 90001   12   \n",
       "176561   2019-04-30 09:27:00        333 8th St, Los Angeles, CA 90001   30   \n",
       "...                      ...                                      ...  ...   \n",
       "259353   2019-09-17 20:56:00   840 Highland St, Los Angeles, CA 90001   17   \n",
       "259354   2019-09-01 16:00:00  216 Dogwood St, San Francisco, CA 94016    1   \n",
       "259355   2019-09-23 07:39:00     220 12th St, San Francisco, CA 94016   23   \n",
       "259356   2019-09-19 17:30:00   511 Forest St, San Francisco, CA 94016   19   \n",
       "259357   2019-09-30 00:18:00   250 Meadow St, San Francisco, CA 94016   30   \n",
       "\n",
       "          Month  Year  \n",
       "Order ID               \n",
       "176558        4  2019  \n",
       "176559        4  2019  \n",
       "176560        4  2019  \n",
       "176560        4  2019  \n",
       "176561        4  2019  \n",
       "...         ...   ...  \n",
       "259353        9  2019  \n",
       "259354        9  2019  \n",
       "259355        9  2019  \n",
       "259356        9  2019  \n",
       "259357        9  2019  \n",
       "\n",
       "[185686 rows x 9 columns]"
      ]
     },
     "execution_count": 146,
     "metadata": {},
     "output_type": "execute_result"
    }
   ],
   "source": [
    "sales_df"
   ]
  },
  {
   "cell_type": "markdown",
   "id": "69179941",
   "metadata": {},
   "source": [
    "We can easily answer the Q1 with by gruping our data by month.\n"
   ]
  },
  {
   "cell_type": "code",
   "execution_count": 147,
   "id": "3f8952ba",
   "metadata": {},
   "outputs": [],
   "source": [
    "by_month = sales_df.groupby('Month')\n",
    "keys = ['Quantity Ordered', 'Sales'] # columns that we are intrested in."
   ]
  },
  {
   "cell_type": "code",
   "execution_count": 148,
   "id": "910b93da",
   "metadata": {},
   "outputs": [],
   "source": [
    "sales_summary = by_month[keys].sum() # summary of intrested keys for each month\n",
    "sales_summary.index = sales_summary.index.map(lambda x: cal.month_name[x]) # change month numbers to month names"
   ]
  },
  {
   "cell_type": "markdown",
   "id": "59bab189",
   "metadata": {},
   "source": [
    "Which month was the best, the most profitable?\n"
   ]
  },
  {
   "cell_type": "markdown",
   "id": "007d276e",
   "metadata": {},
   "source": []
  },
  {
   "cell_type": "code",
   "execution_count": 149,
   "id": "5d98a8f0",
   "metadata": {},
   "outputs": [
    {
     "data": {
      "text/html": [
       "<div>\n",
       "<style scoped>\n",
       "    .dataframe tbody tr th:only-of-type {\n",
       "        vertical-align: middle;\n",
       "    }\n",
       "\n",
       "    .dataframe tbody tr th {\n",
       "        vertical-align: top;\n",
       "    }\n",
       "\n",
       "    .dataframe thead th {\n",
       "        text-align: right;\n",
       "    }\n",
       "</style>\n",
       "<table border=\"1\" class=\"dataframe\">\n",
       "  <thead>\n",
       "    <tr style=\"text-align: right;\">\n",
       "      <th></th>\n",
       "      <th>Quantity Ordered</th>\n",
       "      <th>Sales</th>\n",
       "    </tr>\n",
       "    <tr>\n",
       "      <th>Month</th>\n",
       "      <th></th>\n",
       "      <th></th>\n",
       "    </tr>\n",
       "  </thead>\n",
       "  <tbody>\n",
       "    <tr>\n",
       "      <th>December</th>\n",
       "      <td>28074</td>\n",
       "      <td>4608295.7</td>\n",
       "    </tr>\n",
       "  </tbody>\n",
       "</table>\n",
       "</div>"
      ],
      "text/plain": [
       "          Quantity Ordered      Sales\n",
       "Month                                \n",
       "December             28074  4608295.7"
      ]
     },
     "execution_count": 149,
     "metadata": {},
     "output_type": "execute_result"
    }
   ],
   "source": [
    "sales_summary.sort_values(by='Sales', ascending=False).head(1) # December was the most profitable."
   ]
  },
  {
   "cell_type": "markdown",
   "id": "f1402da2",
   "metadata": {},
   "source": [
    "Which month was the worst, the least profitable?\n"
   ]
  },
  {
   "cell_type": "code",
   "execution_count": 150,
   "id": "bee3b6ec",
   "metadata": {},
   "outputs": [
    {
     "data": {
      "text/html": [
       "<div>\n",
       "<style scoped>\n",
       "    .dataframe tbody tr th:only-of-type {\n",
       "        vertical-align: middle;\n",
       "    }\n",
       "\n",
       "    .dataframe tbody tr th {\n",
       "        vertical-align: top;\n",
       "    }\n",
       "\n",
       "    .dataframe thead th {\n",
       "        text-align: right;\n",
       "    }\n",
       "</style>\n",
       "<table border=\"1\" class=\"dataframe\">\n",
       "  <thead>\n",
       "    <tr style=\"text-align: right;\">\n",
       "      <th></th>\n",
       "      <th>Quantity Ordered</th>\n",
       "      <th>Sales</th>\n",
       "    </tr>\n",
       "    <tr>\n",
       "      <th>Month</th>\n",
       "      <th></th>\n",
       "      <th></th>\n",
       "    </tr>\n",
       "  </thead>\n",
       "  <tbody>\n",
       "    <tr>\n",
       "      <th>January</th>\n",
       "      <td>10893</td>\n",
       "      <td>1821413.16</td>\n",
       "    </tr>\n",
       "  </tbody>\n",
       "</table>\n",
       "</div>"
      ],
      "text/plain": [
       "         Quantity Ordered       Sales\n",
       "Month                                \n",
       "January             10893  1821413.16"
      ]
     },
     "execution_count": 150,
     "metadata": {},
     "output_type": "execute_result"
    }
   ],
   "source": [
    "sales_summary.sort_values(by='Sales', ascending=True).head(1) # January was the worst."
   ]
  },
  {
   "cell_type": "markdown",
   "id": "f8ab8eaa",
   "metadata": {},
   "source": [
    "We can plot the results to show them in more read-able way."
   ]
  },
  {
   "cell_type": "code",
   "execution_count": 151,
   "id": "7ba67227",
   "metadata": {},
   "outputs": [
    {
     "data": {
      "text/plain": [
       "<AxesSubplot:xlabel='Month', ylabel='Sales in milions (USD $)'>"
      ]
     },
     "execution_count": 151,
     "metadata": {},
     "output_type": "execute_result"
    },
    {
     "data": {
      "image/png": "[encoded data removed]",
      "text/plain": [
       "<Figure size 864x576 with 1 Axes>"
      ]
     },
     "metadata": {
      "needs_background": "light"
     },
     "output_type": "display_data"
    }
   ],
   "source": [
    "sales_summary.plot(kind='bar', y='Sales', figsize=(12, 8), ylabel='Sales in milions (USD $)')"
   ]
  },
  {
   "cell_type": "markdown",
   "id": "e2d309b0",
   "metadata": {},
   "source": [
    "**MQ1. Show on chart how the ordered quantity changed during the whole year.**"
   ]
  },
  {
   "cell_type": "code",
   "execution_count": 152,
   "id": "426f7673",
   "metadata": {},
   "outputs": [
    {
     "data": {
      "text/plain": [
       "<AxesSubplot:xlabel='Month'>"
      ]
     },
     "execution_count": 152,
     "metadata": {},
     "output_type": "execute_result"
    },
    {
     "data": {
      "image/png": "[encoded data removed]",
      "text/plain": [
       "<Figure size 864x576 with 1 Axes>"
      ]
     },
     "metadata": {
      "needs_background": "light"
     },
     "output_type": "display_data"
    }
   ],
   "source": [
    "sales_summary.plot(kind='line', use_index=True, y='Quantity Ordered', figsize=(12, 8))"
   ]
  },
  {
   "cell_type": "markdown",
   "id": "3a3b59f5",
   "metadata": {},
   "source": [
    "**Q2. What city had the highest number of sales?**"
   ]
  },
  {
   "cell_type": "code",
   "execution_count": 153,
   "id": "8506587a",
   "metadata": {},
   "outputs": [
    {
     "name": "stderr",
     "output_type": "stream",
     "text": [
      "C:\\Users\\karmi\\AppData\\Local\\Temp\\ipykernel_22416\\3819730062.py:4: SettingWithCopyWarning: \n",
      "A value is trying to be set on a copy of a slice from a DataFrame.\n",
      "Try using .loc[row_indexer,col_indexer] = value instead\n",
      "\n",
      "See the caveats in the documentation: https://pandas.pydata.org/pandas-docs/stable/user_guide/indexing.html#returning-a-view-versus-a-copy\n",
      "  sales_df['City'] = sales_df['Purchase Address'].map(lambda x: x.split(',')[1]) # add city column to for grouping\n"
     ]
    }
   ],
   "source": [
    "#pattern = re.compile('(?<=,\\s)[^,]+')\n",
    "#sales_df['City'] = sales_df['Purchase Address'].map(lambda x: pattern.findall(x)[0])\n",
    "\n",
    "sales_df['City'] = sales_df['Purchase Address'].map(lambda x: x.split(',')[1]) # add city column to for grouping"
   ]
  },
  {
   "cell_type": "code",
   "execution_count": 154,
   "id": "4cbf36fa",
   "metadata": {},
   "outputs": [
    {
     "data": {
      "text/html": [
       "<div>\n",
       "<style scoped>\n",
       "    .dataframe tbody tr th:only-of-type {\n",
       "        vertical-align: middle;\n",
       "    }\n",
       "\n",
       "    .dataframe tbody tr th {\n",
       "        vertical-align: top;\n",
       "    }\n",
       "\n",
       "    .dataframe thead th {\n",
       "        text-align: right;\n",
       "    }\n",
       "</style>\n",
       "<table border=\"1\" class=\"dataframe\">\n",
       "  <thead>\n",
       "    <tr style=\"text-align: right;\">\n",
       "      <th></th>\n",
       "      <th>Product</th>\n",
       "      <th>Quantity Ordered</th>\n",
       "      <th>Price Each</th>\n",
       "      <th>Sales</th>\n",
       "      <th>Order Date</th>\n",
       "      <th>Purchase Address</th>\n",
       "      <th>Day</th>\n",
       "      <th>Month</th>\n",
       "      <th>Year</th>\n",
       "      <th>City</th>\n",
       "    </tr>\n",
       "    <tr>\n",
       "      <th>Order ID</th>\n",
       "      <th></th>\n",
       "      <th></th>\n",
       "      <th></th>\n",
       "      <th></th>\n",
       "      <th></th>\n",
       "      <th></th>\n",
       "      <th></th>\n",
       "      <th></th>\n",
       "      <th></th>\n",
       "      <th></th>\n",
       "    </tr>\n",
       "  </thead>\n",
       "  <tbody>\n",
       "    <tr>\n",
       "      <th>176558</th>\n",
       "      <td>USB-C Charging Cable</td>\n",
       "      <td>2</td>\n",
       "      <td>11.95</td>\n",
       "      <td>23.90</td>\n",
       "      <td>2019-04-19 08:46:00</td>\n",
       "      <td>917 1st St, Dallas, TX 75001</td>\n",
       "      <td>19</td>\n",
       "      <td>4</td>\n",
       "      <td>2019</td>\n",
       "      <td>Dallas</td>\n",
       "    </tr>\n",
       "    <tr>\n",
       "      <th>176559</th>\n",
       "      <td>Bose SoundSport Headphones</td>\n",
       "      <td>1</td>\n",
       "      <td>99.99</td>\n",
       "      <td>99.99</td>\n",
       "      <td>2019-04-07 22:30:00</td>\n",
       "      <td>682 Chestnut St, Boston, MA 02215</td>\n",
       "      <td>7</td>\n",
       "      <td>4</td>\n",
       "      <td>2019</td>\n",
       "      <td>Boston</td>\n",
       "    </tr>\n",
       "    <tr>\n",
       "      <th>176560</th>\n",
       "      <td>Google Phone</td>\n",
       "      <td>1</td>\n",
       "      <td>600.00</td>\n",
       "      <td>600.00</td>\n",
       "      <td>2019-04-12 14:38:00</td>\n",
       "      <td>669 Spruce St, Los Angeles, CA 90001</td>\n",
       "      <td>12</td>\n",
       "      <td>4</td>\n",
       "      <td>2019</td>\n",
       "      <td>Los Angeles</td>\n",
       "    </tr>\n",
       "    <tr>\n",
       "      <th>176560</th>\n",
       "      <td>Wired Headphones</td>\n",
       "      <td>1</td>\n",
       "      <td>11.99</td>\n",
       "      <td>11.99</td>\n",
       "      <td>2019-04-12 14:38:00</td>\n",
       "      <td>669 Spruce St, Los Angeles, CA 90001</td>\n",
       "      <td>12</td>\n",
       "      <td>4</td>\n",
       "      <td>2019</td>\n",
       "      <td>Los Angeles</td>\n",
       "    </tr>\n",
       "    <tr>\n",
       "      <th>176561</th>\n",
       "      <td>Wired Headphones</td>\n",
       "      <td>1</td>\n",
       "      <td>11.99</td>\n",
       "      <td>11.99</td>\n",
       "      <td>2019-04-30 09:27:00</td>\n",
       "      <td>333 8th St, Los Angeles, CA 90001</td>\n",
       "      <td>30</td>\n",
       "      <td>4</td>\n",
       "      <td>2019</td>\n",
       "      <td>Los Angeles</td>\n",
       "    </tr>\n",
       "    <tr>\n",
       "      <th>...</th>\n",
       "      <td>...</td>\n",
       "      <td>...</td>\n",
       "      <td>...</td>\n",
       "      <td>...</td>\n",
       "      <td>...</td>\n",
       "      <td>...</td>\n",
       "      <td>...</td>\n",
       "      <td>...</td>\n",
       "      <td>...</td>\n",
       "      <td>...</td>\n",
       "    </tr>\n",
       "    <tr>\n",
       "      <th>259353</th>\n",
       "      <td>AAA Batteries (4-pack)</td>\n",
       "      <td>3</td>\n",
       "      <td>2.99</td>\n",
       "      <td>8.97</td>\n",
       "      <td>2019-09-17 20:56:00</td>\n",
       "      <td>840 Highland St, Los Angeles, CA 90001</td>\n",
       "      <td>17</td>\n",
       "      <td>9</td>\n",
       "      <td>2019</td>\n",
       "      <td>Los Angeles</td>\n",
       "    </tr>\n",
       "    <tr>\n",
       "      <th>259354</th>\n",
       "      <td>iPhone</td>\n",
       "      <td>1</td>\n",
       "      <td>700.00</td>\n",
       "      <td>700.00</td>\n",
       "      <td>2019-09-01 16:00:00</td>\n",
       "      <td>216 Dogwood St, San Francisco, CA 94016</td>\n",
       "      <td>1</td>\n",
       "      <td>9</td>\n",
       "      <td>2019</td>\n",
       "      <td>San Francisco</td>\n",
       "    </tr>\n",
       "    <tr>\n",
       "      <th>259355</th>\n",
       "      <td>iPhone</td>\n",
       "      <td>1</td>\n",
       "      <td>700.00</td>\n",
       "      <td>700.00</td>\n",
       "      <td>2019-09-23 07:39:00</td>\n",
       "      <td>220 12th St, San Francisco, CA 94016</td>\n",
       "      <td>23</td>\n",
       "      <td>9</td>\n",
       "      <td>2019</td>\n",
       "      <td>San Francisco</td>\n",
       "    </tr>\n",
       "    <tr>\n",
       "      <th>259356</th>\n",
       "      <td>34in Ultrawide Monitor</td>\n",
       "      <td>1</td>\n",
       "      <td>379.99</td>\n",
       "      <td>379.99</td>\n",
       "      <td>2019-09-19 17:30:00</td>\n",
       "      <td>511 Forest St, San Francisco, CA 94016</td>\n",
       "      <td>19</td>\n",
       "      <td>9</td>\n",
       "      <td>2019</td>\n",
       "      <td>San Francisco</td>\n",
       "    </tr>\n",
       "    <tr>\n",
       "      <th>259357</th>\n",
       "      <td>USB-C Charging Cable</td>\n",
       "      <td>1</td>\n",
       "      <td>11.95</td>\n",
       "      <td>11.95</td>\n",
       "      <td>2019-09-30 00:18:00</td>\n",
       "      <td>250 Meadow St, San Francisco, CA 94016</td>\n",
       "      <td>30</td>\n",
       "      <td>9</td>\n",
       "      <td>2019</td>\n",
       "      <td>San Francisco</td>\n",
       "    </tr>\n",
       "  </tbody>\n",
       "</table>\n",
       "<p>185686 rows × 10 columns</p>\n",
       "</div>"
      ],
      "text/plain": [
       "                             Product  Quantity Ordered  Price Each   Sales  \\\n",
       "Order ID                                                                     \n",
       "176558          USB-C Charging Cable                 2       11.95   23.90   \n",
       "176559    Bose SoundSport Headphones                 1       99.99   99.99   \n",
       "176560                  Google Phone                 1      600.00  600.00   \n",
       "176560              Wired Headphones                 1       11.99   11.99   \n",
       "176561              Wired Headphones                 1       11.99   11.99   \n",
       "...                              ...               ...         ...     ...   \n",
       "259353        AAA Batteries (4-pack)                 3        2.99    8.97   \n",
       "259354                        iPhone                 1      700.00  700.00   \n",
       "259355                        iPhone                 1      700.00  700.00   \n",
       "259356        34in Ultrawide Monitor                 1      379.99  379.99   \n",
       "259357          USB-C Charging Cable                 1       11.95   11.95   \n",
       "\n",
       "                  Order Date                         Purchase Address  Day  \\\n",
       "Order ID                                                                     \n",
       "176558   2019-04-19 08:46:00             917 1st St, Dallas, TX 75001   19   \n",
       "176559   2019-04-07 22:30:00        682 Chestnut St, Boston, MA 02215    7   \n",
       "176560   2019-04-12 14:38:00     669 Spruce St, Los Angeles, CA 90001   12   \n",
       "176560   2019-04-12 14:38:00     669 Spruce St, Los Angeles, CA 90001   12   \n",
       "176561   2019-04-30 09:27:00        333 8th St, Los Angeles, CA 90001   30   \n",
       "...                      ...                                      ...  ...   \n",
       "259353   2019-09-17 20:56:00   840 Highland St, Los Angeles, CA 90001   17   \n",
       "259354   2019-09-01 16:00:00  216 Dogwood St, San Francisco, CA 94016    1   \n",
       "259355   2019-09-23 07:39:00     220 12th St, San Francisco, CA 94016   23   \n",
       "259356   2019-09-19 17:30:00   511 Forest St, San Francisco, CA 94016   19   \n",
       "259357   2019-09-30 00:18:00   250 Meadow St, San Francisco, CA 94016   30   \n",
       "\n",
       "          Month  Year            City  \n",
       "Order ID                               \n",
       "176558        4  2019          Dallas  \n",
       "176559        4  2019          Boston  \n",
       "176560        4  2019     Los Angeles  \n",
       "176560        4  2019     Los Angeles  \n",
       "176561        4  2019     Los Angeles  \n",
       "...         ...   ...             ...  \n",
       "259353        9  2019     Los Angeles  \n",
       "259354        9  2019   San Francisco  \n",
       "259355        9  2019   San Francisco  \n",
       "259356        9  2019   San Francisco  \n",
       "259357        9  2019   San Francisco  \n",
       "\n",
       "[185686 rows x 10 columns]"
      ]
     },
     "execution_count": 154,
     "metadata": {},
     "output_type": "execute_result"
    }
   ],
   "source": [
    "sales_df"
   ]
  },
  {
   "cell_type": "markdown",
   "id": "2fc37f82",
   "metadata": {},
   "source": [
    "We have to take also the state for particular city because there can be many cities with the same name but in different states across the USA."
   ]
  },
  {
   "cell_type": "code",
   "execution_count": 155,
   "id": "f7e288b6",
   "metadata": {},
   "outputs": [
    {
     "name": "stderr",
     "output_type": "stream",
     "text": [
      "C:\\Users\\karmi\\AppData\\Local\\Temp\\ipykernel_22416\\75366528.py:1: SettingWithCopyWarning: \n",
      "A value is trying to be set on a copy of a slice from a DataFrame.\n",
      "Try using .loc[row_indexer,col_indexer] = value instead\n",
      "\n",
      "See the caveats in the documentation: https://pandas.pydata.org/pandas-docs/stable/user_guide/indexing.html#returning-a-view-versus-a-copy\n",
      "  sales_df['City'] = sales_df['Purchase Address'].map(lambda x: f\"{x.split(',')[1]} ({x.split(',')[2][1:3]})\")\n"
     ]
    }
   ],
   "source": [
    "sales_df['City'] = sales_df['Purchase Address'].map(lambda x: f\"{x.split(',')[1]} ({x.split(',')[2][1:3]})\")"
   ]
  },
  {
   "cell_type": "code",
   "execution_count": 156,
   "id": "9d4bf60d",
   "metadata": {},
   "outputs": [],
   "source": [
    "by_city = sales_df.groupby('City')"
   ]
  },
  {
   "cell_type": "code",
   "execution_count": 157,
   "id": "eee89810",
   "metadata": {},
   "outputs": [],
   "source": [
    "csales_summary = by_city[keys].sum()"
   ]
  },
  {
   "cell_type": "code",
   "execution_count": 158,
   "id": "3e0be86b",
   "metadata": {},
   "outputs": [
    {
     "data": {
      "text/html": [
       "<div>\n",
       "<style scoped>\n",
       "    .dataframe tbody tr th:only-of-type {\n",
       "        vertical-align: middle;\n",
       "    }\n",
       "\n",
       "    .dataframe tbody tr th {\n",
       "        vertical-align: top;\n",
       "    }\n",
       "\n",
       "    .dataframe thead th {\n",
       "        text-align: right;\n",
       "    }\n",
       "</style>\n",
       "<table border=\"1\" class=\"dataframe\">\n",
       "  <thead>\n",
       "    <tr style=\"text-align: right;\">\n",
       "      <th></th>\n",
       "      <th>Quantity Ordered</th>\n",
       "      <th>Sales</th>\n",
       "    </tr>\n",
       "    <tr>\n",
       "      <th>City</th>\n",
       "      <th></th>\n",
       "      <th></th>\n",
       "    </tr>\n",
       "  </thead>\n",
       "  <tbody>\n",
       "    <tr>\n",
       "      <th>San Francisco (CA)</th>\n",
       "      <td>50169</td>\n",
       "      <td>8254743.55</td>\n",
       "    </tr>\n",
       "  </tbody>\n",
       "</table>\n",
       "</div>"
      ],
      "text/plain": [
       "                     Quantity Ordered       Sales\n",
       "City                                             \n",
       " San Francisco (CA)             50169  8254743.55"
      ]
     },
     "execution_count": 158,
     "metadata": {},
     "output_type": "execute_result"
    }
   ],
   "source": [
    "csales_summary.sort_values(by='Sales', ascending=False).head(1) # the best"
   ]
  },
  {
   "cell_type": "code",
   "execution_count": 159,
   "id": "a9901fea",
   "metadata": {},
   "outputs": [
    {
     "data": {
      "text/html": [
       "<div>\n",
       "<style scoped>\n",
       "    .dataframe tbody tr th:only-of-type {\n",
       "        vertical-align: middle;\n",
       "    }\n",
       "\n",
       "    .dataframe tbody tr th {\n",
       "        vertical-align: top;\n",
       "    }\n",
       "\n",
       "    .dataframe thead th {\n",
       "        text-align: right;\n",
       "    }\n",
       "</style>\n",
       "<table border=\"1\" class=\"dataframe\">\n",
       "  <thead>\n",
       "    <tr style=\"text-align: right;\">\n",
       "      <th></th>\n",
       "      <th>Quantity Ordered</th>\n",
       "      <th>Sales</th>\n",
       "    </tr>\n",
       "    <tr>\n",
       "      <th>City</th>\n",
       "      <th></th>\n",
       "      <th></th>\n",
       "    </tr>\n",
       "  </thead>\n",
       "  <tbody>\n",
       "    <tr>\n",
       "      <th>Portland (ME)</th>\n",
       "      <td>2746</td>\n",
       "      <td>449321.38</td>\n",
       "    </tr>\n",
       "  </tbody>\n",
       "</table>\n",
       "</div>"
      ],
      "text/plain": [
       "                Quantity Ordered      Sales\n",
       "City                                       \n",
       " Portland (ME)              2746  449321.38"
      ]
     },
     "execution_count": 159,
     "metadata": {},
     "output_type": "execute_result"
    }
   ],
   "source": [
    "csales_summary.sort_values(by='Sales', ascending=True).head(1) # the worst"
   ]
  },
  {
   "cell_type": "code",
   "execution_count": 160,
   "id": "3ef04ef7",
   "metadata": {},
   "outputs": [
    {
     "data": {
      "text/plain": [
       "<AxesSubplot:xlabel='City', ylabel='Sales in milions (USD $)'>"
      ]
     },
     "execution_count": 160,
     "metadata": {},
     "output_type": "execute_result"
    },
    {
     "data": {
      "image/png": "[encoded data removed]",
      "text/plain": [
       "<Figure size 864x576 with 1 Axes>"
      ]
     },
     "metadata": {
      "needs_background": "light"
     },
     "output_type": "display_data"
    }
   ],
   "source": [
    "csales_summary.plot(kind='bar', y='Sales', figsize=(12, 8), ylabel='Sales in milions (USD $)')"
   ]
  },
  {
   "cell_type": "markdown",
   "id": "1dc95d3a",
   "metadata": {},
   "source": [
    "**Q3. What time should we display advertisements to maximize likelihood of customer's buying product?**"
   ]
  },
  {
   "cell_type": "code",
   "execution_count": 161,
   "id": "53f3b37c",
   "metadata": {},
   "outputs": [
    {
     "name": "stderr",
     "output_type": "stream",
     "text": [
      "C:\\Users\\karmi\\AppData\\Local\\Temp\\ipykernel_22416\\3638449123.py:1: SettingWithCopyWarning: \n",
      "A value is trying to be set on a copy of a slice from a DataFrame.\n",
      "Try using .loc[row_indexer,col_indexer] = value instead\n",
      "\n",
      "See the caveats in the documentation: https://pandas.pydata.org/pandas-docs/stable/user_guide/indexing.html#returning-a-view-versus-a-copy\n",
      "  sales_df['Hour'] = sales_df['Order Date'].dt.hour # this way it is easy to answer our question, we can group by hour.\n"
     ]
    }
   ],
   "source": [
    "sales_df['Hour'] = sales_df['Order Date'].dt.hour # this way it is easy to answer our question, we can group by hour."
   ]
  },
  {
   "cell_type": "code",
   "execution_count": 162,
   "id": "4851ab2c",
   "metadata": {},
   "outputs": [],
   "source": [
    "by_hour = sales_df.groupby('Hour')"
   ]
  },
  {
   "cell_type": "code",
   "execution_count": 163,
   "id": "efbb3de6",
   "metadata": {},
   "outputs": [],
   "source": [
    "bsales_summary = by_hour[keys].sum()"
   ]
  },
  {
   "cell_type": "code",
   "execution_count": 164,
   "id": "fd9771f8",
   "metadata": {},
   "outputs": [
    {
     "data": {
      "text/html": [
       "<div>\n",
       "<style scoped>\n",
       "    .dataframe tbody tr th:only-of-type {\n",
       "        vertical-align: middle;\n",
       "    }\n",
       "\n",
       "    .dataframe tbody tr th {\n",
       "        vertical-align: top;\n",
       "    }\n",
       "\n",
       "    .dataframe thead th {\n",
       "        text-align: right;\n",
       "    }\n",
       "</style>\n",
       "<table border=\"1\" class=\"dataframe\">\n",
       "  <thead>\n",
       "    <tr style=\"text-align: right;\">\n",
       "      <th></th>\n",
       "      <th>Quantity Ordered</th>\n",
       "      <th>Sales</th>\n",
       "    </tr>\n",
       "    <tr>\n",
       "      <th>Hour</th>\n",
       "      <th></th>\n",
       "      <th></th>\n",
       "    </tr>\n",
       "  </thead>\n",
       "  <tbody>\n",
       "    <tr>\n",
       "      <th>3</th>\n",
       "      <td>927</td>\n",
       "      <td>145742.94</td>\n",
       "    </tr>\n",
       "  </tbody>\n",
       "</table>\n",
       "</div>"
      ],
      "text/plain": [
       "      Quantity Ordered      Sales\n",
       "Hour                             \n",
       "3                  927  145742.94"
      ]
     },
     "execution_count": 164,
     "metadata": {},
     "output_type": "execute_result"
    }
   ],
   "source": [
    "bsales_summary.sort_values(by=keys, ascending=True).head(1) # worst hour"
   ]
  },
  {
   "cell_type": "code",
   "execution_count": 165,
   "id": "e53405b2",
   "metadata": {},
   "outputs": [
    {
     "data": {
      "text/html": [
       "<div>\n",
       "<style scoped>\n",
       "    .dataframe tbody tr th:only-of-type {\n",
       "        vertical-align: middle;\n",
       "    }\n",
       "\n",
       "    .dataframe tbody tr th {\n",
       "        vertical-align: top;\n",
       "    }\n",
       "\n",
       "    .dataframe thead th {\n",
       "        text-align: right;\n",
       "    }\n",
       "</style>\n",
       "<table border=\"1\" class=\"dataframe\">\n",
       "  <thead>\n",
       "    <tr style=\"text-align: right;\">\n",
       "      <th></th>\n",
       "      <th>Quantity Ordered</th>\n",
       "      <th>Sales</th>\n",
       "    </tr>\n",
       "    <tr>\n",
       "      <th>Hour</th>\n",
       "      <th></th>\n",
       "      <th></th>\n",
       "    </tr>\n",
       "  </thead>\n",
       "  <tbody>\n",
       "    <tr>\n",
       "      <th>19</th>\n",
       "      <td>14451</td>\n",
       "      <td>2411971.14</td>\n",
       "    </tr>\n",
       "  </tbody>\n",
       "</table>\n",
       "</div>"
      ],
      "text/plain": [
       "      Quantity Ordered       Sales\n",
       "Hour                              \n",
       "19               14451  2411971.14"
      ]
     },
     "execution_count": 165,
     "metadata": {},
     "output_type": "execute_result"
    }
   ],
   "source": [
    "bsales_summary.sort_values(by=keys, ascending=False).head(1) # best hour"
   ]
  },
  {
   "cell_type": "code",
   "execution_count": 166,
   "id": "8507e7fd",
   "metadata": {},
   "outputs": [
    {
     "data": {
      "text/plain": [
       "<AxesSubplot:xlabel='Hour', ylabel='Quantity of orders'>"
      ]
     },
     "execution_count": 166,
     "metadata": {},
     "output_type": "execute_result"
    },
    {
     "data": {
      "image/png": "[encoded data removed]",
      "text/plain": [
       "<Figure size 864x576 with 1 Axes>"
      ]
     },
     "metadata": {
      "needs_background": "light"
     },
     "output_type": "display_data"
    }
   ],
   "source": [
    "bsales_summary.plot(kind='line', y='Quantity Ordered', figsize=(12, 8), ylabel='Quantity of orders', grid=True)"
   ]
  },
  {
   "cell_type": "markdown",
   "id": "837ca1b5",
   "metadata": {},
   "source": [
    "We can see that the best hours for ads are in range of 10am-8pm, because these hours are the most occupied by customers based on the number of orders."
   ]
  },
  {
   "cell_type": "markdown",
   "id": "823bb0b6",
   "metadata": {},
   "source": [
    "**Q4. What products are most often sold together?**"
   ]
  },
  {
   "cell_type": "code",
   "execution_count": 167,
   "id": "f7908de5",
   "metadata": {},
   "outputs": [
    {
     "data": {
      "text/html": [
       "<div>\n",
       "<style scoped>\n",
       "    .dataframe tbody tr th:only-of-type {\n",
       "        vertical-align: middle;\n",
       "    }\n",
       "\n",
       "    .dataframe tbody tr th {\n",
       "        vertical-align: top;\n",
       "    }\n",
       "\n",
       "    .dataframe thead th {\n",
       "        text-align: right;\n",
       "    }\n",
       "</style>\n",
       "<table border=\"1\" class=\"dataframe\">\n",
       "  <thead>\n",
       "    <tr style=\"text-align: right;\">\n",
       "      <th></th>\n",
       "      <th>Product</th>\n",
       "      <th>Quantity Ordered</th>\n",
       "      <th>Price Each</th>\n",
       "      <th>Sales</th>\n",
       "      <th>Order Date</th>\n",
       "      <th>Purchase Address</th>\n",
       "      <th>Day</th>\n",
       "      <th>Month</th>\n",
       "      <th>Year</th>\n",
       "      <th>City</th>\n",
       "      <th>Hour</th>\n",
       "    </tr>\n",
       "    <tr>\n",
       "      <th>Order ID</th>\n",
       "      <th></th>\n",
       "      <th></th>\n",
       "      <th></th>\n",
       "      <th></th>\n",
       "      <th></th>\n",
       "      <th></th>\n",
       "      <th></th>\n",
       "      <th></th>\n",
       "      <th></th>\n",
       "      <th></th>\n",
       "      <th></th>\n",
       "    </tr>\n",
       "  </thead>\n",
       "  <tbody>\n",
       "    <tr>\n",
       "      <th>176558</th>\n",
       "      <td>USB-C Charging Cable</td>\n",
       "      <td>2</td>\n",
       "      <td>11.95</td>\n",
       "      <td>23.90</td>\n",
       "      <td>2019-04-19 08:46:00</td>\n",
       "      <td>917 1st St, Dallas, TX 75001</td>\n",
       "      <td>19</td>\n",
       "      <td>4</td>\n",
       "      <td>2019</td>\n",
       "      <td>Dallas (TX)</td>\n",
       "      <td>8</td>\n",
       "    </tr>\n",
       "    <tr>\n",
       "      <th>176559</th>\n",
       "      <td>Bose SoundSport Headphones</td>\n",
       "      <td>1</td>\n",
       "      <td>99.99</td>\n",
       "      <td>99.99</td>\n",
       "      <td>2019-04-07 22:30:00</td>\n",
       "      <td>682 Chestnut St, Boston, MA 02215</td>\n",
       "      <td>7</td>\n",
       "      <td>4</td>\n",
       "      <td>2019</td>\n",
       "      <td>Boston (MA)</td>\n",
       "      <td>22</td>\n",
       "    </tr>\n",
       "    <tr>\n",
       "      <th>176560</th>\n",
       "      <td>Google Phone</td>\n",
       "      <td>1</td>\n",
       "      <td>600.00</td>\n",
       "      <td>600.00</td>\n",
       "      <td>2019-04-12 14:38:00</td>\n",
       "      <td>669 Spruce St, Los Angeles, CA 90001</td>\n",
       "      <td>12</td>\n",
       "      <td>4</td>\n",
       "      <td>2019</td>\n",
       "      <td>Los Angeles (CA)</td>\n",
       "      <td>14</td>\n",
       "    </tr>\n",
       "    <tr>\n",
       "      <th>176560</th>\n",
       "      <td>Wired Headphones</td>\n",
       "      <td>1</td>\n",
       "      <td>11.99</td>\n",
       "      <td>11.99</td>\n",
       "      <td>2019-04-12 14:38:00</td>\n",
       "      <td>669 Spruce St, Los Angeles, CA 90001</td>\n",
       "      <td>12</td>\n",
       "      <td>4</td>\n",
       "      <td>2019</td>\n",
       "      <td>Los Angeles (CA)</td>\n",
       "      <td>14</td>\n",
       "    </tr>\n",
       "    <tr>\n",
       "      <th>176561</th>\n",
       "      <td>Wired Headphones</td>\n",
       "      <td>1</td>\n",
       "      <td>11.99</td>\n",
       "      <td>11.99</td>\n",
       "      <td>2019-04-30 09:27:00</td>\n",
       "      <td>333 8th St, Los Angeles, CA 90001</td>\n",
       "      <td>30</td>\n",
       "      <td>4</td>\n",
       "      <td>2019</td>\n",
       "      <td>Los Angeles (CA)</td>\n",
       "      <td>9</td>\n",
       "    </tr>\n",
       "    <tr>\n",
       "      <th>...</th>\n",
       "      <td>...</td>\n",
       "      <td>...</td>\n",
       "      <td>...</td>\n",
       "      <td>...</td>\n",
       "      <td>...</td>\n",
       "      <td>...</td>\n",
       "      <td>...</td>\n",
       "      <td>...</td>\n",
       "      <td>...</td>\n",
       "      <td>...</td>\n",
       "      <td>...</td>\n",
       "    </tr>\n",
       "    <tr>\n",
       "      <th>259353</th>\n",
       "      <td>AAA Batteries (4-pack)</td>\n",
       "      <td>3</td>\n",
       "      <td>2.99</td>\n",
       "      <td>8.97</td>\n",
       "      <td>2019-09-17 20:56:00</td>\n",
       "      <td>840 Highland St, Los Angeles, CA 90001</td>\n",
       "      <td>17</td>\n",
       "      <td>9</td>\n",
       "      <td>2019</td>\n",
       "      <td>Los Angeles (CA)</td>\n",
       "      <td>20</td>\n",
       "    </tr>\n",
       "    <tr>\n",
       "      <th>259354</th>\n",
       "      <td>iPhone</td>\n",
       "      <td>1</td>\n",
       "      <td>700.00</td>\n",
       "      <td>700.00</td>\n",
       "      <td>2019-09-01 16:00:00</td>\n",
       "      <td>216 Dogwood St, San Francisco, CA 94016</td>\n",
       "      <td>1</td>\n",
       "      <td>9</td>\n",
       "      <td>2019</td>\n",
       "      <td>San Francisco (CA)</td>\n",
       "      <td>16</td>\n",
       "    </tr>\n",
       "    <tr>\n",
       "      <th>259355</th>\n",
       "      <td>iPhone</td>\n",
       "      <td>1</td>\n",
       "      <td>700.00</td>\n",
       "      <td>700.00</td>\n",
       "      <td>2019-09-23 07:39:00</td>\n",
       "      <td>220 12th St, San Francisco, CA 94016</td>\n",
       "      <td>23</td>\n",
       "      <td>9</td>\n",
       "      <td>2019</td>\n",
       "      <td>San Francisco (CA)</td>\n",
       "      <td>7</td>\n",
       "    </tr>\n",
       "    <tr>\n",
       "      <th>259356</th>\n",
       "      <td>34in Ultrawide Monitor</td>\n",
       "      <td>1</td>\n",
       "      <td>379.99</td>\n",
       "      <td>379.99</td>\n",
       "      <td>2019-09-19 17:30:00</td>\n",
       "      <td>511 Forest St, San Francisco, CA 94016</td>\n",
       "      <td>19</td>\n",
       "      <td>9</td>\n",
       "      <td>2019</td>\n",
       "      <td>San Francisco (CA)</td>\n",
       "      <td>17</td>\n",
       "    </tr>\n",
       "    <tr>\n",
       "      <th>259357</th>\n",
       "      <td>USB-C Charging Cable</td>\n",
       "      <td>1</td>\n",
       "      <td>11.95</td>\n",
       "      <td>11.95</td>\n",
       "      <td>2019-09-30 00:18:00</td>\n",
       "      <td>250 Meadow St, San Francisco, CA 94016</td>\n",
       "      <td>30</td>\n",
       "      <td>9</td>\n",
       "      <td>2019</td>\n",
       "      <td>San Francisco (CA)</td>\n",
       "      <td>0</td>\n",
       "    </tr>\n",
       "  </tbody>\n",
       "</table>\n",
       "<p>185686 rows × 11 columns</p>\n",
       "</div>"
      ],
      "text/plain": [
       "                             Product  Quantity Ordered  Price Each   Sales  \\\n",
       "Order ID                                                                     \n",
       "176558          USB-C Charging Cable                 2       11.95   23.90   \n",
       "176559    Bose SoundSport Headphones                 1       99.99   99.99   \n",
       "176560                  Google Phone                 1      600.00  600.00   \n",
       "176560              Wired Headphones                 1       11.99   11.99   \n",
       "176561              Wired Headphones                 1       11.99   11.99   \n",
       "...                              ...               ...         ...     ...   \n",
       "259353        AAA Batteries (4-pack)                 3        2.99    8.97   \n",
       "259354                        iPhone                 1      700.00  700.00   \n",
       "259355                        iPhone                 1      700.00  700.00   \n",
       "259356        34in Ultrawide Monitor                 1      379.99  379.99   \n",
       "259357          USB-C Charging Cable                 1       11.95   11.95   \n",
       "\n",
       "                  Order Date                         Purchase Address  Day  \\\n",
       "Order ID                                                                     \n",
       "176558   2019-04-19 08:46:00             917 1st St, Dallas, TX 75001   19   \n",
       "176559   2019-04-07 22:30:00        682 Chestnut St, Boston, MA 02215    7   \n",
       "176560   2019-04-12 14:38:00     669 Spruce St, Los Angeles, CA 90001   12   \n",
       "176560   2019-04-12 14:38:00     669 Spruce St, Los Angeles, CA 90001   12   \n",
       "176561   2019-04-30 09:27:00        333 8th St, Los Angeles, CA 90001   30   \n",
       "...                      ...                                      ...  ...   \n",
       "259353   2019-09-17 20:56:00   840 Highland St, Los Angeles, CA 90001   17   \n",
       "259354   2019-09-01 16:00:00  216 Dogwood St, San Francisco, CA 94016    1   \n",
       "259355   2019-09-23 07:39:00     220 12th St, San Francisco, CA 94016   23   \n",
       "259356   2019-09-19 17:30:00   511 Forest St, San Francisco, CA 94016   19   \n",
       "259357   2019-09-30 00:18:00   250 Meadow St, San Francisco, CA 94016   30   \n",
       "\n",
       "          Month  Year                 City  Hour  \n",
       "Order ID                                          \n",
       "176558        4  2019          Dallas (TX)     8  \n",
       "176559        4  2019          Boston (MA)    22  \n",
       "176560        4  2019     Los Angeles (CA)    14  \n",
       "176560        4  2019     Los Angeles (CA)    14  \n",
       "176561        4  2019     Los Angeles (CA)     9  \n",
       "...         ...   ...                  ...   ...  \n",
       "259353        9  2019     Los Angeles (CA)    20  \n",
       "259354        9  2019   San Francisco (CA)    16  \n",
       "259355        9  2019   San Francisco (CA)     7  \n",
       "259356        9  2019   San Francisco (CA)    17  \n",
       "259357        9  2019   San Francisco (CA)     0  \n",
       "\n",
       "[185686 rows x 11 columns]"
      ]
     },
     "execution_count": 167,
     "metadata": {},
     "output_type": "execute_result"
    }
   ],
   "source": [
    "sales_df"
   ]
  },
  {
   "cell_type": "code",
   "execution_count": 168,
   "id": "ee6667dc",
   "metadata": {},
   "outputs": [],
   "source": [
    "big_orders_ids = sales_df.index[sales_df.index.duplicated()] # getting order ids of bigger orderds which consist of more than 1 product"
   ]
  },
  {
   "cell_type": "code",
   "execution_count": 169,
   "id": "01ea08fe",
   "metadata": {},
   "outputs": [],
   "source": [
    "big_orders_df = sales_df.loc[big_orders_ids] # creating new dataframe to make our life easier, passing ids of bigger orders."
   ]
  },
  {
   "cell_type": "code",
   "execution_count": 170,
   "id": "7331dfe6",
   "metadata": {},
   "outputs": [],
   "source": [
    "by_orderids = big_orders_df.groupby('Order ID') # grouping by order id so we have all data records for every order"
   ]
  },
  {
   "cell_type": "code",
   "execution_count": 171,
   "id": "5d56bae0",
   "metadata": {},
   "outputs": [],
   "source": [
    "big_orders_df['Grouped'] = by_orderids['Product'].apply(lambda x: ','.join(x)) # adding new column by applying function which concatenate product strings from all matching order ids (thank you to group by)."
   ]
  },
  {
   "cell_type": "markdown",
   "id": "6fc663db",
   "metadata": {},
   "source": [
    "Now the problem is that one combination of product for specific order appears as many times as the number of ordered products. It can make the results messy. We are interested in unique order ids and Grouped column for them."
   ]
  },
  {
   "cell_type": "code",
   "execution_count": 172,
   "id": "3d68cd98",
   "metadata": {},
   "outputs": [],
   "source": [
    "big_orders_final = big_orders_df.reset_index().drop_duplicates(subset='Order ID') # we have to reset index so Order ID becomes normal column and now we can safely remove rows where order ids are duplicated which gives us exactly what we wanted, we still have combinations of products in Grouped column and now it fixes our problem with many occurences."
   ]
  },
  {
   "cell_type": "code",
   "execution_count": 173,
   "id": "94f84518",
   "metadata": {},
   "outputs": [],
   "source": [
    "from itertools import combinations # so we find all the combinations of our pair products\n",
    "from collections import Counter # to count the number of combinations and present it in dict object\n",
    "\n",
    "count = Counter()\n",
    "\n",
    "for row in big_orders_final['Grouped']:\n",
    "    row_list = row.split(',')\n",
    "    count.update(Counter(combinations(row_list, 2)))\n",
    "\n",
    "pairs_results = dict(count.most_common(10)) "
   ]
  },
  {
   "cell_type": "code",
   "execution_count": 174,
   "id": "3d36ffc8",
   "metadata": {},
   "outputs": [],
   "source": [
    "pairs_results_df = pd.DataFrame(data=pairs_results.items())"
   ]
  },
  {
   "cell_type": "code",
   "execution_count": 175,
   "id": "8e5a74eb",
   "metadata": {},
   "outputs": [],
   "source": [
    "pairs_results_df[0] = pairs_results_df[0].apply(lambda x: ', '.join(x))"
   ]
  },
  {
   "cell_type": "code",
   "execution_count": 176,
   "id": "af957ece",
   "metadata": {},
   "outputs": [],
   "source": [
    "pairs_results_df.rename(columns={0:'Products', 1:'Orders'}, inplace=True)"
   ]
  },
  {
   "cell_type": "code",
   "execution_count": 177,
   "id": "1953b318",
   "metadata": {},
   "outputs": [
    {
     "data": {
      "text/plain": [
       "<AxesSubplot:xlabel='Products'>"
      ]
     },
     "execution_count": 177,
     "metadata": {},
     "output_type": "execute_result"
    },
    {
     "data": {
      "image/png": "[encoded data removed]",
      "text/plain": [
       "<Figure size 864x576 with 1 Axes>"
      ]
     },
     "metadata": {
      "needs_background": "light"
     },
     "output_type": "display_data"
    }
   ],
   "source": [
    "pairs_results_df.plot.bar(x='Products', figsize=(12, 8))"
   ]
  },
  {
   "cell_type": "markdown",
   "id": "aa974df0",
   "metadata": {},
   "source": [
    "**Q5. What product sold the most? Why do you think it sold the most?**"
   ]
  },
  {
   "cell_type": "code",
   "execution_count": 178,
   "id": "a03ad39c",
   "metadata": {},
   "outputs": [],
   "source": [
    "by_product = sales_df.groupby('Product')"
   ]
  },
  {
   "cell_type": "code",
   "execution_count": 179,
   "id": "d677ddc1",
   "metadata": {},
   "outputs": [],
   "source": [
    "psales_summary = by_product['Quantity Ordered'].sum()"
   ]
  },
  {
   "cell_type": "code",
   "execution_count": 180,
   "id": "ede39107",
   "metadata": {},
   "outputs": [],
   "source": [
    "psales_summary_sorted = psales_summary.sort_values(ascending=False)"
   ]
  },
  {
   "cell_type": "code",
   "execution_count": 181,
   "id": "4dadf802",
   "metadata": {},
   "outputs": [
    {
     "data": {
      "text/plain": [
       "<AxesSubplot:ylabel='Product'>"
      ]
     },
     "execution_count": 181,
     "metadata": {},
     "output_type": "execute_result"
    },
    {
     "data": {
      "image/png": "[encoded data removed]",
      "text/plain": [
       "<Figure size 864x576 with 1 Axes>"
      ]
     },
     "metadata": {
      "needs_background": "light"
     },
     "output_type": "display_data"
    }
   ],
   "source": [
    "psales_summary_sorted.plot(kind='barh', figsize=(12,8))"
   ]
  },
  {
   "cell_type": "code",
   "execution_count": 182,
   "id": "84acd31f",
   "metadata": {},
   "outputs": [],
   "source": [
    "top5_products = psales_summary_sorted.head(5)"
   ]
  },
  {
   "cell_type": "code",
   "execution_count": 183,
   "id": "086335c0",
   "metadata": {},
   "outputs": [
    {
     "data": {
      "text/plain": [
       "<AxesSubplot:ylabel='Product'>"
      ]
     },
     "execution_count": 183,
     "metadata": {},
     "output_type": "execute_result"
    },
    {
     "data": {
      "image/png": "[encoded data removed]",
      "text/plain": [
       "<Figure size 864x576 with 1 Axes>"
      ]
     },
     "metadata": {
      "needs_background": "light"
     },
     "output_type": "display_data"
    }
   ],
   "source": [
    "top5_products.plot(kind='barh', ylabel='Quantity', figsize=(12,8))"
   ]
  },
  {
   "cell_type": "markdown",
   "id": "82bcbf42",
   "metadata": {},
   "source": [
    "The most often sold product happens to be 4-pack of AAA batteries. Probably because they are cheap and pretty much needed for vast majority of handly electronic devices. In top 5 we can also see charging cables and wired headphones, both of them are the most common smartphone accessories."
   ]
  },
  {
   "cell_type": "code",
   "execution_count": 184,
   "id": "4dd20032",
   "metadata": {},
   "outputs": [],
   "source": [
    "psales_summary_prices = by_product['Price Each'].mean()"
   ]
  },
  {
   "cell_type": "code",
   "execution_count": 185,
   "id": "aaf2d1c9",
   "metadata": {},
   "outputs": [
    {
     "name": "stderr",
     "output_type": "stream",
     "text": [
      "C:\\Users\\karmi\\AppData\\Local\\Temp\\ipykernel_22416\\969899436.py:13: UserWarning: FixedFormatter should only be used together with FixedLocator\n",
      "  ax1.set_xticklabels(psales_summary_prices.index, rotation='vertical', size=12)\n"
     ]
    },
    {
     "data": {
      "image/png": "[encoded data removed]",
      "text/plain": [
       "<Figure size 864x576 with 2 Axes>"
      ]
     },
     "metadata": {
      "needs_background": "light"
     },
     "output_type": "display_data"
    }
   ],
   "source": [
    "# to make a more advanced chart we have to use standard matplotlib and not just pandas wrapper.\n",
    "fig, ax1 = plt.subplots(figsize=(12,8))\n",
    "\n",
    "#axes\n",
    "ax2 = ax1.twinx()\n",
    "ax1.bar(psales_summary.index, psales_summary.values, color='black')\n",
    "ax2.plot(psales_summary_prices.index, psales_summary_prices.values, color='g')\n",
    "\n",
    "#labels\n",
    "ax1.set_xlabel('Product Name')\n",
    "ax1.set_ylabel('Quantity Ordered', color='black')\n",
    "ax2.set_ylabel('Price USD', color='g')\n",
    "ax1.set_xticklabels(psales_summary_prices.index, rotation='vertical', size=12)\n",
    "\n",
    "\n",
    "plt.show()"
   ]
  },
  {
   "cell_type": "markdown",
   "id": "b0636498",
   "metadata": {},
   "source": [
    "As we can see the quantity of orders is lower when the product price is higher and vice versa. The exception may be both Macbook Pro and ThinkPad Laptops. The price is very high and yet people still buy them pretty often. It is probably because the laptop/computer is pretty much needed in todays world and both Apple and Lenovo are one of the most known and popular companies."
   ]
  },
  {
   "cell_type": "code",
   "execution_count": null,
   "id": "5a5f02c9",
   "metadata": {},
   "outputs": [],
   "source": []
  }
 ],
 "metadata": {
  "kernelspec": {
   "display_name": "Python 3 (ipykernel)",
   "language": "python",
   "name": "python3"
  },
  "language_info": {
   "codemirror_mode": {
    "name": "ipython",
    "version": 3
   },
   "file_extension": ".py",
   "mimetype": "text/x-python",
   "name": "python",
   "nbconvert_exporter": "python",
   "pygments_lexer": "ipython3",
   "version": "3.10.0"
  }
 },
 "nbformat": 4,
 "nbformat_minor": 5
}
